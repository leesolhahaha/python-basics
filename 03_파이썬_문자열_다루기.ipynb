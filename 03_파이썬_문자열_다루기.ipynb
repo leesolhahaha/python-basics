{
  "nbformat": 4,
  "nbformat_minor": 0,
  "metadata": {
    "colab": {
      "provenance": [],
      "authorship_tag": "ABX9TyMM+QlLPa20wXjyMtYMNj5x",
      "include_colab_link": true
    },
    "kernelspec": {
      "name": "python3",
      "display_name": "Python 3"
    },
    "language_info": {
      "name": "python"
    }
  },
  "cells": [
    {
      "cell_type": "markdown",
      "metadata": {
        "id": "view-in-github",
        "colab_type": "text"
      },
      "source": [
        "<a href=\"https://colab.research.google.com/github/leesolhahaha/python-basics/blob/main/03_%ED%8C%8C%EC%9D%B4%EC%8D%AC_%EB%AC%B8%EC%9E%90%EC%97%B4_%EB%8B%A4%EB%A3%A8%EA%B8%B0.ipynb\" target=\"_parent\"><img src=\"https://colab.research.google.com/assets/colab-badge.svg\" alt=\"Open In Colab\"/></a>"
      ]
    },
    {
      "cell_type": "markdown",
      "source": [
        "# 문자열이란?\n",
        "- 문자들이 열거 되어있으면 문자열 (str)\n",
        "- 열거가 되어 있다? 연속되어있다. 순서가 있다.\n",
        "  - Sequence라고 한다.\n",
        "- 여러개의 문자를 순서대로 나열한것\n",
        "- 순서가 있다? 순번이 있다.\n",
        "- 순번을 index라고 한다\n",
        " - 문자열은 문자의 Sequence다"
      ],
      "metadata": {
        "id": "Q1hwKNNgcKKL"
      }
    },
    {
      "cell_type": "code",
      "source": [
        "name1 = \"minho1\"\n",
        "name2 = \"minho2\""
      ],
      "metadata": {
        "id": "yyq7AaGSdvtu"
      },
      "execution_count": null,
      "outputs": []
    },
    {
      "cell_type": "code",
      "source": [
        "# 이스케이프 문자는 백슬러시(\\)을 사용하는 특수한 문자\n",
        "# text = \"제 이름은 \"소민호\"입니다.\" # Error\n",
        "text = \"제 이름은 \\\"소민호\\\"입니다.\"\n",
        "print(text)"
      ],
      "metadata": {
        "colab": {
          "base_uri": "https://localhost:8080/"
        },
        "id": "Nw_KTSeCeDNg",
        "outputId": "a151d486-5a76-4e2d-eec1-f00bbe9d5d32"
      },
      "execution_count": null,
      "outputs": [
        {
          "output_type": "stream",
          "name": "stdout",
          "text": [
            "제 이름은 \"소민호\"입니다.\n"
          ]
        }
      ]
    },
    {
      "cell_type": "code",
      "source": [
        "# 개행을 위한 이스케이프 문자 (\\n)\n",
        "text = \"안녕하세요. \\n반갑습니다.\"\n",
        "print(text)"
      ],
      "metadata": {
        "colab": {
          "base_uri": "https://localhost:8080/"
        },
        "id": "RF70Ar7bekW7",
        "outputId": "accdccae-3ce0-4d24-be91-0fdbb73696e9"
      },
      "execution_count": null,
      "outputs": [
        {
          "output_type": "stream",
          "name": "stdout",
          "text": [
            "안녕하세요. \n",
            "반갑습니다.\n"
          ]
        }
      ]
    },
    {
      "cell_type": "code",
      "source": [
        "# 탭을 위한 이스케이프 문자 (\\t 8칸 떨어지게 되는 것)\n",
        "text = \"안녕하세요. \\t\\t반갑습니다.\" # 탭 두번 썼으니까 16칸 떨어진 거\n",
        "print(text)"
      ],
      "metadata": {
        "colab": {
          "base_uri": "https://localhost:8080/"
        },
        "id": "EN5s6zxte63B",
        "outputId": "2be1eaf9-3150-4b20-deec-8840436bb127"
      },
      "execution_count": null,
      "outputs": [
        {
          "output_type": "stream",
          "name": "stdout",
          "text": [
            "안녕하세요. \t\t반갑습니다.\n"
          ]
        }
      ]
    },
    {
      "cell_type": "markdown",
      "source": [
        "## Doc String\n",
        " - 따옴표를 3개 이어서 쓰면 됨 '''문자열''', \"\"\"문자열\"\"\".\n",
        " Doc String 안에 위치한 문자열은 **무조건 적은대로 표현됨**"
      ],
      "metadata": {
        "id": "_5PDD_fYfOLJ"
      }
    },
    {
      "cell_type": "code",
      "source": [
        "text = '''I said, I'm Student'''\n",
        "print(text)"
      ],
      "metadata": {
        "colab": {
          "base_uri": "https://localhost:8080/"
        },
        "id": "Xv_R-lUIgvMS",
        "outputId": "b31c3ddb-c57f-4634-fa05-511b14ff847f"
      },
      "execution_count": null,
      "outputs": [
        {
          "output_type": "stream",
          "name": "stdout",
          "text": [
            "I said, I'm Student\n"
          ]
        }
      ]
    },
    {
      "cell_type": "code",
      "source": [
        "text = \"\"\"안녕\n",
        "하세요\n",
        "반갑\n",
        "습니다.\"\"\"\n",
        "print(text)"
      ],
      "metadata": {
        "colab": {
          "base_uri": "https://localhost:8080/"
        },
        "id": "kaw9XdwMguRn",
        "outputId": "940d9ce2-7b8c-4b44-c736-3c8aa23fe297"
      },
      "execution_count": null,
      "outputs": [
        {
          "output_type": "stream",
          "name": "stdout",
          "text": [
            "안녕\n",
            "하세요\n",
            "반갑\n",
            "습니다.\n"
          ]
        }
      ]
    },
    {
      "cell_type": "code",
      "source": [
        "text"
      ],
      "metadata": {
        "colab": {
          "base_uri": "https://localhost:8080/",
          "height": 35
        },
        "id": "VyUpfQhzho4D",
        "outputId": "dc7a9cb2-4257-4888-8482-cf1384ec3e1b"
      },
      "execution_count": null,
      "outputs": [
        {
          "output_type": "execute_result",
          "data": {
            "text/plain": [
              "'안녕\\n하세요\\n반갑\\n습니다.'"
            ],
            "application/vnd.google.colaboratory.intrinsic+json": {
              "type": "string"
            }
          },
          "metadata": {},
          "execution_count": 9
        }
      ]
    },
    {
      "cell_type": "markdown",
      "source": [
        "## 시퀀스 다루기\n",
        " - 문자열은 Sequece\n",
        "- Sequece는 순번이 있다.\n",
        "  - 순번을 Offset Index\n",
        "\n",
        "- 파이썬의 인덱스는 두 종류가 있다.\n",
        "  - 양수 인덱스\n",
        "    - 0부터 시작\n",
        "    - 왼쪽부터 오른쪽으로 1씩 증가\n",
        " - 음수 인덱스\n",
        "     - -1부터 시작\n",
        "     - 오른쪽에서 왼쪽으로 1씩 감소\n",
        "\n",
        "- 인덱스는 무조건 정수"
      ],
      "metadata": {
        "id": "R_NNN1OShsvb"
      }
    },
    {
      "cell_type": "code",
      "source": [
        "text = \"Hello Hankyung\"\n",
        "print(text)"
      ],
      "metadata": {
        "colab": {
          "base_uri": "https://localhost:8080/"
        },
        "id": "ec5KOD05i3Ui",
        "outputId": "19b78fc6-a9e7-4439-e5c0-a996d83dc32c"
      },
      "execution_count": null,
      "outputs": [
        {
          "output_type": "stream",
          "name": "stdout",
          "text": [
            "Hello Hankyung\n"
          ]
        }
      ]
    },
    {
      "cell_type": "code",
      "source": [
        "# 시퀀스의 크기 (길이)를 잴 수 잇는 함수 - len\n",
        "len(text) # text의 길이를 확인"
      ],
      "metadata": {
        "colab": {
          "base_uri": "https://localhost:8080/"
        },
        "id": "TDpJM01kjBjs",
        "outputId": "04ca87b0-c362-4ab6-aca5-c6e8bda117c4"
      },
      "execution_count": null,
      "outputs": [
        {
          "output_type": "execute_result",
          "data": {
            "text/plain": [
              "14"
            ]
          },
          "metadata": {},
          "execution_count": 11
        }
      ]
    },
    {
      "cell_type": "code",
      "source": [
        "a = 10 # 이건 시퀀스가 아님 길이 못읽음\n",
        "a = \"10\" #이건 시퀀스\n",
        "len(a)"
      ],
      "metadata": {
        "colab": {
          "base_uri": "https://localhost:8080/"
        },
        "id": "uZ0yCqirjOwj",
        "outputId": "e5d25551-303a-46d2-c15f-6312c954d3c3"
      },
      "execution_count": null,
      "outputs": [
        {
          "output_type": "execute_result",
          "data": {
            "text/plain": [
              "2"
            ]
          },
          "metadata": {},
          "execution_count": 13
        }
      ]
    },
    {
      "cell_type": "markdown",
      "source": [
        "# 시퀀스 내의 데이터를 인덱스로 접근할 수 있다.\n",
        "# []안에 인덱스를 집어넣어서 접근!\n",
        "# Hello Hankyung\n",
        "\n",
        "print(text[6])"
      ],
      "metadata": {
        "id": "HwuRtN7CjXHQ"
      }
    },
    {
      "cell_type": "code",
      "source": [
        "print(text[-1])"
      ],
      "metadata": {
        "colab": {
          "base_uri": "https://localhost:8080/"
        },
        "id": "HrIk7ogsjzEy",
        "outputId": "009ef899-ebc9-47cb-8cd6-17cca0bdcb4a"
      },
      "execution_count": null,
      "outputs": [
        {
          "output_type": "stream",
          "name": "stdout",
          "text": [
            "g\n"
          ]
        }
      ]
    },
    {
      "cell_type": "code",
      "source": [
        "print(text[-11])"
      ],
      "metadata": {
        "colab": {
          "base_uri": "https://localhost:8080/"
        },
        "id": "ImWismQAj3Tb",
        "outputId": "036e7054-76fd-446d-aeaf-44268ea410ad"
      },
      "execution_count": null,
      "outputs": [
        {
          "output_type": "stream",
          "name": "stdout",
          "text": [
            "l\n"
          ]
        }
      ]
    },
    {
      "cell_type": "code",
      "source": [
        "text[14] #index out of range 인덱스의 범위나 선택을 더 많이하는 경우 나오는 에러"
      ],
      "metadata": {
        "colab": {
          "base_uri": "https://localhost:8080/",
          "height": 146
        },
        "collapsed": true,
        "id": "kZ0nOhBgj_5C",
        "outputId": "0fe0c866-3ae4-4ecb-989e-42c690e61a72"
      },
      "execution_count": null,
      "outputs": [
        {
          "output_type": "error",
          "ename": "IndexError",
          "evalue": "string index out of range",
          "traceback": [
            "\u001b[0;31m---------------------------------------------------------------------------\u001b[0m",
            "\u001b[0;31mIndexError\u001b[0m                                Traceback (most recent call last)",
            "\u001b[0;32m<ipython-input-17-4276a337c9bf>\u001b[0m in \u001b[0;36m<cell line: 1>\u001b[0;34m()\u001b[0m\n\u001b[0;32m----> 1\u001b[0;31m \u001b[0mtext\u001b[0m\u001b[0;34m[\u001b[0m\u001b[0;36m14\u001b[0m\u001b[0;34m]\u001b[0m\u001b[0;34m\u001b[0m\u001b[0;34m\u001b[0m\u001b[0m\n\u001b[0m",
            "\u001b[0;31mIndexError\u001b[0m: string index out of range"
          ]
        }
      ]
    },
    {
      "cell_type": "markdown",
      "source": [],
      "metadata": {
        "id": "M-4YjhnShb6L"
      }
    },
    {
      "cell_type": "markdown",
      "source": [
        "## 슬라이싱(Slicing) 중요!!\n",
        " - 인덱스를 사용해서 시퀀스를 잘라낸다.\n",
        " - 잘라서 새로운 시퀀스를 만들어 낸다.\n",
        " - [start : end : step]\n",
        "    - start ~ end-1 부분을 step만큼 건너 뛰면서 잘라낸다.\n",
        "    \n",
        "- 카피의 개념"
      ],
      "metadata": {
        "id": "U0Jg600mkPfX"
      }
    },
    {
      "cell_type": "code",
      "source": [
        "text = \"안녕하세요!반갑습니다\"\n",
        "print(text)"
      ],
      "metadata": {
        "colab": {
          "base_uri": "https://localhost:8080/"
        },
        "id": "EUrtSdQ1ncFG",
        "outputId": "8774fb5c-23d1-4727-e8a5-a7bbb0548651"
      },
      "execution_count": null,
      "outputs": [
        {
          "output_type": "stream",
          "name": "stdout",
          "text": [
            "안녕하세요!반갑습니다\n"
          ]
        }
      ]
    },
    {
      "cell_type": "code",
      "source": [
        "# start -> 0, end -> 3 ==> 0~2번까지 잘라낸다.\n",
        "text[0 : 3]"
      ],
      "metadata": {
        "colab": {
          "base_uri": "https://localhost:8080/",
          "height": 35
        },
        "id": "CG57QE9OnnOT",
        "outputId": "9585859a-57ab-4238-9313-ff24262ba854"
      },
      "execution_count": null,
      "outputs": [
        {
          "output_type": "execute_result",
          "data": {
            "text/plain": [
              "'안녕하'"
            ],
            "application/vnd.google.colaboratory.intrinsic+json": {
              "type": "string"
            }
          },
          "metadata": {},
          "execution_count": 19
        }
      ]
    },
    {
      "cell_type": "code",
      "source": [
        "text[3 : 500] # end 인덱스 범위를 넘어가게 되면 제일 마지막까지 잘라냄"
      ],
      "metadata": {
        "colab": {
          "base_uri": "https://localhost:8080/",
          "height": 35
        },
        "id": "HYN0ZwOBnwEr",
        "outputId": "dbada5db-79c9-4b0a-a375-f54819ab5080"
      },
      "execution_count": null,
      "outputs": [
        {
          "output_type": "execute_result",
          "data": {
            "text/plain": [
              "'세요!반갑습니다'"
            ],
            "application/vnd.google.colaboratory.intrinsic+json": {
              "type": "string"
            }
          },
          "metadata": {},
          "execution_count": 20
        }
      ]
    },
    {
      "cell_type": "code",
      "source": [
        "text[3 : 9]"
      ],
      "metadata": {
        "colab": {
          "base_uri": "https://localhost:8080/",
          "height": 35
        },
        "id": "JN0B2QOGoABQ",
        "outputId": "c358e41a-faae-4c50-a2b1-04ad1d12accf"
      },
      "execution_count": null,
      "outputs": [
        {
          "output_type": "execute_result",
          "data": {
            "text/plain": [
              "'세요!반갑습'"
            ],
            "application/vnd.google.colaboratory.intrinsic+json": {
              "type": "string"
            }
          },
          "metadata": {},
          "execution_count": 21
        }
      ]
    },
    {
      "cell_type": "code",
      "source": [
        "text[3 : -2] # -2-1=-3이나까, 습(-3)까지 잘린다."
      ],
      "metadata": {
        "colab": {
          "base_uri": "https://localhost:8080/",
          "height": 35
        },
        "id": "tJC4ek9_oRst",
        "outputId": "229c2ff3-0e27-4cc4-d350-d06b684341e8"
      },
      "execution_count": null,
      "outputs": [
        {
          "output_type": "execute_result",
          "data": {
            "text/plain": [
              "'세요!반갑습'"
            ],
            "application/vnd.google.colaboratory.intrinsic+json": {
              "type": "string"
            }
          },
          "metadata": {},
          "execution_count": 24
        }
      ]
    },
    {
      "cell_type": "markdown",
      "source": [
        "- start, end, step은 생략가능"
      ],
      "metadata": {
        "id": "QW1ph1gvotOr"
      }
    },
    {
      "cell_type": "code",
      "source": [
        "# end를 생략한 경우\n",
        "text[3 : ] # text[3: len(text)]"
      ],
      "metadata": {
        "colab": {
          "base_uri": "https://localhost:8080/",
          "height": 35
        },
        "id": "VpPsUD1ZpKva",
        "outputId": "7bd45d2e-c2c0-4855-a374-79ab58fe6d11"
      },
      "execution_count": null,
      "outputs": [
        {
          "output_type": "execute_result",
          "data": {
            "text/plain": [
              "'세요!반갑습니다'"
            ],
            "application/vnd.google.colaboratory.intrinsic+json": {
              "type": "string"
            }
          },
          "metadata": {},
          "execution_count": 30
        }
      ]
    },
    {
      "cell_type": "code",
      "source": [
        "# start를 생략한 경우\n",
        "text[:5]"
      ],
      "metadata": {
        "colab": {
          "base_uri": "https://localhost:8080/",
          "height": 35
        },
        "id": "k1l22eGRpTYD",
        "outputId": "cbdfc20f-6bf5-4d3e-f3eb-b3433ca481ec"
      },
      "execution_count": null,
      "outputs": [
        {
          "output_type": "execute_result",
          "data": {
            "text/plain": [
              "'안녕하세요'"
            ],
            "application/vnd.google.colaboratory.intrinsic+json": {
              "type": "string"
            }
          },
          "metadata": {},
          "execution_count": 26
        }
      ]
    },
    {
      "cell_type": "code",
      "source": [
        "text[:]"
      ],
      "metadata": {
        "colab": {
          "base_uri": "https://localhost:8080/",
          "height": 35
        },
        "id": "zVcE5DRQpfA-",
        "outputId": "a6d79173-a25f-493b-add8-887d55d85241"
      },
      "execution_count": null,
      "outputs": [
        {
          "output_type": "execute_result",
          "data": {
            "text/plain": [
              "'안녕하세요!반갑습니다'"
            ],
            "application/vnd.google.colaboratory.intrinsic+json": {
              "type": "string"
            }
          },
          "metadata": {},
          "execution_count": 27
        }
      ]
    },
    {
      "cell_type": "markdown",
      "source": [
        "위와 아래의 다른 점은 다른 객체라는 점에서 다른 것임\n",
        "\n",
        "메모리 주소값이 생성될때 할당이 되는데 위와 아래의 메모리 주솟값이 다름.\n",
        "\n",
        "슬라이스를 쓰는순간 값은 같지만 다른 객체라는 것임\n",
        "\n",
        "동명이인 생각하면 됨 카피의 개념\n",
        "\n",
        "원본데이터를 변경하거나 백업해서 변경하는 경우가 생길 수 있기때문에 카피의 개념이 중요함\n",
        "\n",
        "단점은 메모리 저장량이 커짐"
      ],
      "metadata": {
        "id": "Yet8M5oipsi7"
      }
    },
    {
      "cell_type": "code",
      "source": [
        "text"
      ],
      "metadata": {
        "colab": {
          "base_uri": "https://localhost:8080/",
          "height": 35
        },
        "id": "yiqcr_YRpghR",
        "outputId": "ecee8695-4076-4499-8af1-96bc94a0211c"
      },
      "execution_count": null,
      "outputs": [
        {
          "output_type": "execute_result",
          "data": {
            "text/plain": [
              "'안녕하세요!반갑습니다'"
            ],
            "application/vnd.google.colaboratory.intrinsic+json": {
              "type": "string"
            }
          },
          "metadata": {},
          "execution_count": 31
        }
      ]
    },
    {
      "cell_type": "code",
      "source": [
        "text[:-5]"
      ],
      "metadata": {
        "colab": {
          "base_uri": "https://localhost:8080/",
          "height": 35
        },
        "id": "mn21_bSbppby",
        "outputId": "8cc9d732-66e3-4bd4-a669-27754fc27b0d"
      },
      "execution_count": null,
      "outputs": [
        {
          "output_type": "execute_result",
          "data": {
            "text/plain": [
              "'안녕하세요!'"
            ],
            "application/vnd.google.colaboratory.intrinsic+json": {
              "type": "string"
            }
          },
          "metadata": {},
          "execution_count": 32
        }
      ]
    },
    {
      "cell_type": "code",
      "source": [
        "text[-5 : -1]"
      ],
      "metadata": {
        "colab": {
          "base_uri": "https://localhost:8080/",
          "height": 35
        },
        "id": "Ag9b4GOvqjGi",
        "outputId": "c2bfd797-f1e1-4ef9-d51f-879dde5ca8c4"
      },
      "execution_count": null,
      "outputs": [
        {
          "output_type": "execute_result",
          "data": {
            "text/plain": [
              "'반갑습니'"
            ],
            "application/vnd.google.colaboratory.intrinsic+json": {
              "type": "string"
            }
          },
          "metadata": {},
          "execution_count": 33
        }
      ]
    },
    {
      "cell_type": "code",
      "source": [
        "# 음수 인덱스를 사용하는 것이 양수 인덱스 활용보다 효과적인 경우\n",
        "image_file_full_name = \"my_profile_good_filtered.jpg\"\n",
        "image_file_full_name[ : -4]\n"
      ],
      "metadata": {
        "colab": {
          "base_uri": "https://localhost:8080/",
          "height": 35
        },
        "id": "2_w-1_Enqllx",
        "outputId": "da9119cb-05d2-412e-8d14-bf28755c063d"
      },
      "execution_count": null,
      "outputs": [
        {
          "output_type": "execute_result",
          "data": {
            "text/plain": [
              "'my_profile_good_filtered'"
            ],
            "application/vnd.google.colaboratory.intrinsic+json": {
              "type": "string"
            }
          },
          "metadata": {},
          "execution_count": 35
        }
      ]
    },
    {
      "cell_type": "markdown",
      "source": [
        "## step\n",
        "- 지정한 숫자만큼 넌너 뛰면서 슬라이싱\n",
        "- step을 생략하면 기본적으로 1이 주어짐\n",
        "- 부호(양수,음수)를 이용해서 방향 설정도 가능\n",
        "  - 양수 : 정방향(왼쪽에서 오른쪽)\n",
        "  - 음수 : 정방향(오른쪽에서 왼쪽)\n",
        "  "
      ],
      "metadata": {
        "id": "GQeYRuTlrWMd"
      }
    },
    {
      "cell_type": "code",
      "source": [
        "text[: :2]"
      ],
      "metadata": {
        "colab": {
          "base_uri": "https://localhost:8080/",
          "height": 35
        },
        "id": "L7L1S2E_r2dX",
        "outputId": "98bf92b9-f37f-4f26-a35d-777b5f9a85dc"
      },
      "execution_count": null,
      "outputs": [
        {
          "output_type": "execute_result",
          "data": {
            "text/plain": [
              "'안하요반습다'"
            ],
            "application/vnd.google.colaboratory.intrinsic+json": {
              "type": "string"
            }
          },
          "metadata": {},
          "execution_count": 36
        }
      ]
    },
    {
      "cell_type": "code",
      "source": [
        "#안녕하세요!반갑습니다\n",
        "text[::3]"
      ],
      "metadata": {
        "colab": {
          "base_uri": "https://localhost:8080/",
          "height": 35
        },
        "id": "l5v1MICwr5Hc",
        "outputId": "c4550458-caeb-4143-9528-1e71a13c920a"
      },
      "execution_count": null,
      "outputs": [
        {
          "output_type": "execute_result",
          "data": {
            "text/plain": [
              "'안세반니'"
            ],
            "application/vnd.google.colaboratory.intrinsic+json": {
              "type": "string"
            }
          },
          "metadata": {},
          "execution_count": 37
        }
      ]
    },
    {
      "cell_type": "code",
      "source": [
        "text[3:8:2]"
      ],
      "metadata": {
        "colab": {
          "base_uri": "https://localhost:8080/",
          "height": 35
        },
        "id": "fxXP2Di8sIyA",
        "outputId": "b6fe169a-f1b3-402b-8725-fb2a2626c581"
      },
      "execution_count": null,
      "outputs": [
        {
          "output_type": "execute_result",
          "data": {
            "text/plain": [
              "'세!갑'"
            ],
            "application/vnd.google.colaboratory.intrinsic+json": {
              "type": "string"
            }
          },
          "metadata": {},
          "execution_count": 38
        }
      ]
    },
    {
      "cell_type": "code",
      "source": [
        "text[::-1] # 문자열 리버스"
      ],
      "metadata": {
        "colab": {
          "base_uri": "https://localhost:8080/",
          "height": 35
        },
        "id": "6DLvyNH8seRM",
        "outputId": "ae6f25f8-077e-415a-e039-63a7693a9fb5"
      },
      "execution_count": null,
      "outputs": [
        {
          "output_type": "execute_result",
          "data": {
            "text/plain": [
              "'다니습갑반!요세하녕안'"
            ],
            "application/vnd.google.colaboratory.intrinsic+json": {
              "type": "string"
            }
          },
          "metadata": {},
          "execution_count": 39
        }
      ]
    },
    {
      "cell_type": "code",
      "source": [
        "text[::-2]"
      ],
      "metadata": {
        "colab": {
          "base_uri": "https://localhost:8080/",
          "height": 35
        },
        "id": "ji_aI9j7sxRs",
        "outputId": "dc77003a-48fe-4caf-c6ba-70dcfd1e9f00"
      },
      "execution_count": null,
      "outputs": [
        {
          "output_type": "execute_result",
          "data": {
            "text/plain": [
              "'다습반요하안'"
            ],
            "application/vnd.google.colaboratory.intrinsic+json": {
              "type": "string"
            }
          },
          "metadata": {},
          "execution_count": 40
        }
      ]
    },
    {
      "cell_type": "code",
      "source": [
        "text[8:3:-2] #스텝에 음수가 붙는 순간 다 리버스되기 때문에 0번도 아예 뒤집어 지는 걸로 되는 것임. 인덱스도 뒤집어 진다고 생각하면 됨 '다니습갑반!요세하녕안'에서 안부터 0으로 된다"
      ],
      "metadata": {
        "colab": {
          "base_uri": "https://localhost:8080/",
          "height": 35
        },
        "id": "IVt-rOGctAhQ",
        "outputId": "a75d92b0-aad1-45a6-a591-8f5d66346028"
      },
      "execution_count": null,
      "outputs": [
        {
          "output_type": "execute_result",
          "data": {
            "text/plain": [
              "'습반요'"
            ],
            "application/vnd.google.colaboratory.intrinsic+json": {
              "type": "string"
            }
          },
          "metadata": {},
          "execution_count": 41
        }
      ]
    },
    {
      "cell_type": "code",
      "source": [
        "text[-3:-8:-2] #start는 원래 항상 end보다 작아야하는 건데 음수로 뒤집어졌기때문에 됨 '다니습갑반!요세하녕안'에서 다가 -1으로 되는 것"
      ],
      "metadata": {
        "colab": {
          "base_uri": "https://localhost:8080/",
          "height": 35
        },
        "id": "Y2v9pbZwtPxc",
        "outputId": "65c63b0c-f5de-4ca9-c782-bc082b53d0af"
      },
      "execution_count": null,
      "outputs": [
        {
          "output_type": "execute_result",
          "data": {
            "text/plain": [
              "'습반요'"
            ],
            "application/vnd.google.colaboratory.intrinsic+json": {
              "type": "string"
            }
          },
          "metadata": {},
          "execution_count": 42
        }
      ]
    },
    {
      "cell_type": "markdown",
      "source": [
        "# 문자열 함수\n",
        "파이선에는 문자열을 다룰 수 있는 여러 기능(함수)를 제공"
      ],
      "metadata": {
        "id": "ZWYqm_evt8hG"
      }
    },
    {
      "cell_type": "code",
      "source": [
        "text1 = \"hello\"\n",
        "text2 = \"world\""
      ],
      "metadata": {
        "id": "b5MlTTRz7UZE"
      },
      "execution_count": null,
      "outputs": []
    },
    {
      "cell_type": "markdown",
      "source": [
        "## 문자 이어붙이기"
      ],
      "metadata": {
        "id": "uKKqLRBU7hrH"
      }
    },
    {
      "cell_type": "code",
      "source": [
        "print(text1 + text2)"
      ],
      "metadata": {
        "colab": {
          "base_uri": "https://localhost:8080/"
        },
        "id": "84nfY9bP7lj4",
        "outputId": "c5ce904f-7a9a-4bf3-e76a-7ea83590042d"
      },
      "execution_count": null,
      "outputs": [
        {
          "output_type": "stream",
          "name": "stdout",
          "text": [
            "helloworld\n"
          ]
        }
      ]
    },
    {
      "cell_type": "code",
      "source": [
        "# 문자열 끼리만 이어 붙일 수 있다.\n",
        "# text1 + 10 은 int(10)가 있기 때문에 에러가 뜸\n",
        "text1 + \"10\""
      ],
      "metadata": {
        "colab": {
          "base_uri": "https://localhost:8080/",
          "height": 35
        },
        "id": "vkJ-BSM57t03",
        "outputId": "7df3173c-efbb-49f3-83c7-e492ae8350c2"
      },
      "execution_count": null,
      "outputs": [
        {
          "output_type": "execute_result",
          "data": {
            "text/plain": [
              "'hello10'"
            ],
            "application/vnd.google.colaboratory.intrinsic+json": {
              "type": "string"
            }
          },
          "metadata": {},
          "execution_count": 46
        }
      ]
    },
    {
      "cell_type": "code",
      "source": [
        "text = \"내 나이는 : \"\n",
        "age = 20\n",
        "# 자료형 변환"
      ],
      "metadata": {
        "id": "QKXjGIJ275mi"
      },
      "execution_count": null,
      "outputs": []
    },
    {
      "cell_type": "code",
      "source": [
        "# 정수를 문자열 형식으로 자료형으로 바꿔줘야 함\n",
        "# 자료형을 바꾸는 행위를 Type Casting이라고 함 (잘 기억해야함)\n",
        "text + str(age)"
      ],
      "metadata": {
        "colab": {
          "base_uri": "https://localhost:8080/",
          "height": 35
        },
        "id": "PXreL_A78RjV",
        "outputId": "02fb3c93-0f70-44a1-de91-5ffa1880f80c"
      },
      "execution_count": null,
      "outputs": [
        {
          "output_type": "execute_result",
          "data": {
            "text/plain": [
              "'내 나이는 : 20'"
            ],
            "application/vnd.google.colaboratory.intrinsic+json": {
              "type": "string"
            }
          },
          "metadata": {},
          "execution_count": 49
        }
      ]
    },
    {
      "cell_type": "markdown",
      "source": [
        "## 문자열 반복하기\n"
      ],
      "metadata": {
        "id": "uChpuC9x8bL0"
      }
    },
    {
      "cell_type": "code",
      "source": [
        "# 변수 text1에 들어있는 문자열을 10번 반복한다.\n",
        "text1 * 10"
      ],
      "metadata": {
        "colab": {
          "base_uri": "https://localhost:8080/",
          "height": 35
        },
        "id": "5RUoNzFi8qde",
        "outputId": "4f599482-163d-464f-d304-1f67888fe49e"
      },
      "execution_count": null,
      "outputs": [
        {
          "output_type": "execute_result",
          "data": {
            "text/plain": [
              "'hellohellohellohellohellohellohellohellohellohello'"
            ],
            "application/vnd.google.colaboratory.intrinsic+json": {
              "type": "string"
            }
          },
          "metadata": {},
          "execution_count": 50
        }
      ]
    },
    {
      "cell_type": "code",
      "source": [
        "text1 * 0.8 #횟수에 관한 것이기때문에 무조건 정수로 해야한다. 실수로 하면 에러뜸"
      ],
      "metadata": {
        "id": "lOALn3vy8yoA"
      },
      "execution_count": null,
      "outputs": []
    },
    {
      "cell_type": "code",
      "source": [
        "text1 * 0 #정수니까 되긴 하지만 비어있는 문자열이 나오게 됨"
      ],
      "metadata": {
        "colab": {
          "base_uri": "https://localhost:8080/",
          "height": 35
        },
        "id": "v68YP3V_8_ND",
        "outputId": "b3f1e1f1-13bd-4302-b5ec-e7970603c0e8"
      },
      "execution_count": null,
      "outputs": [
        {
          "output_type": "execute_result",
          "data": {
            "text/plain": [
              "''"
            ],
            "application/vnd.google.colaboratory.intrinsic+json": {
              "type": "string"
            }
          },
          "metadata": {},
          "execution_count": 51
        }
      ]
    },
    {
      "cell_type": "markdown",
      "source": [
        "## 대/소문자화"
      ],
      "metadata": {
        "id": "Qtr3OFD59B_H"
      }
    },
    {
      "cell_type": "code",
      "source": [
        "# 모든 문자를 대문자로 만들기 - upper()\n",
        "text2.upper()"
      ],
      "metadata": {
        "colab": {
          "base_uri": "https://localhost:8080/",
          "height": 35
        },
        "id": "4ZLjRHjZ9JK4",
        "outputId": "cc27bc07-150b-4c95-c98b-a0445aa1a650"
      },
      "execution_count": null,
      "outputs": [
        {
          "output_type": "execute_result",
          "data": {
            "text/plain": [
              "'WORLD'"
            ],
            "application/vnd.google.colaboratory.intrinsic+json": {
              "type": "string"
            }
          },
          "metadata": {},
          "execution_count": 52
        }
      ]
    },
    {
      "cell_type": "code",
      "source": [
        "# 모든 문자를 소문자로 만들기 - lower()\n",
        "\"HELLO!!\".lower()"
      ],
      "metadata": {
        "colab": {
          "base_uri": "https://localhost:8080/",
          "height": 35
        },
        "id": "tEiESYuV9Oqt",
        "outputId": "1d536bbd-67b3-48f7-979a-31d9a5a11420"
      },
      "execution_count": null,
      "outputs": [
        {
          "output_type": "execute_result",
          "data": {
            "text/plain": [
              "'hello!!'"
            ],
            "application/vnd.google.colaboratory.intrinsic+json": {
              "type": "string"
            }
          },
          "metadata": {},
          "execution_count": 54
        }
      ]
    },
    {
      "cell_type": "markdown",
      "source": [
        "텍스트 데이터(자연어)처리나 분석을 할 때 자주 사용된다.\n",
        "\n",
        "1. Hello\n",
        "2. HEllo\n",
        "3. HeLLo\n",
        "4. Bye\n",
        "5. byE\n",
        "\n",
        "사람의 인식 : 헬로우가 번, 바이가 2번 등장했구나\n",
        "컴퓨터의 인식 : 각각 1번씩\n",
        "\n",
        "따라서 대소문자에 의해 다른단어로 생각하지 않게 하기 위해서 텍스트 데이터를 소문자나 대문자로 바꿈"
      ],
      "metadata": {
        "id": "YvmJctL-9XwK"
      }
    },
    {
      "cell_type": "markdown",
      "source": [
        "## 문자열 치환\n",
        "치환 : A를 B로 바꾸는 것 (replace)\n",
        "\n",
        "예를 들어 크롤링같은 것을 할 때 쓸데 없는 기호들이 있으면 리플레이스를 활용하여 바꿀 수 있음\n",
        "\n",
        "공백도 공백없게 만들 수 있음 (\" \",\"\")식으로"
      ],
      "metadata": {
        "id": "pBj0Rlbm-lXP"
      }
    },
    {
      "cell_type": "code",
      "source": [
        "text1.replace(\"h\", \"j\")"
      ],
      "metadata": {
        "colab": {
          "base_uri": "https://localhost:8080/",
          "height": 35
        },
        "id": "JdtAw02H-XD7",
        "outputId": "9e33f1cb-315e-4ca2-a564-59ed5ba02743"
      },
      "execution_count": null,
      "outputs": [
        {
          "output_type": "execute_result",
          "data": {
            "text/plain": [
              "'jello'"
            ],
            "application/vnd.google.colaboratory.intrinsic+json": {
              "type": "string"
            }
          },
          "metadata": {},
          "execution_count": 56
        }
      ]
    },
    {
      "cell_type": "code",
      "source": [
        "text1.replace(\"he\", \"jo\")"
      ],
      "metadata": {
        "colab": {
          "base_uri": "https://localhost:8080/",
          "height": 35
        },
        "id": "c11jdpc1-jBZ",
        "outputId": "9ae2d87a-ea5b-4a8c-cd7f-0acd953d304d"
      },
      "execution_count": null,
      "outputs": [
        {
          "output_type": "execute_result",
          "data": {
            "text/plain": [
              "'jollo'"
            ],
            "application/vnd.google.colaboratory.intrinsic+json": {
              "type": "string"
            }
          },
          "metadata": {},
          "execution_count": 57
        }
      ]
    },
    {
      "cell_type": "markdown",
      "source": [
        "## 문자열 포매팅\n",
        "- 템플릿 만들기\n",
        "- 문자열 내의 특정한 값을 변수로부터 동적으로 문자열 생성\n",
        "\n",
        "내가 필요할때, 원할때 한다는 것을 동적으로 표현\n",
        "\n",
        "지금까지 정적인 문자열을 만든 것"
      ],
      "metadata": {
        "id": "63cCZLXC-wY4"
      }
    },
    {
      "cell_type": "code",
      "source": [
        "name = \"소민호\"\n",
        "age = 37\n",
        "\n",
        "#제 이름은 소민호입니다. 나이는 37살입니다.\n",
        "text = \"제 이름은 \" + name + \"입니다. 나이는 \" + str(age) + \"살입니다.\"\n",
        "print(text)\n",
        "\n",
        "#이것은 동적이 아님 정적임\n",
        "# 템플릿이라고 할 수 있는 틀(제이름은, 입니다, 나이는, 살입니다,)를 만드는 것을 포매팅이라고 하는 것"
      ],
      "metadata": {
        "colab": {
          "base_uri": "https://localhost:8080/"
        },
        "id": "WYQmco76_OGg",
        "outputId": "6784d830-2a4d-4d19-a5c1-e402f3857f37"
      },
      "execution_count": null,
      "outputs": [
        {
          "output_type": "stream",
          "name": "stdout",
          "text": [
            "제 이름은 소민호입니다. 나이는 37살입니다.\n"
          ]
        }
      ]
    },
    {
      "cell_type": "code",
      "source": [
        "# 문자열 포매팅 : 문자열의 형식을 미리 지정해놓고, 필요할 때(동적) 특정 부분을 변경\n",
        "# {}가 특수한 역할을 해줘서 거기에 맞게 쓸 수 있음\n",
        "text = \"제 이름은 {}입니다. 나이는 {}살입니다.\"\n",
        "print(text)"
      ],
      "metadata": {
        "colab": {
          "base_uri": "https://localhost:8080/"
        },
        "id": "Ok8Y8wkKAPQF",
        "outputId": "e296d35f-7c18-49ff-95d5-169314e57583"
      },
      "execution_count": null,
      "outputs": [
        {
          "output_type": "stream",
          "name": "stdout",
          "text": [
            "제 이름은 {}입니다. 나이는 {}살입니다.\n"
          ]
        }
      ]
    },
    {
      "cell_type": "code",
      "source": [
        "text.format(name, age)"
      ],
      "metadata": {
        "colab": {
          "base_uri": "https://localhost:8080/",
          "height": 35
        },
        "id": "n4jqjzxpBLlv",
        "outputId": "e429dcce-4ece-4311-aa19-c7402b8ff806"
      },
      "execution_count": null,
      "outputs": [
        {
          "output_type": "execute_result",
          "data": {
            "text/plain": [
              "'제 이름은 소민호입니다. 나이는 37살입니다.'"
            ],
            "application/vnd.google.colaboratory.intrinsic+json": {
              "type": "string"
            }
          },
          "metadata": {},
          "execution_count": 74
        }
      ]
    },
    {
      "cell_type": "code",
      "source": [
        "text.format(\"민호\", 20) #포멧안에 내가 원하는 값만 넣으면 바꿀 수 있는 것임"
      ],
      "metadata": {
        "colab": {
          "base_uri": "https://localhost:8080/",
          "height": 35
        },
        "id": "tXQ6IPb8BTaC",
        "outputId": "b3e01f34-5baf-4ae7-ab2d-e68e955db7d3"
      },
      "execution_count": null,
      "outputs": [
        {
          "output_type": "execute_result",
          "data": {
            "text/plain": [
              "'제 이름은 민호입니다. 나이는 20살입니다.'"
            ],
            "application/vnd.google.colaboratory.intrinsic+json": {
              "type": "string"
            }
          },
          "metadata": {},
          "execution_count": 75
        }
      ]
    },
    {
      "cell_type": "code",
      "source": [
        "text = f\"제 이름은 {name}입니다. 나이는 {age}살입니다.\" # 자료형 변환을 하지 않아도 됨\n",
        "print(text)"
      ],
      "metadata": {
        "colab": {
          "base_uri": "https://localhost:8080/"
        },
        "id": "PaSryVPuBccd",
        "outputId": "e7716de9-7207-4ebd-bcca-51d0e1fc7cb8"
      },
      "execution_count": null,
      "outputs": [
        {
          "output_type": "stream",
          "name": "stdout",
          "text": [
            "제 이름은 소민호입니다. 나이는 37살입니다.\n"
          ]
        }
      ]
    },
    {
      "cell_type": "markdown",
      "source": [
        "## 문자열 분리(split)\n",
        "\n",
        "- slice : 특정 부분을 인덱스를 활용해 잘라내기\n",
        "- split : 특정 구분자를 이용해서 문자열을 쪼개기"
      ],
      "metadata": {
        "id": "eFjmIuq1BnaN"
      }
    },
    {
      "cell_type": "code",
      "source": [
        "text = '이제는 많이 추워진 것 같습니다'\n",
        "text.split(\" \") # 리스트로 나눠진 것"
      ],
      "metadata": {
        "colab": {
          "base_uri": "https://localhost:8080/"
        },
        "id": "zVbZ2H4mCSQy",
        "outputId": "1a99fec7-ca64-42fe-99e0-f1fb5fc7d4b2"
      },
      "execution_count": null,
      "outputs": [
        {
          "output_type": "execute_result",
          "data": {
            "text/plain": [
              "['이제는', '많이', '추워진', '것', '같습니다']"
            ]
          },
          "metadata": {},
          "execution_count": 8
        }
      ]
    },
    {
      "cell_type": "code",
      "source": [
        "text = \"#8시간#하루종일#파이썬#더워요#어렵다\"\n",
        "text.split(\"#\") # 맨 앞의 문자열을 없애기 위해서"
      ],
      "metadata": {
        "colab": {
          "base_uri": "https://localhost:8080/"
        },
        "id": "J2ToWZ_7CZvG",
        "outputId": "faa455cb-43f6-4745-ea46-63305c4c12c8"
      },
      "execution_count": null,
      "outputs": [
        {
          "output_type": "execute_result",
          "data": {
            "text/plain": [
              "['', '8시간', '하루종일', '파이썬', '더워요', '어렵다']"
            ]
          },
          "metadata": {},
          "execution_count": 78
        }
      ]
    },
    {
      "cell_type": "code",
      "source": [
        "# 결과로 나오는 맨 앞의 ''문자열을 없애기 위해서\n",
        "text[1:].split(\"#\")"
      ],
      "metadata": {
        "colab": {
          "base_uri": "https://localhost:8080/"
        },
        "id": "5Xb72nBSCu4f",
        "outputId": "db53ab0a-8b05-49d6-b69c-03b251e4b4b4"
      },
      "execution_count": null,
      "outputs": [
        {
          "output_type": "execute_result",
          "data": {
            "text/plain": [
              "['8시간', '하루종일', '파이썬', '더워요', '어렵다']"
            ]
          },
          "metadata": {},
          "execution_count": 79
        }
      ]
    },
    {
      "cell_type": "code",
      "source": [
        "# 블로그, sns등의 자연어를 웹에서 수집하면 띄어쓰기가 많은 문제가 됨\n",
        "text = \" 느그    서장    남천동     살제    \"\n",
        "text.split(\" \") # 이렇게만 하면 더 보기 싫어지게 됨"
      ],
      "metadata": {
        "colab": {
          "base_uri": "https://localhost:8080/"
        },
        "id": "-uq_Wn6ZC_Zu",
        "outputId": "fdc97ae8-529e-4b5e-d1a7-9335bee13332"
      },
      "execution_count": null,
      "outputs": [
        {
          "output_type": "execute_result",
          "data": {
            "text/plain": [
              "['',\n",
              " '느그',\n",
              " '',\n",
              " '',\n",
              " '',\n",
              " '서장',\n",
              " '',\n",
              " '',\n",
              " '',\n",
              " '남천동',\n",
              " '',\n",
              " '',\n",
              " '',\n",
              " '',\n",
              " '살제',\n",
              " '',\n",
              " '',\n",
              " '',\n",
              " '']"
            ]
          },
          "metadata": {},
          "execution_count": 80
        }
      ]
    },
    {
      "cell_type": "code",
      "source": [
        "text = \" 느그    서장    남천동     살제    \"\n",
        "text.split() # 괄호안에 아무것도 안넣고하면 아예 깔끔하게 제거됨"
      ],
      "metadata": {
        "colab": {
          "base_uri": "https://localhost:8080/"
        },
        "id": "rmj49LkdDdgd",
        "outputId": "8ba32373-77dc-440f-c1ff-a709c6f3dfac"
      },
      "execution_count": null,
      "outputs": [
        {
          "output_type": "execute_result",
          "data": {
            "text/plain": [
              "['느그', '서장', '남천동', '살제']"
            ]
          },
          "metadata": {},
          "execution_count": 81
        }
      ]
    },
    {
      "cell_type": "markdown",
      "source": [
        "## 좌우 공백 제거"
      ],
      "metadata": {
        "id": "9cuTMGlPDriJ"
      }
    },
    {
      "cell_type": "code",
      "source": [
        "text = \"\\n\\n\\nHello!!!\\n\\n\\n\"\n",
        "print(text)"
      ],
      "metadata": {
        "colab": {
          "base_uri": "https://localhost:8080/"
        },
        "id": "KkxGnzl-DvOH",
        "outputId": "8ccc406d-7b00-4b1a-a371-d37e0ed4552b"
      },
      "execution_count": null,
      "outputs": [
        {
          "output_type": "stream",
          "name": "stdout",
          "text": [
            "\n",
            "\n",
            "\n",
            "Hello!!!\n",
            "\n",
            "\n",
            "\n"
          ]
        }
      ]
    },
    {
      "cell_type": "code",
      "source": [
        "text.strip()  #앞뒤 공백이 있는 경우에는 strip을 사용함"
      ],
      "metadata": {
        "colab": {
          "base_uri": "https://localhost:8080/",
          "height": 35
        },
        "id": "SsVNksHSD1EO",
        "outputId": "086ace31-f2e5-420a-dc9b-31c9c52fdb4b"
      },
      "execution_count": null,
      "outputs": [
        {
          "output_type": "execute_result",
          "data": {
            "text/plain": [
              "'Hello!!!'"
            ],
            "application/vnd.google.colaboratory.intrinsic+json": {
              "type": "string"
            }
          },
          "metadata": {},
          "execution_count": 83
        }
      ]
    },
    {
      "cell_type": "markdown",
      "source": [
        "## 문자열 합치기\n",
        "- 'split'의 반대 개념\n",
        "- 특정 문자열을 기준으로 리스트에 들어있는 문자열을 합쳐주는 역할"
      ],
      "metadata": {
        "id": "m80AYqKMD_ry"
      }
    },
    {
      "cell_type": "code",
      "source": [
        "example = [\"Hello\", \"Bye\", \"World\", \"Greeting\"]"
      ],
      "metadata": {
        "id": "bqRzNOw-ERAW"
      },
      "execution_count": null,
      "outputs": []
    },
    {
      "cell_type": "code",
      "source": [
        "\"#\".join(example) #어떤 특정한 문자를 기준으로 합칠 때는 join을 사용하면 됨"
      ],
      "metadata": {
        "colab": {
          "base_uri": "https://localhost:8080/",
          "height": 35
        },
        "id": "qTH4NU9xEbGY",
        "outputId": "79232eaf-7c06-4d4b-dcc0-86abafba464f"
      },
      "execution_count": null,
      "outputs": [
        {
          "output_type": "execute_result",
          "data": {
            "text/plain": [
              "'Hello#Bye#World#Greeting'"
            ],
            "application/vnd.google.colaboratory.intrinsic+json": {
              "type": "string"
            }
          },
          "metadata": {},
          "execution_count": 85
        }
      ]
    },
    {
      "cell_type": "markdown",
      "source": [
        "문제\n"
      ],
      "metadata": {
        "id": "JKtWDIn1Ehlm"
      }
    },
    {
      "cell_type": "code",
      "source": [
        "tags = \"#오늘 #배고프다 #저녁에 #꼼장어 #먹어 야지\"\n",
        "# -> ['오늘', '배고프다', '저녁에', '꼼장어', '먹어야지']\n",
        "tags[1:].replace(\" \", \"\").split(\"#\") #replace로 공백을 다 채움 먹어 야지 해결"
      ],
      "metadata": {
        "colab": {
          "base_uri": "https://localhost:8080/"
        },
        "id": "QLO3btzqE5kp",
        "outputId": "8bd78789-0607-4470-90c2-0925d4e8057d"
      },
      "execution_count": null,
      "outputs": [
        {
          "output_type": "execute_result",
          "data": {
            "text/plain": [
              "['오늘', '배고프다', '저녁에', '꼼장어', '먹어야지']"
            ]
          },
          "metadata": {},
          "execution_count": 12
        }
      ]
    },
    {
      "cell_type": "markdown",
      "source": [
        "## 형 변환(Type Casting)\n",
        "- 데이터의 자료형을 바꾸는 것\n",
        "\n",
        "------------------------------------------\n",
        "\n",
        "- int : 정수\n",
        "- float : 실수\n",
        "- str : 문자열\n",
        "- bool : 논리"
      ],
      "metadata": {
        "id": "E-b8Eq2_FSmr"
      }
    },
    {
      "cell_type": "code",
      "source": [
        "a = 10 # 정수\n",
        "float(a)"
      ],
      "metadata": {
        "colab": {
          "base_uri": "https://localhost:8080/"
        },
        "id": "9ESNeNPlewRc",
        "outputId": "728a532d-e7eb-46de-da5c-32289b4b1dd5"
      },
      "execution_count": null,
      "outputs": [
        {
          "output_type": "execute_result",
          "data": {
            "text/plain": [
              "10.0"
            ]
          },
          "metadata": {},
          "execution_count": 1
        }
      ]
    },
    {
      "cell_type": "code",
      "source": [
        "str(a)"
      ],
      "metadata": {
        "colab": {
          "base_uri": "https://localhost:8080/",
          "height": 35
        },
        "id": "_n4H91lOe25K",
        "outputId": "47b63707-0141-463d-be5d-04bb0487636d"
      },
      "execution_count": null,
      "outputs": [
        {
          "output_type": "execute_result",
          "data": {
            "text/plain": [
              "'10'"
            ],
            "application/vnd.google.colaboratory.intrinsic+json": {
              "type": "string"
            }
          },
          "metadata": {},
          "execution_count": 2
        }
      ]
    },
    {
      "cell_type": "code",
      "source": [
        "bool(a) # 0이 아닌 다른 숫자는 무조건 True로 나옴 값이 존재한다는 의미 0은 값이 없다고 판단, 값이 있냐 없냐를 판단하기도 함 숫자는 0이 아니면 다 true로 나옴"
      ],
      "metadata": {
        "colab": {
          "base_uri": "https://localhost:8080/"
        },
        "id": "IlEvFHsVe_sD",
        "outputId": "1db379bc-29f5-4c58-c3c5-84ebb360457c"
      },
      "execution_count": null,
      "outputs": [
        {
          "output_type": "execute_result",
          "data": {
            "text/plain": [
              "True"
            ]
          },
          "metadata": {},
          "execution_count": 3
        }
      ]
    },
    {
      "cell_type": "code",
      "source": [
        "bool(0)"
      ],
      "metadata": {
        "colab": {
          "base_uri": "https://localhost:8080/"
        },
        "id": "jvZ-KXo9fFF6",
        "outputId": "ce88f600-3498-4336-ce06-290e0012ace5"
      },
      "execution_count": null,
      "outputs": [
        {
          "output_type": "execute_result",
          "data": {
            "text/plain": [
              "False"
            ]
          },
          "metadata": {},
          "execution_count": 4
        }
      ]
    },
    {
      "cell_type": "code",
      "source": [
        "bool('aa')"
      ],
      "metadata": {
        "colab": {
          "base_uri": "https://localhost:8080/"
        },
        "id": "BdOuNkPkfanj",
        "outputId": "679380fd-02e2-47b9-c810-e4b3961f3498"
      },
      "execution_count": null,
      "outputs": [
        {
          "output_type": "execute_result",
          "data": {
            "text/plain": [
              "True"
            ]
          },
          "metadata": {},
          "execution_count": 5
        }
      ]
    },
    {
      "cell_type": "code",
      "source": [
        "bool(\"\") # 문자에 아무런 값이 없기 때문에 false로 나옴"
      ],
      "metadata": {
        "colab": {
          "base_uri": "https://localhost:8080/"
        },
        "id": "5RanbQurflgR",
        "outputId": "137cbafa-55fd-4854-ab0d-a4e67cb2ab0c"
      },
      "execution_count": null,
      "outputs": [
        {
          "output_type": "execute_result",
          "data": {
            "text/plain": [
              "False"
            ]
          },
          "metadata": {},
          "execution_count": 6
        }
      ]
    },
    {
      "cell_type": "code",
      "source": [
        "bool(0.0) # 값이 있다 없다로 접근하는 것, 0은 값이 없다고 판단"
      ],
      "metadata": {
        "colab": {
          "base_uri": "https://localhost:8080/"
        },
        "id": "tX1Kym24fnG6",
        "outputId": "caef4a02-0af6-42b6-d77c-083a2d0c3306"
      },
      "execution_count": null,
      "outputs": [
        {
          "output_type": "execute_result",
          "data": {
            "text/plain": [
              "False"
            ]
          },
          "metadata": {},
          "execution_count": 7
        }
      ]
    },
    {
      "cell_type": "code",
      "source": [
        "# 실수를 정수로\n",
        "a = 10.1234\n",
        "int(a)"
      ],
      "metadata": {
        "colab": {
          "base_uri": "https://localhost:8080/"
        },
        "id": "k1gBVxEDfxfc",
        "outputId": "6684d2f5-dece-4cad-d403-5b066cb35e14"
      },
      "execution_count": null,
      "outputs": [
        {
          "output_type": "execute_result",
          "data": {
            "text/plain": [
              "10"
            ]
          },
          "metadata": {},
          "execution_count": 8
        }
      ]
    },
    {
      "cell_type": "code",
      "source": [
        "int(True) # boolean타입의 true는 1이기 때문에 정수변환이 가능"
      ],
      "metadata": {
        "colab": {
          "base_uri": "https://localhost:8080/"
        },
        "id": "4TzSL46ngEu0",
        "outputId": "8ae7b104-9931-4b14-f2cb-a40e10e8400f"
      },
      "execution_count": null,
      "outputs": [
        {
          "output_type": "execute_result",
          "data": {
            "text/plain": [
              "1"
            ]
          },
          "metadata": {},
          "execution_count": 9
        }
      ]
    },
    {
      "cell_type": "code",
      "source": [
        "True + True #true는 1, flase는 0"
      ],
      "metadata": {
        "colab": {
          "base_uri": "https://localhost:8080/"
        },
        "id": "d2uH_BN-gRJf",
        "outputId": "d253bd02-8aef-4a34-b031-4999dbc5c989"
      },
      "execution_count": null,
      "outputs": [
        {
          "output_type": "execute_result",
          "data": {
            "text/plain": [
              "2"
            ]
          },
          "metadata": {},
          "execution_count": 10
        }
      ]
    },
    {
      "cell_type": "markdown",
      "source": [
        "## 파싱(Pasing) 완전 중요!!!\n",
        "\n",
        "- **문자열**을 다른 자료형으로 바꾸는 과정\n",
        "\n",
        "내가 원하는 데이터 형식으로 바꿀 수 있어야함 (문자열 전처리 ex)split, strip..)\n",
        "\n",
        "문자열을 다른 자료형으로 바꾸는 것이 파싱이고\n",
        "다른 자료형들을 변환하는 것은 타입 캐스팅"
      ],
      "metadata": {
        "id": "FgsYb77JgcIW"
      }
    },
    {
      "cell_type": "code",
      "source": [
        "movie1 = \"9.49\"\n",
        "movie2 = \"    9.43  \"\n",
        "movie3 = \"9.34점\""
      ],
      "metadata": {
        "id": "C6SX3S57gxlA"
      },
      "execution_count": null,
      "outputs": []
    },
    {
      "cell_type": "code",
      "source": [
        "float(movie1) # 실수 형태로 되어있기 때문에 가능"
      ],
      "metadata": {
        "colab": {
          "base_uri": "https://localhost:8080/"
        },
        "id": "I7lVoW6FiBm7",
        "outputId": "8ae7ff53-4fe8-4cd9-d3f3-4182d6f49af4"
      },
      "execution_count": null,
      "outputs": [
        {
          "output_type": "execute_result",
          "data": {
            "text/plain": [
              "9.49"
            ]
          },
          "metadata": {},
          "execution_count": 13
        }
      ]
    },
    {
      "cell_type": "code",
      "source": [
        "float(movie2) # 앞뒤로 공백이 있는 경우 까지는 플롯변환이 가능"
      ],
      "metadata": {
        "colab": {
          "base_uri": "https://localhost:8080/"
        },
        "id": "Y32mePBxiDut",
        "outputId": "c5db3468-c414-40d7-a801-9baf087b4a85"
      },
      "execution_count": null,
      "outputs": [
        {
          "output_type": "execute_result",
          "data": {
            "text/plain": [
              "9.43"
            ]
          },
          "metadata": {},
          "execution_count": 14
        }
      ]
    },
    {
      "cell_type": "code",
      "source": [
        "float(\"  9.  34  \") # 이렇게 하면 안됨 에러가 나옴 9.다음에 띄어쓰기가 있으면 실수의 형태로 되어있지 않기 때문 적어도 형태는 갖추고 있어야함"
      ],
      "metadata": {
        "id": "t-amI8INiRQp"
      },
      "execution_count": null,
      "outputs": []
    },
    {
      "cell_type": "code",
      "source": [
        "movie1_score = float(movie1)\n",
        "movie2_score = float(movie2.strip())\n",
        "movie3_score = float(movie3[:-1]) # 아니면 movie3.replace(\"점\", \"\")를 사용해도 되는데 리플레이스가 조금 시간이 더 들음, 상황에 따라 바꿀 것을 생각해보기\n",
        "movie_score_avg = (movie1_score + movie2_score + movie3_score) / 3\n",
        "print(movie_score_avg)"
      ],
      "metadata": {
        "colab": {
          "base_uri": "https://localhost:8080/"
        },
        "id": "OIxSMDcOjB6R",
        "outputId": "bcb47b31-c0ba-4a34-ad09-825fa5604192"
      },
      "execution_count": null,
      "outputs": [
        {
          "output_type": "stream",
          "name": "stdout",
          "text": [
            "9.42\n"
          ]
        }
      ]
    },
    {
      "cell_type": "code",
      "source": [
        "int(movie1) #정수로는 안됨 파싱이란 것을 하기 위해서는 내가 목표로하는 정확한 형식으로 되어있어야함 이건 실수로 되어있는 형식이기때문에 에러가 나옴 정수로 되어있어야함"
      ],
      "metadata": {
        "colab": {
          "base_uri": "https://localhost:8080/",
          "height": 146
        },
        "collapsed": true,
        "id": "BxI068brkBPu",
        "outputId": "1a9de2fa-0701-4163-9a56-1dd786cbc35e"
      },
      "execution_count": null,
      "outputs": [
        {
          "output_type": "error",
          "ename": "ValueError",
          "evalue": "invalid literal for int() with base 10: '9.49'",
          "traceback": [
            "\u001b[0;31m---------------------------------------------------------------------------\u001b[0m",
            "\u001b[0;31mValueError\u001b[0m                                Traceback (most recent call last)",
            "\u001b[0;32m<ipython-input-16-918bfc37642e>\u001b[0m in \u001b[0;36m<cell line: 1>\u001b[0;34m()\u001b[0m\n\u001b[0;32m----> 1\u001b[0;31m \u001b[0mint\u001b[0m\u001b[0;34m(\u001b[0m\u001b[0mmovie1\u001b[0m\u001b[0;34m)\u001b[0m\u001b[0;34m\u001b[0m\u001b[0;34m\u001b[0m\u001b[0m\n\u001b[0m",
            "\u001b[0;31mValueError\u001b[0m: invalid literal for int() with base 10: '9.49'"
          ]
        }
      ]
    },
    {
      "cell_type": "code",
      "source": [
        "int(float(movie1)) # 먼저 문자열을 실수로 바꿔주고 정수로 변환할 수는 있음 내가 원하는 모양으로 가지고 있는게 맞음"
      ],
      "metadata": {
        "colab": {
          "base_uri": "https://localhost:8080/"
        },
        "id": "aobAhMMskWbp",
        "outputId": "a10bca59-4e60-40f7-bba1-689c93aa7043"
      },
      "execution_count": null,
      "outputs": [
        {
          "output_type": "execute_result",
          "data": {
            "text/plain": [
              "9"
            ]
          },
          "metadata": {},
          "execution_count": 17
        }
      ]
    },
    {
      "cell_type": "code",
      "source": [
        "float(\"10\") # 기본적으로 실수는 정수에 포함이 되기때문에 이런 경우는 가능함"
      ],
      "metadata": {
        "colab": {
          "base_uri": "https://localhost:8080/"
        },
        "id": "1jdRvTevkp9Z",
        "outputId": "34bad65c-1e07-47f3-92f3-8e910e7abdfb"
      },
      "execution_count": null,
      "outputs": [
        {
          "output_type": "execute_result",
          "data": {
            "text/plain": [
              "10.0"
            ]
          },
          "metadata": {},
          "execution_count": 18
        }
      ]
    },
    {
      "cell_type": "markdown",
      "source": [],
      "metadata": {
        "id": "hVlzHBVuk4iX"
      }
    }
  ]
}