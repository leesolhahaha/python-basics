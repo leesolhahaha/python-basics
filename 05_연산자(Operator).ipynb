{
  "nbformat": 4,
  "nbformat_minor": 0,
  "metadata": {
    "colab": {
      "provenance": [],
      "authorship_tag": "ABX9TyNIeYwfFg7bMB5np9PuZ98g",
      "include_colab_link": true
    },
    "kernelspec": {
      "name": "python3",
      "display_name": "Python 3"
    },
    "language_info": {
      "name": "python"
    }
  },
  "cells": [
    {
      "cell_type": "markdown",
      "metadata": {
        "id": "view-in-github",
        "colab_type": "text"
      },
      "source": [
        "<a href=\"https://colab.research.google.com/github/leesolhahaha/python-basics/blob/main/05_%EC%97%B0%EC%82%B0%EC%9E%90(Operator).ipynb\" target=\"_parent\"><img src=\"https://colab.research.google.com/assets/colab-badge.svg\" alt=\"Open In Colab\"/></a>"
      ]
    },
    {
      "cell_type": "markdown",
      "source": [
        "# 연산자\n",
        "연산(계산)을 할 수 있는 기호"
      ],
      "metadata": {
        "id": "zetqz3G3pagv"
      }
    },
    {
      "cell_type": "markdown",
      "source": [
        "## 산술 연산자\n",
        "- 뎃뺄곱나 (+,-,*,/)\n",
        "- 몫, 나머지(//,%)"
      ],
      "metadata": {
        "id": "NZTtqmpCpvET"
      }
    },
    {
      "cell_type": "code",
      "source": [
        "print(5+2)\n",
        "print(5-2)\n",
        "print(5*2)\n",
        "print(5/2)"
      ],
      "metadata": {
        "colab": {
          "base_uri": "https://localhost:8080/"
        },
        "id": "Kdoe-k6mqXRL",
        "outputId": "9deec532-5c3d-4eaf-e040-a2c737f61296"
      },
      "execution_count": null,
      "outputs": [
        {
          "output_type": "stream",
          "name": "stdout",
          "text": [
            "7\n",
            "3\n",
            "10\n",
            "2.5\n"
          ]
        }
      ]
    },
    {
      "cell_type": "code",
      "source": [
        "print(5 // 2) # 몫\n",
        "print(5 % 2) # 나머지"
      ],
      "metadata": {
        "colab": {
          "base_uri": "https://localhost:8080/"
        },
        "id": "P4X9giLmqpKC",
        "outputId": "9bca8ef1-66a5-4820-8066-4387473e6d18"
      },
      "execution_count": null,
      "outputs": [
        {
          "output_type": "stream",
          "name": "stdout",
          "text": [
            "2\n",
            "1\n"
          ]
        }
      ]
    },
    {
      "cell_type": "code",
      "source": [
        "# 연산자에는 기본적인 우선순위 규칙\n",
        "print(2 + 2 * 2)"
      ],
      "metadata": {
        "colab": {
          "base_uri": "https://localhost:8080/"
        },
        "id": "aHtWM-K8q1mn",
        "outputId": "f7fad4cc-3369-4ec5-d58f-b8284a2630e4"
      },
      "execution_count": null,
      "outputs": [
        {
          "output_type": "stream",
          "name": "stdout",
          "text": [
            "6\n"
          ]
        }
      ]
    },
    {
      "cell_type": "code",
      "source": [
        "print( (2 + 2 ) * 2)"
      ],
      "metadata": {
        "colab": {
          "base_uri": "https://localhost:8080/"
        },
        "id": "9o6x7Ll4rAOV",
        "outputId": "2d73bed4-460f-41a5-8f26-3dfcac504321"
      },
      "execution_count": null,
      "outputs": [
        {
          "output_type": "stream",
          "name": "stdout",
          "text": [
            "8\n"
          ]
        }
      ]
    },
    {
      "cell_type": "markdown",
      "source": [
        "# 할당(대입) 연산자\n",
        "- 어떤 변수에 값을 대입하는 연산자\n",
        "- 특정 변수에 들어있는 값에 특정 연산을 수행해서 그 변수에 다시 저장(누적)"
      ],
      "metadata": {
        "id": "U5YFwnPGrKef"
      }
    },
    {
      "cell_type": "code",
      "source": [
        "# 기본 대입 연산\n",
        "num = 10\n",
        "print(num)"
      ],
      "metadata": {
        "colab": {
          "base_uri": "https://localhost:8080/"
        },
        "id": "8VfKipBarlFr",
        "outputId": "4d565e43-78be-4fbd-f6a6-d4b3c25b06c7"
      },
      "execution_count": null,
      "outputs": [
        {
          "output_type": "stream",
          "name": "stdout",
          "text": [
            "10\n"
          ]
        }
      ]
    },
    {
      "cell_type": "code",
      "source": [
        "num = num + 5 # 연산자가 두개 이상인 경우 대입연산은 항상 오른쪽에서 왼쪽으로 감 이 경우 덧셈이 먼저\n",
        "print(num)"
      ],
      "metadata": {
        "colab": {
          "base_uri": "https://localhost:8080/"
        },
        "id": "YI7JMTvIrpA8",
        "outputId": "be551a0d-0bf8-48c5-f56c-5320a81a90fc"
      },
      "execution_count": null,
      "outputs": [
        {
          "output_type": "stream",
          "name": "stdout",
          "text": [
            "15\n"
          ]
        }
      ]
    },
    {
      "cell_type": "code",
      "source": [
        "num += 5 # 누적대입연산 또는 누적합연산\n",
        "print(num)"
      ],
      "metadata": {
        "colab": {
          "base_uri": "https://localhost:8080/"
        },
        "id": "m9H7v-HmsPZA",
        "outputId": "7861820e-7fb4-4a2f-91ea-b38e3b53666c"
      },
      "execution_count": null,
      "outputs": [
        {
          "output_type": "stream",
          "name": "stdout",
          "text": [
            "20\n"
          ]
        }
      ]
    },
    {
      "cell_type": "code",
      "source": [
        "num -=10\n",
        "print(num)"
      ],
      "metadata": {
        "colab": {
          "base_uri": "https://localhost:8080/"
        },
        "id": "E4J4lY9dsUFu",
        "outputId": "41da1a8d-d169-4e56-ac21-5ff01bac456d"
      },
      "execution_count": null,
      "outputs": [
        {
          "output_type": "stream",
          "name": "stdout",
          "text": [
            "10\n"
          ]
        }
      ]
    },
    {
      "cell_type": "code",
      "source": [
        "num *= 5\n",
        "print(num)"
      ],
      "metadata": {
        "colab": {
          "base_uri": "https://localhost:8080/"
        },
        "id": "1ddGl4BlsjgJ",
        "outputId": "18133f10-86e7-4380-e399-a74c2fd45592"
      },
      "execution_count": null,
      "outputs": [
        {
          "output_type": "stream",
          "name": "stdout",
          "text": [
            "50\n"
          ]
        }
      ]
    },
    {
      "cell_type": "code",
      "source": [
        "num /= 2 # 나눗셈은 딱 떨어지는 수더라도 항상 실수가 나옴\n",
        "print(num)"
      ],
      "metadata": {
        "colab": {
          "base_uri": "https://localhost:8080/"
        },
        "id": "px0IvR6AsnLh",
        "outputId": "789f8f09-99e9-4d4b-b5fc-3e13a1956613"
      },
      "execution_count": null,
      "outputs": [
        {
          "output_type": "stream",
          "name": "stdout",
          "text": [
            "25.0\n"
          ]
        }
      ]
    },
    {
      "cell_type": "code",
      "source": [
        "뜬금없 /= 3\n",
        "print(뜬금)\n",
        " # 이런것은 안됨 왜냐면 변수가 선언이 되어있지 않아서 (만들어지지 않은 변수를 쓰려고 할 때 에러)"
      ],
      "metadata": {
        "id": "WlM3ZEYFsvmw"
      },
      "execution_count": null,
      "outputs": []
    },
    {
      "cell_type": "markdown",
      "source": [
        "# 비교연산자\n",
        "- 크기를 비교하는 연산자\n",
        "- \\>, <. >=. <=\n",
        "- !=, =="
      ],
      "metadata": {
        "id": "DT8Xc52YtMXJ"
      }
    },
    {
      "cell_type": "code",
      "source": [
        "a = 5\n",
        "b = 3\n",
        "print(a > b)\n",
        "print(a < b)\n",
        "print(a >= b)\n",
        "print(a <= b)"
      ],
      "metadata": {
        "colab": {
          "base_uri": "https://localhost:8080/"
        },
        "id": "C3qAf6C6tdlJ",
        "outputId": "10225a10-5557-4004-dcb0-5419d1e9f6ff"
      },
      "execution_count": null,
      "outputs": [
        {
          "output_type": "stream",
          "name": "stdout",
          "text": [
            "True\n",
            "False\n",
            "True\n",
            "False\n"
          ]
        }
      ]
    },
    {
      "cell_type": "code",
      "source": [
        "# != : 부정연산자 ( 같지않다)\n",
        "# == : 동일연산자 ( 같다 )\n",
        "\n",
        "print( a == b )\n",
        "print( a != b )"
      ],
      "metadata": {
        "colab": {
          "base_uri": "https://localhost:8080/"
        },
        "id": "slHQgEJQtrKt",
        "outputId": "fe35e8ea-1244-4dd0-c4b3-f472ac4c7a9e"
      },
      "execution_count": null,
      "outputs": [
        {
          "output_type": "stream",
          "name": "stdout",
          "text": [
            "False\n",
            "True\n"
          ]
        }
      ]
    },
    {
      "cell_type": "markdown",
      "source": [
        "# 논리연산자\n",
        "- 논리 자료형인 'bool'에 대한 연산을 수행\n",
        "- and(&),  or(|),  not(! 또는 ~)\n"
      ],
      "metadata": {
        "id": "Z569r7LduFOv"
      }
    },
    {
      "cell_type": "markdown",
      "source": [
        "## AND 연산"
      ],
      "metadata": {
        "id": "IQm0glQYubog"
      }
    },
    {
      "cell_type": "code",
      "source": [
        "1 < 3 and 5 > 3"
      ],
      "metadata": {
        "colab": {
          "base_uri": "https://localhost:8080/"
        },
        "id": "H5ciThrxuqHa",
        "outputId": "8dcbf282-640a-417c-d511-c3f4897fd9aa"
      },
      "execution_count": null,
      "outputs": [
        {
          "output_type": "execute_result",
          "data": {
            "text/plain": [
              "True"
            ]
          },
          "metadata": {},
          "execution_count": 18
        }
      ]
    },
    {
      "cell_type": "code",
      "source": [
        "1 < 3 and 5 < 3 # 한쪽이라도 거짓이면 false가 나옴 다 T여야 T로나옴"
      ],
      "metadata": {
        "id": "ZG01t5opvL1q"
      },
      "execution_count": null,
      "outputs": []
    },
    {
      "cell_type": "markdown",
      "source": [
        "예를 들어 A and B 연산을 할 건데, A는 10초가 걸리는 작업, B는 0.1초가 걸리는 작업인 경우\n",
        "\n",
        "A and B vs B and A\n",
        "\n",
        "앞쪽의 작업이 거짓인 경우 이미 어그라졌기때문에 뒷쪽 연산을 할 필요가 없다.\n",
        "그렇기 때문에 B and A가 더 빨리 나오는 것"
      ],
      "metadata": {
        "id": "KvOZEoGmvUGO"
      }
    },
    {
      "cell_type": "code",
      "source": [
        "4 < 3 and 5 > 1 # 앞의 설명의 예시로 앞의 연산이 이미 거짓이기때문에 뒷쪽 연산을 수행하지 않는다."
      ],
      "metadata": {
        "colab": {
          "base_uri": "https://localhost:8080/"
        },
        "id": "oqFsB1L1wRA5",
        "outputId": "602cd2ef-5a6d-4950-eb7e-f73f6a865ed9"
      },
      "execution_count": null,
      "outputs": [
        {
          "output_type": "execute_result",
          "data": {
            "text/plain": [
              "False"
            ]
          },
          "metadata": {},
          "execution_count": 20
        }
      ]
    },
    {
      "cell_type": "markdown",
      "source": [
        "# OR 연산"
      ],
      "metadata": {
        "id": "3w3vbVCMwrit"
      }
    },
    {
      "cell_type": "code",
      "source": [
        "5 > 3 or 6 > 3"
      ],
      "metadata": {
        "colab": {
          "base_uri": "https://localhost:8080/"
        },
        "id": "gQ1V8yVKwv6l",
        "outputId": "c0221c15-43a0-444d-b33d-5aa5929de5ac"
      },
      "execution_count": null,
      "outputs": [
        {
          "output_type": "execute_result",
          "data": {
            "text/plain": [
              "True"
            ]
          },
          "metadata": {},
          "execution_count": 21
        }
      ]
    },
    {
      "cell_type": "code",
      "source": [
        "5 > 3 or 6 < 3 # 작업의 배치를 신경써야하는 경우 앞쪽이 트루면 그냥 다 트루이기 때문에"
      ],
      "metadata": {
        "colab": {
          "base_uri": "https://localhost:8080/"
        },
        "id": "TJnWtnlIwzcb",
        "outputId": "135ca91c-757e-42bd-d3db-384def8f5f56"
      },
      "execution_count": null,
      "outputs": [
        {
          "output_type": "execute_result",
          "data": {
            "text/plain": [
              "True"
            ]
          },
          "metadata": {},
          "execution_count": 22
        }
      ]
    },
    {
      "cell_type": "markdown",
      "source": [
        "OR는 앞 부분이 True면 뒷 부분을 연산하지 않는다."
      ],
      "metadata": {
        "id": "K4TY0gs9w1rp"
      }
    },
    {
      "cell_type": "markdown",
      "source": [
        "## Not 연산\n",
        "~ 하지 않다."
      ],
      "metadata": {
        "id": "9aFVk8I3xR9j"
      }
    },
    {
      "cell_type": "code",
      "source": [
        "not 1 > 3 # 1이 3보다 크지 않다."
      ],
      "metadata": {
        "colab": {
          "base_uri": "https://localhost:8080/"
        },
        "id": "6Y-FSKXExfaa",
        "outputId": "f1ed6748-e291-4abf-954f-186fca02e070"
      },
      "execution_count": null,
      "outputs": [
        {
          "output_type": "execute_result",
          "data": {
            "text/plain": [
              "True"
            ]
          },
          "metadata": {},
          "execution_count": 23
        }
      ]
    },
    {
      "cell_type": "code",
      "source": [
        "not 1 < 3 # 1이 3보다 작지 않다"
      ],
      "metadata": {
        "colab": {
          "base_uri": "https://localhost:8080/"
        },
        "id": "oGostZhzxk_1",
        "outputId": "d7bd20db-6955-4726-ecd4-ddc8329dcd72"
      },
      "execution_count": null,
      "outputs": [
        {
          "output_type": "execute_result",
          "data": {
            "text/plain": [
              "False"
            ]
          },
          "metadata": {},
          "execution_count": 24
        }
      ]
    },
    {
      "cell_type": "markdown",
      "source": [
        "# 멤버연산자\n",
        "- 멤버란? 컬렉션안에 있는 요소, 원소, item\n",
        "- 컬렉션에 원소가 존재하는지 여부를 판단\n",
        "- in, not in"
      ],
      "metadata": {
        "id": "KZntSABexnmt"
      }
    },
    {
      "cell_type": "code",
      "source": [
        "lst = [\"a\", 1, 3.1]\n",
        "\n",
        "# 멤버 \"a\"는 lst의 멤버인가?\n",
        "\"a\" in lst"
      ],
      "metadata": {
        "colab": {
          "base_uri": "https://localhost:8080/"
        },
        "id": "KO3tq1GJxxgw",
        "outputId": "8a61cb60-c008-45de-a63f-75b47c99db70"
      },
      "execution_count": null,
      "outputs": [
        {
          "output_type": "execute_result",
          "data": {
            "text/plain": [
              "True"
            ]
          },
          "metadata": {},
          "execution_count": 25
        }
      ]
    },
    {
      "cell_type": "code",
      "source": [
        "2 in lst"
      ],
      "metadata": {
        "colab": {
          "base_uri": "https://localhost:8080/"
        },
        "id": "dYH7GQZAyOOq",
        "outputId": "a92e17de-2a8d-4085-f893-70c74be38b90"
      },
      "execution_count": null,
      "outputs": [
        {
          "output_type": "execute_result",
          "data": {
            "text/plain": [
              "False"
            ]
          },
          "metadata": {},
          "execution_count": 26
        }
      ]
    },
    {
      "cell_type": "code",
      "source": [
        "\"h\" in \"hello\""
      ],
      "metadata": {
        "colab": {
          "base_uri": "https://localhost:8080/"
        },
        "id": "PW8ImFe7yQNX",
        "outputId": "d012c55d-dbc1-4f67-9833-6b770c72ef4f"
      },
      "execution_count": null,
      "outputs": [
        {
          "output_type": "execute_result",
          "data": {
            "text/plain": [
              "True"
            ]
          },
          "metadata": {},
          "execution_count": 27
        }
      ]
    },
    {
      "cell_type": "code",
      "source": [
        "temp = {\n",
        "    \"a\" : 10,\n",
        "    \"b\" : 20\n",
        "}"
      ],
      "metadata": {
        "id": "jouc2bG6yVUo"
      },
      "execution_count": null,
      "outputs": []
    },
    {
      "cell_type": "code",
      "source": [
        "# 딕셔너리의 멤버 연산은 키를 기준으로 수행\n",
        "\"a\" in temp"
      ],
      "metadata": {
        "colab": {
          "base_uri": "https://localhost:8080/"
        },
        "id": "UmxFVN2GyeRz",
        "outputId": "c2ce00d9-9f1b-4840-da09-c9063aec13ff"
      },
      "execution_count": null,
      "outputs": [
        {
          "output_type": "execute_result",
          "data": {
            "text/plain": [
              "True"
            ]
          },
          "metadata": {},
          "execution_count": 29
        }
      ]
    },
    {
      "cell_type": "code",
      "source": [
        "\"c\" in temp"
      ],
      "metadata": {
        "colab": {
          "base_uri": "https://localhost:8080/"
        },
        "id": "izUpqZnYym1w",
        "outputId": "7ad53c76-707d-46ba-ba9a-be30c25eea68"
      },
      "execution_count": null,
      "outputs": [
        {
          "output_type": "execute_result",
          "data": {
            "text/plain": [
              "False"
            ]
          },
          "metadata": {},
          "execution_count": 30
        }
      ]
    },
    {
      "cell_type": "code",
      "source": [
        "10 in temp.values()"
      ],
      "metadata": {
        "colab": {
          "base_uri": "https://localhost:8080/"
        },
        "id": "fpFBJp3Vyoeh",
        "outputId": "5f380cb8-7235-400b-a0ad-0d9ae0c79971"
      },
      "execution_count": null,
      "outputs": [
        {
          "output_type": "execute_result",
          "data": {
            "text/plain": [
              "True"
            ]
          },
          "metadata": {},
          "execution_count": 31
        }
      ]
    },
    {
      "cell_type": "code",
      "source": [],
      "metadata": {
        "id": "C1aLDMrWy0PZ"
      },
      "execution_count": null,
      "outputs": []
    }
  ]
}