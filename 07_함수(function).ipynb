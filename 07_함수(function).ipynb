{
  "nbformat": 4,
  "nbformat_minor": 0,
  "metadata": {
    "colab": {
      "provenance": [],
      "authorship_tag": "ABX9TyPsvHptjHatyxXpXfXz/V9F",
      "include_colab_link": true
    },
    "kernelspec": {
      "name": "python3",
      "display_name": "Python 3"
    },
    "language_info": {
      "name": "python"
    }
  },
  "cells": [
    {
      "cell_type": "markdown",
      "metadata": {
        "id": "view-in-github",
        "colab_type": "text"
      },
      "source": [
        "<a href=\"https://colab.research.google.com/github/leesolhahaha/python-basics/blob/main/07_%ED%95%A8%EC%88%98(function).ipynb\" target=\"_parent\"><img src=\"https://colab.research.google.com/assets/colab-badge.svg\" alt=\"Open In Colab\"/></a>"
      ]
    },
    {
      "cell_type": "markdown",
      "source": [
        "# 함수(function)\n",
        "-(재사용 할)코드의 묶음"
      ],
      "metadata": {
        "id": "0Dt3o7EDSYib"
      }
    },
    {
      "cell_type": "code",
      "source": [
        "# 함수화 시키기 !\n",
        "# 반복적인 기능을 하는 코드 뭉치(code context)를 \"정의\" 해 놓고, 필요할 때 \"호출\"\n",
        "# 정의 : def\n",
        "# 사용(호출) : call\n",
        "\n",
        "# pritn_grade라는 함수를 정의, 구현\n",
        "def print_grade(score): # 점수를 넣기로 약속했기때문에 나중에 호출할 때 print_grade(80)이렇게 점수를 호출하는 거임 score가 파라마터인거고\n",
        "  if score >= 90:\n",
        "    print(\"A\")\n",
        "  elif score >= 80:\n",
        "    print(\"B\")\n",
        "  elif score >=70 :\n",
        "    print(\"C\")\n",
        "  elif score >= 60:\n",
        "    print(\"D\")\n",
        "  else:\n",
        "    print(\"F\")\n",
        "\n",
        "print_grade(80) # 80이 아규먼트\n",
        "print_grade(80)\n",
        "print_grade(80)\n",
        "print_grade(80)"
      ],
      "metadata": {
        "colab": {
          "base_uri": "https://localhost:8080/"
        },
        "id": "G1qnAyY6SooJ",
        "outputId": "ecf5b9ae-2c8b-4f7b-baa7-c277dc22ff1b"
      },
      "execution_count": null,
      "outputs": [
        {
          "output_type": "stream",
          "name": "stdout",
          "text": [
            "B\n",
            "B\n",
            "B\n",
            "B\n"
          ]
        }
      ]
    },
    {
      "cell_type": "markdown",
      "source": [
        "# 함수의 정의 방법\n",
        "```python\n",
        "def <function_name>([paramter1, parameter2, ...]):\n",
        "  ...\n",
        "  code context\n",
        "  ...\n",
        "```\n",
        "* 파라미터(Parameter) : 함수를 **정의**할 때 호출하는 곳에서 입력해주는 **데이터를 저장할 변수**\n",
        "* 아규먼트(Argument) : 함수를 호출하는 곳에서 함수에 넣어주는 **데이터**\n",
        "\n",
        "파라미터의 변수명과 아규먼트의 변수명은 항상 같아야 할가요?\n",
        "- No!\n",
        "\n",
        "파라미터는 변수, 아규먼트는 파라미터에 넣어주는 값, 데이터"
      ],
      "metadata": {
        "id": "ofU_pFV1XDUU"
      }
    },
    {
      "cell_type": "markdown",
      "source": [
        "4가지 형식 모두 다 알아둬야함\n",
        "\n",
        "1. Parameter X, Return X\n",
        "2. Parameter O, return X\n",
        "3. Parameter X , Return O\n",
        "4. Parameter O, Return O"
      ],
      "metadata": {
        "id": "vzL5Dv3rfEkp"
      }
    },
    {
      "cell_type": "code",
      "source": [
        "# 1. Parameter X, Return X\n",
        "def foo():\n",
        "  print(\"Here is foo\")\n",
        "  print(\"Parameter X, Return X\")\n",
        "\n",
        "# Parameter가 없으니까 Argument를 안 넣어줘도 된다.\n",
        "foo()"
      ],
      "metadata": {
        "colab": {
          "base_uri": "https://localhost:8080/"
        },
        "id": "0aOOvRV5XZ2M",
        "outputId": "913eaa73-7e61-41cf-d491-e9e1558f773a"
      },
      "execution_count": null,
      "outputs": [
        {
          "output_type": "stream",
          "name": "stdout",
          "text": [
            "Here is foo\n",
            "Parameter X, Return X\n"
          ]
        }
      ]
    },
    {
      "cell_type": "code",
      "source": [
        "# 2. Parameter O, return X\n",
        "# 대표적으로 print함수가 있다.\n",
        "\n",
        "def goo(num1, num2):\n",
        "  if num1 + num2 > 10:\n",
        "    print(\"Big\")\n",
        "  else:\n",
        "    print(\"Small\")\n",
        "\n",
        "goo(1, 2)\n",
        "goo(10, 20) # print로 나온거지 우리가 얻어낸 값이 아님"
      ],
      "metadata": {
        "colab": {
          "base_uri": "https://localhost:8080/"
        },
        "id": "0ItZVv7tbOy2",
        "outputId": "85b45f06-352c-4714-e857-0bb0e282bee0"
      },
      "execution_count": null,
      "outputs": [
        {
          "output_type": "stream",
          "name": "stdout",
          "text": [
            "Small\n",
            "Big\n"
          ]
        }
      ]
    },
    {
      "cell_type": "code",
      "source": [
        "# return이란, 함수를 호출했을 때의 결과물.\n",
        "# 이 결과물을 다른 변수에 할당하는 것이 가능 !!\n",
        "result = goo(10, 20)"
      ],
      "metadata": {
        "colab": {
          "base_uri": "https://localhost:8080/"
        },
        "id": "4k_a-7txcEnh",
        "outputId": "89562b99-cd4a-44c9-e8b1-4ef3b743d5aa"
      },
      "execution_count": null,
      "outputs": [
        {
          "output_type": "stream",
          "name": "stdout",
          "text": [
            "Big\n"
          ]
        }
      ]
    },
    {
      "cell_type": "code",
      "source": [
        "result # return값이 없기 때문에 None값이 들어가 있을 수 밖에 없음"
      ],
      "metadata": {
        "id": "DTg8WOwkcsmJ"
      },
      "execution_count": null,
      "outputs": []
    },
    {
      "cell_type": "code",
      "source": [
        "result = print(\"안녕하세요 반갑습니다.\")\n",
        "print(result) #print를 했다고 해서 무언가를 얻어냈다고 생각하면 안됨"
      ],
      "metadata": {
        "colab": {
          "base_uri": "https://localhost:8080/"
        },
        "id": "XuDnaGnGc41s",
        "outputId": "d68263c6-12a2-48eb-e396-4832c6456d0a"
      },
      "execution_count": null,
      "outputs": [
        {
          "output_type": "stream",
          "name": "stdout",
          "text": [
            "안녕하세요 반갑습니다.\n",
            "None\n"
          ]
        }
      ]
    },
    {
      "cell_type": "code",
      "source": [
        "# 3. Parameter X , Return O\n",
        "def moo():\n",
        "  print(\"moo is called\")\n",
        "  lst = [1,3,5,7,9]\n",
        "\n",
        "  total = sum(lst)\n",
        "\n",
        "  return total # return 값이 존재\n",
        "\n",
        "moo_result = moo() # 함수 moo는 값을 변환(return)한다. 따라서 리턴값을 변수로 받아 낼 수 있다.\n",
        "moo_result"
      ],
      "metadata": {
        "colab": {
          "base_uri": "https://localhost:8080/"
        },
        "id": "_R8Six-7dG7C",
        "outputId": "0e1931ab-d3b8-4419-fbc5-f36fcce1094b"
      },
      "execution_count": null,
      "outputs": [
        {
          "output_type": "stream",
          "name": "stdout",
          "text": [
            "moo is called\n"
          ]
        },
        {
          "output_type": "execute_result",
          "data": {
            "text/plain": [
              "25"
            ]
          },
          "metadata": {},
          "execution_count": 9
        }
      ]
    },
    {
      "cell_type": "code",
      "source": [
        "# 4. Parameter O, Return O\n",
        "def hoo(num1, num2):\n",
        "  print(\"hoo is called\")\n",
        "  return num1 + num2"
      ],
      "metadata": {
        "id": "zxeFxxOMdqW8"
      },
      "execution_count": null,
      "outputs": []
    },
    {
      "cell_type": "code",
      "source": [
        "a = 10\n",
        "b = 20\n",
        "\n",
        "hoo_result = hoo(a, b)\n",
        "hoo_result"
      ],
      "metadata": {
        "colab": {
          "base_uri": "https://localhost:8080/"
        },
        "id": "NzL_iaddeqbw",
        "outputId": "33d804ee-c435-4be0-f053-f6de16a58230"
      },
      "execution_count": null,
      "outputs": [
        {
          "output_type": "stream",
          "name": "stdout",
          "text": [
            "hoo is called\n"
          ]
        },
        {
          "output_type": "execute_result",
          "data": {
            "text/plain": [
              "30"
            ]
          },
          "metadata": {},
          "execution_count": 11
        }
      ]
    },
    {
      "cell_type": "markdown",
      "source": [
        "# 파라미터를 정의하는 3가지 방법\n",
        "1. `default parameter` ★★★★★\n",
        "2. 여러 아규먼트를 한꺼번에 묶어서 동시에 포함 시키기 ★★★\n",
        "  * `*args`\n",
        "  * `print` 함수에서 사용되고 있음\n",
        "3. 여러 아규먼트를 `dict` 형태로 받기 ★★\n",
        "  * `**kwargs`\n",
        "  * 직접 만들 일은 생각보다 많이 없으나, 이미 만들어진 것을 사용할 때 주로 사용된다.\n"
      ],
      "metadata": {
        "id": "Tj5Ul9AOewIB"
      }
    },
    {
      "cell_type": "markdown",
      "source": [
        "## Default Parameter\n",
        "- 함수를 호출할 때 Argument를 넣어주지 않아도 기본적으로 파라미터가 가지고 있어야 할 값을 지정"
      ],
      "metadata": {
        "id": "CRvDKa3SFH1i"
      }
    },
    {
      "cell_type": "code",
      "source": [
        "def noo(a, b, c):\n",
        "  print(a, b, c)\n",
        "\n",
        "noo(\"Hello\", 30, 5.1212121)"
      ],
      "metadata": {
        "colab": {
          "base_uri": "https://localhost:8080/"
        },
        "id": "jw3mPe8eFRSe",
        "outputId": "ab1a1e35-1d65-4bc2-d20f-19a226df00fb"
      },
      "execution_count": null,
      "outputs": [
        {
          "output_type": "stream",
          "name": "stdout",
          "text": [
            "Hello 30 5.1212121\n"
          ]
        }
      ]
    },
    {
      "cell_type": "code",
      "source": [
        "noo(10 ,20) # 이러면 오류나옴 내가 받기로한 파라미터가 3개면 같은 값인 3개를 해야하는 거임 파라미터와 아규먼트의 수가 맞아야함\n",
        "# noo() missing 1 required positional argument: 'c'"
      ],
      "metadata": {
        "colab": {
          "base_uri": "https://localhost:8080/",
          "height": 146
        },
        "collapsed": true,
        "id": "0BhlPUxfGDzV",
        "outputId": "beea22c1-28e4-4998-ecb3-0f6baf0d366e"
      },
      "execution_count": null,
      "outputs": [
        {
          "output_type": "error",
          "ename": "TypeError",
          "evalue": "noo() missing 1 required positional argument: 'c'",
          "traceback": [
            "\u001b[0;31m---------------------------------------------------------------------------\u001b[0m",
            "\u001b[0;31mTypeError\u001b[0m                                 Traceback (most recent call last)",
            "\u001b[0;32m<ipython-input-2-9e14d4ffcaae>\u001b[0m in \u001b[0;36m<cell line: 1>\u001b[0;34m()\u001b[0m\n\u001b[0;32m----> 1\u001b[0;31m \u001b[0mnoo\u001b[0m\u001b[0;34m(\u001b[0m\u001b[0;36m10\u001b[0m \u001b[0;34m,\u001b[0m\u001b[0;36m20\u001b[0m\u001b[0;34m)\u001b[0m \u001b[0;31m# 이러면 오류나옴 내가 받기로한 파라미터가 3개면 같은 값인 3개를 해야하는 거임 파라미터와 아규먼트의 수가 맞아야함\u001b[0m\u001b[0;34m\u001b[0m\u001b[0;34m\u001b[0m\u001b[0m\n\u001b[0m",
            "\u001b[0;31mTypeError\u001b[0m: noo() missing 1 required positional argument: 'c'"
          ]
        }
      ]
    },
    {
      "cell_type": "code",
      "source": [
        "# Parameter C 에 기본적으로 30을 넣어주기\n",
        "# Default Parameter\n",
        "def koo(a, b, c = 30):\n",
        "  print(a, b, c)\n",
        "\n",
        "koo(10, 20) # 기본적으로 c가 들어가있어서 아규먼트가 두개만 있어도 됨"
      ],
      "metadata": {
        "colab": {
          "base_uri": "https://localhost:8080/"
        },
        "id": "b-jBrzPKGem-",
        "outputId": "19d451d7-98df-49b6-db50-caae15a5895a"
      },
      "execution_count": null,
      "outputs": [
        {
          "output_type": "stream",
          "name": "stdout",
          "text": [
            "10 20 30\n"
          ]
        }
      ]
    },
    {
      "cell_type": "code",
      "source": [
        "koo(10, 20, \"HiHi\") # c를 바꿔주면 이제부터 c는 HiHi라는 문자열로 바뀌게 됨"
      ],
      "metadata": {
        "colab": {
          "base_uri": "https://localhost:8080/"
        },
        "id": "zd14kRJeGyow",
        "outputId": "a5893ed7-695a-483c-972a-a631abdd4849"
      },
      "execution_count": null,
      "outputs": [
        {
          "output_type": "stream",
          "name": "stdout",
          "text": [
            "10 20 HiHi\n"
          ]
        }
      ]
    },
    {
      "cell_type": "code",
      "source": [
        "# 잘못된 Default Parameter 설정\n",
        "def roo(a, b = 20, c): # 이건 오류가 남 왜냐면 기본 파라미터를 설정하기 위해서는 오른쪽부터 채워야함 왼쪽이나 가운데부터 채우면 오류\n",
        "  print(a, b, c)\n",
        "\n",
        "# 이걸 허용한다면 아규먼트는 왼쪽에서 오른쪽으로 채워지기 때문에 혼동이 온다.\n",
        "# 파라미터는 오른쪽에서 왼쪽"
      ],
      "metadata": {
        "id": "WPV75M_YG_Ta"
      },
      "execution_count": null,
      "outputs": []
    },
    {
      "cell_type": "code",
      "source": [
        "# default paremeter는 오른쪽 부터 채운다.\n",
        "def woo(a, b=20, c=30):\n",
        "  print(a, b, c)\n",
        "\n",
        "print(\"Hello\")"
      ],
      "metadata": {
        "colab": {
          "base_uri": "https://localhost:8080/"
        },
        "id": "rOdiL78QH_R0",
        "outputId": "63fd1abe-3f0f-4400-b59c-c5e1c252c4b0"
      },
      "execution_count": null,
      "outputs": [
        {
          "output_type": "stream",
          "name": "stdout",
          "text": [
            "Hello\n"
          ]
        }
      ]
    },
    {
      "cell_type": "markdown",
      "source": [
        "Default Parameter는 언제 쓸까?\n",
        "- 사용자가 넣어주지 않아도 기본적으로 세팅되어야 할 옵션이 있을 때 사용\n"
      ],
      "metadata": {
        "id": "ODKA5wQ_INne"
      }
    },
    {
      "cell_type": "markdown",
      "source": [
        "## `*args`\n",
        "- 함수를 정의하면서 Argument가 `n`개가 들어 갈 수 있다!\n",
        "- `*`을 `asterisk`라고 함\n",
        "\n",
        "args는 관례적으로 쓰는 변수명이지 *이게 중요한거\n",
        "\n",
        "여러개의 아규먼트를 받을 수 있음\n",
        "\n",
        "튜플형태로 받게 됨!\n"
      ],
      "metadata": {
        "id": "fR6ptH1wIcjy"
      }
    },
    {
      "cell_type": "code",
      "source": [
        "# 이런식으로 원할 때마다 하나씩 계속 만들면 힘듦\n",
        "def add1(a, b):\n",
        "  print(a+b)\n",
        "\n",
        "def add2(a, b, c):\n",
        "  print(a+b+c)"
      ],
      "metadata": {
        "id": "LQhwlfbsKpUd"
      },
      "execution_count": null,
      "outputs": []
    },
    {
      "cell_type": "code",
      "source": [
        "# 가변적인 개수의 아규먼트를 받아야할 때\n",
        "# 정해진 개수가 아닌 , N개의 Argument를 받아서 처리하고 싶으면 *args 사용\n",
        "\n",
        "def add(*args):\n",
        "  # *args로 Argument를 받으면, 튜플형태로 Argument가 묶여서 들어온다.\n",
        "  print(args)\n",
        "  total = sum(args)\n",
        "  print(total)\n",
        "\n",
        "add(1,2,3,4,5,6,7,8,9,101)"
      ],
      "metadata": {
        "colab": {
          "base_uri": "https://localhost:8080/"
        },
        "id": "ZZ7Yc3wJIvSr",
        "outputId": "b40669b4-d1b1-4adf-8d86-258382c478d8"
      },
      "execution_count": null,
      "outputs": [
        {
          "output_type": "stream",
          "name": "stdout",
          "text": [
            "(1, 2, 3, 4, 5, 6, 7, 8, 9, 101)\n",
            "146\n"
          ]
        }
      ]
    },
    {
      "cell_type": "code",
      "source": [
        "# 하나의 함수에서 여러 개의 *args를 사용할 수 있을까요? 불가\n",
        "\n",
        "# Error\n",
        "# def goo(*args1, *args2):\n",
        "#   pass"
      ],
      "metadata": {
        "id": "kubIAT9MKoB-"
      },
      "execution_count": null,
      "outputs": []
    },
    {
      "cell_type": "code",
      "source": [
        "# Positional Argument와 *args 같이 사용 가능할까요? 가능\n",
        "\n",
        "def qoo(a, b, *args):\n",
        "  print(a)\n",
        "  print(b)\n",
        "  print(args)\n",
        "\n",
        "qoo(1, 2, 3,4,5,6,7,8) # 1은 a, 2는 b, 나머지는 args에 튜플형태로 들어가게 됨"
      ],
      "metadata": {
        "colab": {
          "base_uri": "https://localhost:8080/"
        },
        "id": "Fnv-KmJ_LduE",
        "outputId": "5f0b4c61-a343-4e68-ac6a-8f5eaa432f1a"
      },
      "execution_count": null,
      "outputs": [
        {
          "output_type": "stream",
          "name": "stdout",
          "text": [
            "1\n",
            "2\n",
            "(3, 4, 5, 6, 7, 8)\n"
          ]
        }
      ]
    },
    {
      "cell_type": "code",
      "source": [
        "# *args가 모든 Argument를 먹기 때문에 b가 세팅되지 않는다.\n",
        "def eoo(a, *args, b):\n",
        "  print(a)\n",
        "  print(args)\n",
        "  print(b)\n",
        "\n",
        "eoo(1, 2,3,4,5,6,7, 8) # 함수를 선언할때는 에러가 나지않지만 실행하면 에러남\n",
        "# keyword-only argument: 'b' 라는 에러가나는데 키워드아규먼트는 아규먼트를 정의해주는 것"
      ],
      "metadata": {
        "colab": {
          "base_uri": "https://localhost:8080/",
          "height": 182
        },
        "collapsed": true,
        "id": "x8Rw3B4dL3jO",
        "outputId": "244026c2-95ec-4169-80aa-f28f9fcaa0e5"
      },
      "execution_count": null,
      "outputs": [
        {
          "output_type": "error",
          "ename": "TypeError",
          "evalue": "eoo() missing 1 required keyword-only argument: 'b'",
          "traceback": [
            "\u001b[0;31m---------------------------------------------------------------------------\u001b[0m",
            "\u001b[0;31mTypeError\u001b[0m                                 Traceback (most recent call last)",
            "\u001b[0;32m<ipython-input-9-ddf1757eed71>\u001b[0m in \u001b[0;36m<cell line: 6>\u001b[0;34m()\u001b[0m\n\u001b[1;32m      4\u001b[0m   \u001b[0mprint\u001b[0m\u001b[0;34m(\u001b[0m\u001b[0mb\u001b[0m\u001b[0;34m)\u001b[0m\u001b[0;34m\u001b[0m\u001b[0;34m\u001b[0m\u001b[0m\n\u001b[1;32m      5\u001b[0m \u001b[0;34m\u001b[0m\u001b[0m\n\u001b[0;32m----> 6\u001b[0;31m \u001b[0meoo\u001b[0m\u001b[0;34m(\u001b[0m\u001b[0;36m1\u001b[0m\u001b[0;34m,\u001b[0m \u001b[0;36m2\u001b[0m\u001b[0;34m,\u001b[0m\u001b[0;36m3\u001b[0m\u001b[0;34m,\u001b[0m\u001b[0;36m4\u001b[0m\u001b[0;34m,\u001b[0m\u001b[0;36m5\u001b[0m\u001b[0;34m,\u001b[0m\u001b[0;36m6\u001b[0m\u001b[0;34m,\u001b[0m\u001b[0;36m7\u001b[0m\u001b[0;34m,\u001b[0m \u001b[0;36m8\u001b[0m\u001b[0;34m)\u001b[0m\u001b[0;34m\u001b[0m\u001b[0;34m\u001b[0m\u001b[0m\n\u001b[0m",
            "\u001b[0;31mTypeError\u001b[0m: eoo() missing 1 required keyword-only argument: 'b'"
          ]
        }
      ]
    },
    {
      "cell_type": "code",
      "source": [
        "# b에 Keyword Argument를 지정\n",
        "eoo(1,2,3,4,5,6,7, b=8) # 이런식으로 b를 직접 넣어주는 것을 키워드아규먼트라고 함"
      ],
      "metadata": {
        "colab": {
          "base_uri": "https://localhost:8080/"
        },
        "id": "C0X_fzmXMMzh",
        "outputId": "ffb05d6e-b748-4b94-f9ff-7d9f08adfbec"
      },
      "execution_count": null,
      "outputs": [
        {
          "output_type": "stream",
          "name": "stdout",
          "text": [
            "1\n",
            "(2, 3, 4, 5, 6, 7)\n",
            "8\n"
          ]
        }
      ]
    },
    {
      "cell_type": "markdown",
      "source": [
        "Parameter에 지정하는 것을 Default Paremeter\n",
        "\n",
        "Argument에 지정하는 것을 Keyword Argument\n",
        "\n",
        "둘 중하나만 해놓으면 오류 안남"
      ],
      "metadata": {
        "id": "TB3iBw7-aEkZ"
      }
    },
    {
      "cell_type": "code",
      "source": [
        "# b에 Default Parameter를 사용하여 에러 방지\n",
        "def eoo(a, *args, b=\"Hello\"): #default parameter를 같이 쓰는 경우에는 에러가 나지 않음\n",
        "  print(a)\n",
        "  print(args)\n",
        "  print(b)\n",
        "\n",
        "eoo(1, 2,3,4,5,6,7)"
      ],
      "metadata": {
        "colab": {
          "base_uri": "https://localhost:8080/"
        },
        "id": "QtE__wnKMiuV",
        "outputId": "888e2b6e-2431-4ceb-f175-a2443eabace1"
      },
      "execution_count": null,
      "outputs": [
        {
          "output_type": "stream",
          "name": "stdout",
          "text": [
            "1\n",
            "(2, 3, 4, 5, 6, 7)\n",
            "Hello\n"
          ]
        }
      ]
    },
    {
      "cell_type": "code",
      "source": [
        "# 에러는 없지만, default parameter를 사용하는 의미가 없음\n",
        "def eoo(a, b=\"Hello\", *args): # 오류가 나진 않지만 디폴트 파라미터의 의미가 없음\n",
        "  print(a)\n",
        "  print(b)\n",
        "  print(args)\n",
        "\n",
        "eoo(1, 2, 3,4,5,6,7)"
      ],
      "metadata": {
        "colab": {
          "base_uri": "https://localhost:8080/"
        },
        "id": "VRI3q5OuNFa4",
        "outputId": "3e47256d-72da-4f96-bd69-cdbc2de19d58"
      },
      "execution_count": null,
      "outputs": [
        {
          "output_type": "stream",
          "name": "stdout",
          "text": [
            "1\n",
            "2\n",
            "(3, 4, 5, 6, 7)\n"
          ]
        }
      ]
    },
    {
      "cell_type": "markdown",
      "source": [
        "## Keyword Argument\n",
        "\n",
        "-파라미터에 값을 넣어줄 때 파라미터의 변수명을 직접 기입하는 것"
      ],
      "metadata": {
        "id": "_ugn1AHcNbwH"
      }
    },
    {
      "cell_type": "code",
      "source": [
        "def too(a, b,c):\n",
        "  print(a, b, c)\n",
        "\n",
        "# 파라미터 a, b, c의 순서에 맞춰서 Argument를 넣는 것 - Positional Argument\n",
        "too(10, 20, 30)\n",
        "\n",
        "# 파라미터의 변수명을 직접 기입하는 것 - Keyword Argument\n",
        "too(c=30, a=10, b=20)\n",
        "\n",
        "# 포지셔널과 키워드를 혼합해서 사용하는 것도 가능\n",
        "too(10, c=30, b=20)"
      ],
      "metadata": {
        "colab": {
          "base_uri": "https://localhost:8080/"
        },
        "id": "P4w5zwC_N7nz",
        "outputId": "eca7a7dc-36b6-4978-b4d6-518d79a904d5"
      },
      "execution_count": null,
      "outputs": [
        {
          "output_type": "stream",
          "name": "stdout",
          "text": [
            "10 20 30\n",
            "10 20 30\n",
            "10 20 30\n"
          ]
        }
      ]
    },
    {
      "cell_type": "code",
      "source": [
        "too(c= 30, 20, a=10) # 혼합해서 사용하더라도 Positional Argument는 왼쪽에서 오른쪽의 순서이기 때문에 가운데에 있으면 오류남"
      ],
      "metadata": {
        "id": "zXzhc56WOsTd"
      },
      "execution_count": null,
      "outputs": []
    },
    {
      "cell_type": "markdown",
      "source": [
        "## `**kwargs`\n",
        "- 직접 정의해서 만드는 경우는 많이 없으나, 알아두기만 해도 좋다.\n",
        "- 입력된 keyword Argument들을 `dict`로 정리\n",
        "\n",
        "args는 튜플, kwargs는 딕셔너리 형태!"
      ],
      "metadata": {
        "id": "UP4vSjutSQjt"
      }
    },
    {
      "cell_type": "code",
      "source": [
        "def yoo(a, b, **kwargs):\n",
        "  print(a)\n",
        "  print(b)\n",
        "  print(kwargs)"
      ],
      "metadata": {
        "id": "p4CwX_aPShxB"
      },
      "execution_count": null,
      "outputs": []
    },
    {
      "cell_type": "code",
      "source": [
        "yoo(10, 20, c=30, hihi=40, gamja=50) # 뭐가들어가든 일단 다 받아줄 수 있는 것이 kwargs"
      ],
      "metadata": {
        "colab": {
          "base_uri": "https://localhost:8080/"
        },
        "id": "nVLId_LxTf6-",
        "outputId": "d8029f6f-61e5-41f9-8093-ce49d505c8eb"
      },
      "execution_count": null,
      "outputs": [
        {
          "output_type": "stream",
          "name": "stdout",
          "text": [
            "10\n",
            "20\n",
            "{'c': 30, 'hihi': 40, 'gamja': 50}\n"
          ]
        }
      ]
    },
    {
      "cell_type": "code",
      "source": [
        "def aoo(a, b, *args, **kwargs):\n",
        "  print(a)\n",
        "  print(b)\n",
        "  print(args)\n",
        "  print(kwargs)\n",
        "\n",
        "aoo(1,2,3,4,5,6,7,8, c=\"hihi\", d=\"goguma\") # kwargs가 딕셔너리로 저장이 됨"
      ],
      "metadata": {
        "colab": {
          "base_uri": "https://localhost:8080/"
        },
        "id": "TPsNWyqSTkLM",
        "outputId": "e78d78c0-9580-4ee1-a094-9bde0cffab8f"
      },
      "execution_count": null,
      "outputs": [
        {
          "output_type": "stream",
          "name": "stdout",
          "text": [
            "1\n",
            "2\n",
            "(3, 4, 5, 6, 7, 8)\n",
            "{'c': 'hihi', 'd': 'goguma'}\n"
          ]
        }
      ]
    },
    {
      "cell_type": "code",
      "source": [
        "def boo(a, b, c=30, d=40, *args, **kwargs): # default parameter를 쓰는 의미가 없어짐\n",
        "  print(a)\n",
        "  print(b)\n",
        "  print(c)\n",
        "  print(d)\n",
        "  print(args)\n",
        "  print(kwargs)"
      ],
      "metadata": {
        "id": "t8nFMH_7T0Jg"
      },
      "execution_count": null,
      "outputs": []
    },
    {
      "cell_type": "code",
      "source": [
        "# default aprameter를 쓰는 의미가 없어짐\n",
        "boo(1,2,3,4,5,6,7, e=10, f=30) # 다 먹어버리기때문에 디폴트파라미터의 의미가 없음"
      ],
      "metadata": {
        "colab": {
          "base_uri": "https://localhost:8080/"
        },
        "id": "plrkZSIAVUZI",
        "outputId": "794ca2e8-8d55-43c0-dace-bab2b5466962"
      },
      "execution_count": null,
      "outputs": [
        {
          "output_type": "stream",
          "name": "stdout",
          "text": [
            "1\n",
            "2\n",
            "3\n",
            "4\n",
            "(5, 6, 7)\n",
            "{'e': 10, 'f': 30}\n"
          ]
        }
      ]
    },
    {
      "cell_type": "code",
      "source": [
        "boo(1,2, e=10, f=40) # args의 의미가 없어짐"
      ],
      "metadata": {
        "colab": {
          "base_uri": "https://localhost:8080/"
        },
        "id": "IbO5dzgNU6T7",
        "outputId": "fda1d6b5-9a15-4d35-93d9-75dc4fba0549"
      },
      "execution_count": null,
      "outputs": [
        {
          "output_type": "stream",
          "name": "stdout",
          "text": [
            "1\n",
            "2\n",
            "30\n",
            "40\n",
            "()\n",
            "{'e': 10, 'f': 40}\n"
          ]
        }
      ]
    },
    {
      "cell_type": "code",
      "source": [
        "boo(1,2,3,4,5,6,7, e=10, f=30, c=\"gamja\", d=\"goguma\") # c의 아규먼트가 중복처리되어 에러\n",
        "# multiple values for argument 'c'"
      ],
      "metadata": {
        "colab": {
          "base_uri": "https://localhost:8080/",
          "height": 146
        },
        "collapsed": true,
        "id": "5K3J-groVMF7",
        "outputId": "42d05d6c-14f2-4a1c-a13a-57790b8c51c2"
      },
      "execution_count": null,
      "outputs": [
        {
          "output_type": "error",
          "ename": "TypeError",
          "evalue": "boo() got multiple values for argument 'c'",
          "traceback": [
            "\u001b[0;31m---------------------------------------------------------------------------\u001b[0m",
            "\u001b[0;31mTypeError\u001b[0m                                 Traceback (most recent call last)",
            "\u001b[0;32m<ipython-input-23-32b34eeacbb6>\u001b[0m in \u001b[0;36m<cell line: 1>\u001b[0;34m()\u001b[0m\n\u001b[0;32m----> 1\u001b[0;31m \u001b[0mboo\u001b[0m\u001b[0;34m(\u001b[0m\u001b[0;36m1\u001b[0m\u001b[0;34m,\u001b[0m\u001b[0;36m2\u001b[0m\u001b[0;34m,\u001b[0m\u001b[0;36m3\u001b[0m\u001b[0;34m,\u001b[0m\u001b[0;36m4\u001b[0m\u001b[0;34m,\u001b[0m\u001b[0;36m5\u001b[0m\u001b[0;34m,\u001b[0m\u001b[0;36m6\u001b[0m\u001b[0;34m,\u001b[0m\u001b[0;36m7\u001b[0m\u001b[0;34m,\u001b[0m \u001b[0me\u001b[0m\u001b[0;34m=\u001b[0m\u001b[0;36m10\u001b[0m\u001b[0;34m,\u001b[0m \u001b[0mf\u001b[0m\u001b[0;34m=\u001b[0m\u001b[0;36m30\u001b[0m\u001b[0;34m,\u001b[0m \u001b[0mc\u001b[0m\u001b[0;34m=\u001b[0m\u001b[0;34m\"gamja\"\u001b[0m\u001b[0;34m,\u001b[0m \u001b[0md\u001b[0m\u001b[0;34m=\u001b[0m\u001b[0;34m\"goguma\"\u001b[0m\u001b[0;34m)\u001b[0m\u001b[0;34m\u001b[0m\u001b[0;34m\u001b[0m\u001b[0m\n\u001b[0m",
            "\u001b[0;31mTypeError\u001b[0m: boo() got multiple values for argument 'c'"
          ]
        }
      ]
    },
    {
      "cell_type": "code",
      "source": [
        "def coo(a, b, *args, c=30, d=40, **kwargs): # positional argument를 args까지 다 처리 할 수 있고 default parameter, kwargs 이렇게하면 완벽한 구조\n",
        "  print(a)\n",
        "  print(b)\n",
        "  print(args)\n",
        "  print(c)\n",
        "  print(d)\n",
        "  print(kwargs)"
      ],
      "metadata": {
        "id": "-XeMG43iVw4_"
      },
      "execution_count": null,
      "outputs": []
    },
    {
      "cell_type": "code",
      "source": [
        "coo(1,2,3,4,5,6,7, e=\"hihi\", f=\"bye\")"
      ],
      "metadata": {
        "colab": {
          "base_uri": "https://localhost:8080/"
        },
        "id": "JQiUsfYHW3uu",
        "outputId": "ed798855-7f2f-45b4-e63f-52be7ab82b9f"
      },
      "execution_count": null,
      "outputs": [
        {
          "output_type": "stream",
          "name": "stdout",
          "text": [
            "1\n",
            "2\n",
            "(3, 4, 5, 6, 7)\n",
            "30\n",
            "40\n",
            "{'e': 'hihi', 'f': 'bye'}\n"
          ]
        }
      ]
    },
    {
      "cell_type": "markdown",
      "source": [
        "## Lambda Function\n",
        "\n",
        "- 삼항연산 또는 컴프리헨션과 흡사하게 만들어지는 함수\n",
        "- 한줄짜리 간단한 함수를 만들 때 사용\n",
        "- 1회용 함수를 만들 때 많이 사용"
      ],
      "metadata": {
        "id": "i7TIsBWgW-yR"
      }
    },
    {
      "cell_type": "code",
      "source": [
        "lambda a : print(a) # 함수의 이름은 변수의 이름과 같다. 똑같은 역할을 한다."
      ],
      "metadata": {
        "colab": {
          "base_uri": "https://localhost:8080/"
        },
        "id": "DfPNiKhafuRR",
        "outputId": "3dcc9bae-5087-4b00-b3c8-3ea8f4524ac4"
      },
      "execution_count": null,
      "outputs": [
        {
          "output_type": "execute_result",
          "data": {
            "text/plain": [
              "<function __main__.<lambda>(a)>"
            ]
          },
          "metadata": {},
          "execution_count": 28
        }
      ]
    },
    {
      "cell_type": "code",
      "source": [
        "coo"
      ],
      "metadata": {
        "colab": {
          "base_uri": "https://localhost:8080/",
          "height": 103
        },
        "id": "jLYnhrfhgZHg",
        "outputId": "dc7a9fb9-f4c9-4793-b8ff-18e537d80158"
      },
      "execution_count": null,
      "outputs": [
        {
          "output_type": "execute_result",
          "data": {
            "text/plain": [
              "<function __main__.coo(a, b, *args, c=30, d=40, **kwargs)>"
            ],
            "text/html": [
              "<div style=\"max-width:800px; border: 1px solid var(--colab-border-color);\"><style>\n",
              "      pre.function-repr-contents {\n",
              "        overflow-x: auto;\n",
              "        padding: 8px 12px;\n",
              "        max-height: 500px;\n",
              "      }\n",
              "\n",
              "      pre.function-repr-contents.function-repr-contents-collapsed {\n",
              "        cursor: pointer;\n",
              "        max-height: 100px;\n",
              "      }\n",
              "    </style>\n",
              "    <pre style=\"white-space: initial; background:\n",
              "         var(--colab-secondary-surface-color); padding: 8px 12px;\n",
              "         border-bottom: 1px solid var(--colab-border-color);\"><b>coo</b><br/>def coo(a, b, *args, c=30, d=40, **kwargs)</pre><pre class=\"function-repr-contents function-repr-contents-collapsed\" style=\"\"><a class=\"filepath\" style=\"display:none\" href=\"#\">/content/&lt;ipython-input-25-fca9d0e74ad8&gt;</a>&lt;no docstring&gt;</pre></div>"
            ]
          },
          "metadata": {},
          "execution_count": 29
        }
      ]
    },
    {
      "cell_type": "code",
      "source": [
        "def add(num1, num2):\n",
        "  return num1 + num2\n",
        "\n",
        "add(1,2)"
      ],
      "metadata": {
        "colab": {
          "base_uri": "https://localhost:8080/"
        },
        "id": "jaKmZQxaglmw",
        "outputId": "fd9c0e9a-93cf-4b88-82d3-7ecc2778ce2f"
      },
      "execution_count": null,
      "outputs": [
        {
          "output_type": "execute_result",
          "data": {
            "text/plain": [
              "3"
            ]
          },
          "metadata": {},
          "execution_count": 30
        }
      ]
    },
    {
      "cell_type": "markdown",
      "source": [
        "`lambda <parameter> : <return>`"
      ],
      "metadata": {
        "id": "vVqL7Sy0hAQs"
      }
    },
    {
      "cell_type": "code",
      "source": [
        "add_lambda = lambda num1, num2 : num1 + num2 # 변수처럼 만들고있지만 실제로는 함수\n",
        "add_lambda(1,2)"
      ],
      "metadata": {
        "colab": {
          "base_uri": "https://localhost:8080/"
        },
        "id": "trBnPHnBhRAk",
        "outputId": "c43fc80c-bc0c-43dd-b0ff-5216b236c9c1"
      },
      "execution_count": null,
      "outputs": [
        {
          "output_type": "execute_result",
          "data": {
            "text/plain": [
              "3"
            ]
          },
          "metadata": {},
          "execution_count": 31
        }
      ]
    },
    {
      "cell_type": "code",
      "source": [
        "# 숫자 x를 받아서 x의 제곱을 리턴하는 람다 함수 만들기\n",
        "square = lambda x : x**2\n",
        "square(2)"
      ],
      "metadata": {
        "colab": {
          "base_uri": "https://localhost:8080/"
        },
        "id": "SI3lwhChhv5X",
        "outputId": "24bff642-fb90-4491-9b78-33fb0c30a5ff"
      },
      "execution_count": null,
      "outputs": [
        {
          "output_type": "execute_result",
          "data": {
            "text/plain": [
              "4"
            ]
          },
          "metadata": {},
          "execution_count": 33
        }
      ]
    },
    {
      "cell_type": "code",
      "source": [
        "def babo():\n",
        "  print(\"babo\")\n",
        "\n",
        "b = babo\n",
        "b()"
      ],
      "metadata": {
        "colab": {
          "base_uri": "https://localhost:8080/"
        },
        "id": "H2iQFsOIiCB0",
        "outputId": "0a95a73a-769b-4b11-ec0f-0c6ea575fea8"
      },
      "execution_count": null,
      "outputs": [
        {
          "output_type": "stream",
          "name": "stdout",
          "text": [
            "babo\n"
          ]
        }
      ]
    },
    {
      "cell_type": "code",
      "source": [
        "# 함수의 이름이 아규먼트로 들어 갈 수 있다\n",
        "# 함수의 이름은 함수가 아님, 구현된 함수를 호출하기위한 수단, 메모리 주소값"
      ],
      "metadata": {
        "id": "8-yxWtbeipYJ"
      },
      "execution_count": null,
      "outputs": []
    },
    {
      "cell_type": "markdown",
      "source": [
        "## Scope 범위\n",
        "- 제어문 `(if, for, while 등)` 및 함수의 내부에서 선언되는 변수와 밖에서 선언되는 변수의 **사용범위(scope)**가 다르다\n",
        "  - 파이썬에서는 제어문은 해당이 안된다.\n",
        "\n",
        "- `global`(전역), `local`(지역)\n",
        "\n",
        "전역 - 모든 소스코드에 해당 즉, 어디에서는 영향을 미치게 됨\n",
        "지역 - 들여쓰기를 한 부분에 대해서만 영향을 끼침"
      ],
      "metadata": {
        "id": "rE3qsCv-jEmY"
      }
    },
    {
      "cell_type": "code",
      "source": [
        "# 전역 변수 - 어디에서든 접근이 가능\n",
        "# gv이라는 변수가 어디에서든 써먹을 수 있는 변수인거임\n",
        "gv = 10\n",
        "\n",
        "def foo():\n",
        "  print(gv)\n",
        "\n",
        "foo()"
      ],
      "metadata": {
        "colab": {
          "base_uri": "https://localhost:8080/"
        },
        "id": "CjPPrS7EjlHt",
        "outputId": "0fe52315-9690-4431-a890-3492dc5f4c2d"
      },
      "execution_count": null,
      "outputs": [
        {
          "output_type": "stream",
          "name": "stdout",
          "text": [
            "10\n"
          ]
        }
      ]
    },
    {
      "cell_type": "code",
      "source": [
        "gv = 10 # gv가 전역변수로 만들어짐\n",
        "\n",
        "def goo():\n",
        "  gv = 100 # gv가 지역변수로 만들어짐 이름만 같을 뿐이지 다른 scope에 있는 변수\n",
        "  print(gv)\n",
        "\n",
        "goo()\n",
        "print(gv)"
      ],
      "metadata": {
        "colab": {
          "base_uri": "https://localhost:8080/"
        },
        "id": "xsMFYIDhomIE",
        "outputId": "e60643c2-9f3f-4733-e9d2-63392c4ef106"
      },
      "execution_count": null,
      "outputs": [
        {
          "output_type": "stream",
          "name": "stdout",
          "text": [
            "100\n",
            "10\n"
          ]
        }
      ]
    },
    {
      "cell_type": "code",
      "source": [
        "gv = 10\n",
        "\n",
        "def hoo():\n",
        "  # 명시적으로 gv라는 변수가 글로벌 영역의 변수라는 것을 알려주기\n",
        "  global gv\n",
        "  gv = 100\n",
        "  print(gv)\n",
        "\n",
        "hoo()\n",
        "print(gv)"
      ],
      "metadata": {
        "colab": {
          "base_uri": "https://localhost:8080/"
        },
        "id": "WUa-Q0vdo2du",
        "outputId": "938e6a34-7377-4e41-b065-a53c0a5485f4"
      },
      "execution_count": null,
      "outputs": [
        {
          "output_type": "stream",
          "name": "stdout",
          "text": [
            "100\n",
            "100\n"
          ]
        }
      ]
    },
    {
      "cell_type": "code",
      "source": [
        "def moo():\n",
        "  lv_moo = 10\n",
        "  print(lv_moo)\n",
        "\n",
        "moo()\n",
        "print(lv_moo) # 바깥영역에서는 lv_moo를 사용할 수 없음"
      ],
      "metadata": {
        "id": "iSRTE7sHp6mo"
      },
      "execution_count": null,
      "outputs": []
    },
    {
      "cell_type": "markdown",
      "source": [
        "- 함수 밖에서 만들어진 전역 변수는 어디에서든 사용이 가능하다.\n",
        "- 함수 내부에서 만들어진 지역 변수는 함수 내에서만 사용이 가능하다.\n",
        "  - 지역 변수에 해당하는 것 : 함수 내에서 선언된 변수, 파라미터"
      ],
      "metadata": {
        "id": "Y1Pon6we7e-z"
      }
    },
    {
      "cell_type": "markdown",
      "source": [
        "# 지역 함수(내부 함수)\n",
        "- 함수 내부에 또 다른 함수가 정의되는 것"
      ],
      "metadata": {
        "id": "Tufxztpg7rlD"
      }
    },
    {
      "cell_type": "code",
      "source": [
        "def outer(a, b):\n",
        "  print(\"Here is Outer\")\n",
        "\n",
        "  def inner(c, d):\n",
        "    print(\"Here is Inner\")\n",
        "    return c + d\n",
        "\n",
        "  return inner(a, b)\n",
        "\n",
        "# Inner 함수의 호출 시점 : outer의 호출 시점\n",
        "# outer가 호출이 되어야 inner가 호출이 된다.\n",
        "\n",
        "outer(10, 20)\n",
        "# 결과적으로 outer가 리턴하는 것은 inner함수의 결과\n",
        "# 다른 곳에서는 딱히 필요없고 안쪽에서만 사용할때 사용하게 됨, 맥락에 맞게 유지하고 싶을 때, 외부로 보이고 싶지 않을 때"
      ],
      "metadata": {
        "colab": {
          "base_uri": "https://localhost:8080/"
        },
        "id": "_-zd02XC8Bwq",
        "outputId": "e6671bda-9e41-4286-a56f-e745b5b9b8c1"
      },
      "execution_count": null,
      "outputs": [
        {
          "output_type": "stream",
          "name": "stdout",
          "text": [
            "Here is Outer\n",
            "Here is Inner\n"
          ]
        },
        {
          "output_type": "execute_result",
          "data": {
            "text/plain": [
              "30"
            ]
          },
          "metadata": {},
          "execution_count": 44
        }
      ]
    },
    {
      "cell_type": "markdown",
      "source": [
        "클로저 함수는 아래의 조건을 충족해야함\n",
        "\n",
        "- 어떤 함수의 내부 함수일 것\n",
        "\n",
        "- 그 내부 함수가 외부 함수의 변수를 참조할 것\n",
        "\n",
        "- 외부 함수가 내부 함수를 리턴할 것"
      ],
      "metadata": {
        "id": "xb9aMiab02m9"
      }
    },
    {
      "cell_type": "code",
      "source": [
        "# outer 내부에서 정의된 inner를 바로 호출하는 것이 아니고, 내가 원하는 시점에 호출\n",
        "# 1급함수 혹은 closure라고 함\n",
        "def outer(a, b):\n",
        "  print(\"Here is Outer\")\n",
        "\n",
        "  def inner():\n",
        "    print(\"Here is Inner\")\n",
        "    return a+b # outer의 영역이 여기까지 미치니까 당연히 여기에서도 a,b를 사용할 수 있음\n",
        "\n",
        "  return inner\n",
        "\n",
        "inner_func = outer(10, 20)\n",
        "inner_func # outer에 대한 호출 내용은 끝났는데 안쪽에 있는 inner가 있기때문에 outer의 메모리는 살아있음"
      ],
      "metadata": {
        "colab": {
          "base_uri": "https://localhost:8080/",
          "height": 122
        },
        "id": "pNDMf4eX8rrH",
        "outputId": "c393f264-6597-446d-f13a-41aceb44807a"
      },
      "execution_count": null,
      "outputs": [
        {
          "output_type": "stream",
          "name": "stdout",
          "text": [
            "Here is Outer\n"
          ]
        },
        {
          "output_type": "execute_result",
          "data": {
            "text/plain": [
              "<function __main__.outer.<locals>.inner()>"
            ],
            "text/html": [
              "<div style=\"max-width:800px; border: 1px solid var(--colab-border-color);\"><style>\n",
              "      pre.function-repr-contents {\n",
              "        overflow-x: auto;\n",
              "        padding: 8px 12px;\n",
              "        max-height: 500px;\n",
              "      }\n",
              "\n",
              "      pre.function-repr-contents.function-repr-contents-collapsed {\n",
              "        cursor: pointer;\n",
              "        max-height: 100px;\n",
              "      }\n",
              "    </style>\n",
              "    <pre style=\"white-space: initial; background:\n",
              "         var(--colab-secondary-surface-color); padding: 8px 12px;\n",
              "         border-bottom: 1px solid var(--colab-border-color);\"><b>outer.&lt;locals&gt;.inner</b><br/>def inner()</pre><pre class=\"function-repr-contents function-repr-contents-collapsed\" style=\"\"><a class=\"filepath\" style=\"display:none\" href=\"#\">/content/&lt;ipython-input-45-ccd40215a982&gt;</a>&lt;no docstring&gt;</pre></div>"
            ]
          },
          "metadata": {},
          "execution_count": 45
        }
      ]
    },
    {
      "cell_type": "code",
      "source": [
        "# 원할 때 outer의 파라미터인 a, b를 사용함\n",
        "# 즉 내부함수가 외부함수의 지역 변수에 접근할 수 있는 권한을 갖고 있기 때문에\n",
        "# 내부 함수를 외부함수가 밖으로 노출한 경우(return한 경우) 다른 환경에서 외부함수의 내부 지역변수에 접근하는 것 역시 가능하다.\n",
        "# 이러한 현상을 클로저(closure)라고 한다.\n",
        "inner_func() # inner의 호출, 전역영역인데 불구하고 내부함수의 영역에 있는 것을 쓴 것임. 밖에서 안쪽으로 접근했다고 생각하면 됨"
      ],
      "metadata": {
        "colab": {
          "base_uri": "https://localhost:8080/"
        },
        "id": "5_sV3Vtq_AxV",
        "outputId": "851cc961-84d2-4145-a234-2104e17314ce"
      },
      "execution_count": null,
      "outputs": [
        {
          "output_type": "stream",
          "name": "stdout",
          "text": [
            "Here is Inner\n"
          ]
        },
        {
          "output_type": "execute_result",
          "data": {
            "text/plain": [
              "30"
            ]
          },
          "metadata": {},
          "execution_count": 46
        }
      ]
    },
    {
      "cell_type": "markdown",
      "source": [
        "# Callback Function ★★★\n",
        "- 함수의 Argument로 함수가 넘어가는 것\n",
        "- 함수 Argument를 받는 Parameter를 Callback Function 이라고 한다."
      ],
      "metadata": {
        "id": "9hQie05v_Yu9"
      }
    },
    {
      "cell_type": "code",
      "source": [
        "# 값 두개를 받아서 제곱을 한 후 더하거나, 빼는 함수를 만들고 싶다.\n",
        "# callback 함수를 사용하지 않는 경우\n",
        "def foo(a, b, op):\n",
        "  a **= 2\n",
        "  b **= 2\n",
        "\n",
        "  if op == '+':\n",
        "    return a+b\n",
        "  else:\n",
        "    return a-b\n",
        "\n",
        "foo(10,20,'+')"
      ],
      "metadata": {
        "colab": {
          "base_uri": "https://localhost:8080/"
        },
        "id": "oCQQ66HUJBTx",
        "outputId": "a03ca267-e22f-4d8f-8a1c-4e56a7aa49b2"
      },
      "execution_count": null,
      "outputs": [
        {
          "output_type": "execute_result",
          "data": {
            "text/plain": [
              "500"
            ]
          },
          "metadata": {},
          "execution_count": 47
        }
      ]
    },
    {
      "cell_type": "code",
      "source": [
        "# 위의 코드를 callbaxk 함수 사용해서 하는 방법\n",
        "def foo(callback, a, b): # 뭔지 모르겠는 것을 함수로 만들어 놓는 것, 추상화의 일종\n",
        "  a **= 2\n",
        "  b **= 2\n",
        "\n",
        "  print(callback(a, b))"
      ],
      "metadata": {
        "id": "6tqFvttmJoXE"
      },
      "execution_count": null,
      "outputs": []
    },
    {
      "cell_type": "code",
      "source": [
        "def add_func(num1, num2):\n",
        "  return num1 + num2\n",
        "\n",
        "def sub_func(num1, num2):\n",
        "  return num1 - num2\n",
        "\n",
        "# def mul_func(num1, num2):\n",
        "#   return num1 * num2\n",
        "\n",
        "# def div_func(num1, num2):\n",
        "#   return num1 / num2\n",
        "\n",
        "foo(add_func, 10, 20)"
      ],
      "metadata": {
        "colab": {
          "base_uri": "https://localhost:8080/"
        },
        "id": "oWssgIJnLKjv",
        "outputId": "5265addc-32f6-4bcc-f5dc-a2b931df8b3d"
      },
      "execution_count": null,
      "outputs": [
        {
          "output_type": "stream",
          "name": "stdout",
          "text": [
            "500\n"
          ]
        }
      ]
    },
    {
      "cell_type": "code",
      "source": [
        "foo(sub_func, 10, 20)"
      ],
      "metadata": {
        "colab": {
          "base_uri": "https://localhost:8080/"
        },
        "id": "TarMppo7LqZY",
        "outputId": "c7e59852-8737-4f39-a4b3-e27f77e3bf9b"
      },
      "execution_count": null,
      "outputs": [
        {
          "output_type": "stream",
          "name": "stdout",
          "text": [
            "-300\n"
          ]
        }
      ]
    },
    {
      "cell_type": "code",
      "source": [
        "mul_func = lambda num1, num2 : num1 * num2\n",
        "div_func = lambda num1, num2 : num1 / num2"
      ],
      "metadata": {
        "id": "r-A31M0-Ldzl"
      },
      "execution_count": null,
      "outputs": []
    },
    {
      "cell_type": "code",
      "source": [
        "foo(mul_func, 10, 20)"
      ],
      "metadata": {
        "colab": {
          "base_uri": "https://localhost:8080/"
        },
        "id": "LQUCPIKfL2ic",
        "outputId": "8aff64c9-1127-4cab-cce7-804f7477964b"
      },
      "execution_count": null,
      "outputs": [
        {
          "output_type": "stream",
          "name": "stdout",
          "text": [
            "40000\n"
          ]
        }
      ]
    },
    {
      "cell_type": "code",
      "source": [
        "foo(div_func, 10, 20)"
      ],
      "metadata": {
        "colab": {
          "base_uri": "https://localhost:8080/"
        },
        "id": "YiSDJUH_MLZL",
        "outputId": "2ef43d39-44a5-4827-a3b3-db5d2adeaebb"
      },
      "execution_count": null,
      "outputs": [
        {
          "output_type": "stream",
          "name": "stdout",
          "text": [
            "0.25\n"
          ]
        }
      ]
    },
    {
      "cell_type": "markdown",
      "source": [
        "# Decorater\n",
        "코드를 바꾸지 않고 기능을 추가하거나 수정하고 싶을 때 사용하는 문법\n",
        "\n",
        "--------------------------\n",
        "\n",
        "버스를 탄다고 예시를 들어봄\n",
        "\n",
        "카드를 태그 - main 로직을 수행하기 위한 로직\n",
        "\n",
        "main 로직은 버스를 탄다 main로직이란 내가 목표하기 위한 로직\n",
        "\n",
        "카드를 태그 - main 로직을 수행하기 위한 로직\n",
        "\n",
        "만약 여기서 지하철로 이동한다고 했을 때 카드를 찍는 로직을 바꿔줘야함\n",
        "메인로직을 위해 부가로직이 계속 들어가야함\n",
        "하지만 메인기능이 아니기 때문에 매번 부가로직을 만들기에는 별로임\n",
        "그때 사용하는 것이 decorater"
      ],
      "metadata": {
        "id": "1zk9yPteMN0M"
      }
    },
    {
      "cell_type": "code",
      "source": [
        "# 카드를 찍은 다음 타고, 찍은 다음 내리는 메인 로직을 꾸며주는 부가적인 로직\n",
        "def tag_card(callback): # callback : 수행할 메인 로직\n",
        "\n",
        "  # 메인 로직을 꾸며줄 함수를 작성\n",
        "  #  메인 로직을 꾸며주는 로직으로 감싸면 된다.\n",
        "  def wrapper(*args, **kwargs): # 어차피 wrapper를 통해서 callback을 사용할 것이기때문에 필요한 것을 wrapper로 부터 받아오면 되는 것 아직 어떤 것이 들어올 지 모르기 때문에 args, kwargs를 사용함 어떠한 아규먼트든지 다 쓸 수 있음\n",
        "    print(\"카드를 찍고 탑니다.\") # 들어올때 패킹된 데이터를 언패킹해서 아규먼트로 보내줘야함\n",
        "    callback(*args, **kwargs) # 위에는 패킹하는 args와 kwargs였지만 여기서는 언패킹하는 것, 언패킹해서 argument에 넣어줘야하기 때문에\n",
        "    print(\"카드를 찍고 내립니다.\")\n",
        "\n",
        "  return wrapper"
      ],
      "metadata": {
        "id": "HgEQghPhMlIW"
      },
      "execution_count": null,
      "outputs": []
    },
    {
      "cell_type": "code",
      "source": [
        "# Decorater 연산자 @\n",
        "@tag_card\n",
        "def bus(fee):\n",
        "  print(f\"{fee}를 내고 버스를 탑니다.\")"
      ],
      "metadata": {
        "id": "h-fh7B4rQZ5v"
      },
      "execution_count": null,
      "outputs": []
    },
    {
      "cell_type": "code",
      "source": [
        "bus(1400)"
      ],
      "metadata": {
        "colab": {
          "base_uri": "https://localhost:8080/"
        },
        "id": "53ofAZi5QxEr",
        "outputId": "a69431fe-940c-4b26-e600-2bed52fb1824"
      },
      "execution_count": null,
      "outputs": [
        {
          "output_type": "stream",
          "name": "stdout",
          "text": [
            "카드를 찍고 탑니다.\n",
            "1400를 내고 버스를 탑니다.\n",
            "카드를 찍고 내립니다.\n"
          ]
        }
      ]
    },
    {
      "cell_type": "code",
      "source": [
        "@tag_card\n",
        "def subway(fee):\n",
        "  print(f\"{fee}를 내고 지하철을 탑니다.\")\n",
        "\n",
        "subway(1400)"
      ],
      "metadata": {
        "colab": {
          "base_uri": "https://localhost:8080/"
        },
        "id": "dkm6Z9rUQ2Ag",
        "outputId": "c5023990-4a8c-42d0-d208-69a1ae560d4e"
      },
      "execution_count": null,
      "outputs": [
        {
          "output_type": "stream",
          "name": "stdout",
          "text": [
            "카드를 찍고 탑니다.\n",
            "1400를 내고 지하철을 탑니다.\n",
            "카드를 찍고 내립니다.\n"
          ]
        }
      ]
    },
    {
      "cell_type": "code",
      "source": [],
      "metadata": {
        "id": "sjwlzyCNRTeH"
      },
      "execution_count": null,
      "outputs": []
    }
  ]
}