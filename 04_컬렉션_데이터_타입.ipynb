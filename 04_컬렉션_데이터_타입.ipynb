{
  "nbformat": 4,
  "nbformat_minor": 0,
  "metadata": {
    "colab": {
      "provenance": [],
      "authorship_tag": "ABX9TyN5t7NPy5vq/BHJqzS5DkzC",
      "include_colab_link": true
    },
    "kernelspec": {
      "name": "python3",
      "display_name": "Python 3"
    },
    "language_info": {
      "name": "python"
    }
  },
  "cells": [
    {
      "cell_type": "markdown",
      "metadata": {
        "id": "view-in-github",
        "colab_type": "text"
      },
      "source": [
        "<a href=\"https://colab.research.google.com/github/leesolhahaha/python-basics/blob/main/04_%EC%BB%AC%EB%A0%89%EC%85%98_%EB%8D%B0%EC%9D%B4%ED%84%B0_%ED%83%80%EC%9E%85.ipynb\" target=\"_parent\"><img src=\"https://colab.research.google.com/assets/colab-badge.svg\" alt=\"Open In Colab\"/></a>"
      ]
    },
    {
      "cell_type": "markdown",
      "source": [
        "# 컬렉션\n",
        " - 무엇인가를 모은 것!\n",
        " - 파이썬의 컬렉션은 **파이썬에 존재하는 모든 것**을 모을 수 있다.\n",
        "  - 문법적인 요소들을 빼고는 모두 다 모을 수 있다.\n",
        "  - 데이터, 변수, 함수, 클래스, 오브젝트\n",
        "\n",
        "- 어떠한 데이터를 모아낸 구조\n",
        "  - **자료구조**\n",
        "\n",
        "  문자열은 문자들을 문자들을 보기 좋게 나열 해놨기때문에 컬렉션의 특징을 띄고있는 자료형이지 데이터를 모은 것은 아님 따라서 컬렉션은 아님\n",
        "\n"
      ],
      "metadata": {
        "id": "fv4zqomXmLxq"
      }
    },
    {
      "cell_type": "markdown",
      "source": [
        "## 컬렉션의 종류\n",
        "\n",
        "- list\n",
        " - Sequence 자료형\n",
        " - Mutable 자료형\n",
        "    - 추가된 데이터가 바뀔 수 있다.\n",
        " -중복 데이터 저장이 가능\n",
        " - []또는 list()를 를 이용해서 만들 수 있음\n",
        "\n",
        "\n",
        "- tuple\n",
        "  - Sequence자료형\n",
        "  - Immutable 자료형\n",
        "    - 추가된 데이터가 바뀔 수 없음\n",
        "    - str 형식의 데이터도 immutable\n",
        "\n",
        "  - 중복데이터가 바뀔 수 없다.\n",
        "  - str 형식의 데이터도 Immutable\n",
        "\n",
        "    바뀐게 아니고 바뀐 새로운 문자열이 나오는 것\n",
        "\n",
        "함수에 대해 공부할때 데이터를 안정적으로 꺼내보고 싶을 때\n",
        "\n",
        "- set\n",
        "  - Non-Sequence 자료형\n",
        "    - 데이터 저장의 순서를 보장하지 않음 (index가 없음)\n",
        "  - 중복 데이터의 저장도 허용하지 않음\n",
        "  - **집합**의 개념\n",
        "\n",
        "- dict\n",
        " - Non-Sequence 자료형\n",
        " - Key-Vlaue 구조자료형\n",
        "\n",
        "- generator\n"
      ],
      "metadata": {
        "id": "NULK3WA0nQeA"
      }
    },
    {
      "cell_type": "markdown",
      "source": [
        "## list"
      ],
      "metadata": {
        "id": "zMny8n8fvT4d"
      }
    },
    {
      "cell_type": "code",
      "source": [
        "list1= [1,2,3, \"four\", [6,7], 7.0, True] #[6,7] 는 리스트의 묶음이기때문에 하나의 객제로 봐야함\n",
        "list1"
      ],
      "metadata": {
        "colab": {
          "base_uri": "https://localhost:8080/"
        },
        "id": "vKuwF-RevdbA",
        "outputId": "4d3db98d-cc65-4855-f9a0-4b79728f4284"
      },
      "execution_count": null,
      "outputs": [
        {
          "output_type": "execute_result",
          "data": {
            "text/plain": [
              "[1, 2, 3, 'four', [6, 7], 7.0, True]"
            ]
          },
          "metadata": {},
          "execution_count": 2
        }
      ]
    },
    {
      "cell_type": "code",
      "source": [
        "len(list1) #시퀀스 자료형이기때문에 길이를 잴 수 있음"
      ],
      "metadata": {
        "colab": {
          "base_uri": "https://localhost:8080/"
        },
        "id": "iE4yFUVevleG",
        "outputId": "26fe71cc-e474-499e-b233-abcd6feba5e8"
      },
      "execution_count": null,
      "outputs": [
        {
          "output_type": "execute_result",
          "data": {
            "text/plain": [
              "7"
            ]
          },
          "metadata": {},
          "execution_count": 6
        }
      ]
    },
    {
      "cell_type": "code",
      "source": [
        "print(list1[3])\n",
        "print(list1[2])\n",
        "print(list1[4])"
      ],
      "metadata": {
        "colab": {
          "base_uri": "https://localhost:8080/"
        },
        "id": "37I8mH4twLXI",
        "outputId": "e7c22c48-5fce-4c41-9ee0-d07a22194829"
      },
      "execution_count": null,
      "outputs": [
        {
          "output_type": "stream",
          "name": "stdout",
          "text": [
            "four\n",
            "3\n",
            "[6, 7]\n"
          ]
        }
      ]
    },
    {
      "cell_type": "code",
      "source": [
        "print(list1[4][1]) #나중에 넘파이 사용할때는 [4,1]이렇게 사용해도 됨 지금 말고"
      ],
      "metadata": {
        "colab": {
          "base_uri": "https://localhost:8080/"
        },
        "id": "wbYcEpJAwgdd",
        "outputId": "620d87a0-cb90-4192-d1b1-b8ba837e26ed"
      },
      "execution_count": null,
      "outputs": [
        {
          "output_type": "stream",
          "name": "stdout",
          "text": [
            "7\n"
          ]
        }
      ]
    },
    {
      "cell_type": "code",
      "source": [
        "BTS = [\"정국\", \"슈가\", \"뷔\", \"랩몬스터\", \"지민\", \"제이홉\", \"진\"]\n",
        "\n",
        "# 문제1 => \"랩몬스터에서 \"몬스터\"만 추출\n",
        "# 문제 => [진, 지민, 뷔, 정국] 만 추출\n",
        "\n",
        "print(BTS[3][1:])\n",
        "print(BTS[::-2])"
      ],
      "metadata": {
        "colab": {
          "base_uri": "https://localhost:8080/"
        },
        "id": "XUuKt0Y1w0Mo",
        "outputId": "e11b6fad-fa57-4260-cf5d-fe83fdab7b22"
      },
      "execution_count": null,
      "outputs": [
        {
          "output_type": "stream",
          "name": "stdout",
          "text": [
            "몬스터\n",
            "['진', '지민', '뷔', '정국']\n"
          ]
        }
      ]
    },
    {
      "cell_type": "markdown",
      "source": [
        "## list의 기능\n",
        "\n",
        "- append() 완전 중요!!!!!\n",
        "  - list의 제일 뒤에 값을 추가함\n",
        "\n",
        "- sort() 중요!\n",
        "  - 오름차순 정렬\n",
        "  - reverse=True 설정하면 내림차순 정렬\n",
        "\n",
        "- pop()\n",
        "   - 제일 뒤에 있는 데이터를 꺼내고 삭제"
      ],
      "metadata": {
        "id": "ClmeO5LRx3fX"
      }
    },
    {
      "cell_type": "code",
      "source": [
        "list2 = [1,2]\n",
        "list2.append(3) #개발자 출력을 했을 때 내가 얻어낼 수 있는 값이 하나도 없다는 뜻이라서 # 어팬드에 의해서 변화를 한거지 새로운 리스트가 만들어진것이 아님\n",
        "#새로운게 만들어지는게 아니라 내부에 변화가 일어나는 것\n"
      ],
      "metadata": {
        "id": "NHnQreJ2y3Wm"
      },
      "execution_count": null,
      "outputs": []
    },
    {
      "cell_type": "code",
      "source": [
        "list2[:2] # 이거는 실제로 잘린게 아니라 잘린 것 처럼 보이는 것 실제로는 바뀌지 않음"
      ],
      "metadata": {
        "colab": {
          "base_uri": "https://localhost:8080/"
        },
        "id": "uYbo8Wzgy8wO",
        "outputId": "9ef9aa73-34ae-4300-f65e-63a69bfdd64a"
      },
      "execution_count": null,
      "outputs": [
        {
          "output_type": "execute_result",
          "data": {
            "text/plain": [
              "[1, 2]"
            ]
          },
          "metadata": {},
          "execution_count": 2
        }
      ]
    },
    {
      "cell_type": "code",
      "source": [
        "list2"
      ],
      "metadata": {
        "colab": {
          "base_uri": "https://localhost:8080/"
        },
        "id": "yHeVOl9nzn4E",
        "outputId": "bd0512ee-f40d-4686-87a8-f262b5aa198c"
      },
      "execution_count": null,
      "outputs": [
        {
          "output_type": "execute_result",
          "data": {
            "text/plain": [
              "[1, 2, 3]"
            ]
          },
          "metadata": {},
          "execution_count": 3
        }
      ]
    },
    {
      "cell_type": "code",
      "source": [
        "print(list2.append(4)) #내부적으로 변화만 있을 뿐이지 의미가 있는 값이 나올 것이 없기 때문에 NOne이 나옴"
      ],
      "metadata": {
        "colab": {
          "base_uri": "https://localhost:8080/"
        },
        "id": "q1PELDqcz4Vk",
        "outputId": "7b4f8fea-af73-40d5-a34a-1b0376f58824"
      },
      "execution_count": null,
      "outputs": [
        {
          "output_type": "stream",
          "name": "stdout",
          "text": [
            "None\n"
          ]
        }
      ]
    },
    {
      "cell_type": "code",
      "source": [
        "print(\"a\")"
      ],
      "metadata": {
        "colab": {
          "base_uri": "https://localhost:8080/"
        },
        "id": "1MYXnveO0H_9",
        "outputId": "f066cd6d-f5f7-4eae-fe28-d420545b5753"
      },
      "execution_count": null,
      "outputs": [
        {
          "output_type": "stream",
          "name": "stdout",
          "text": [
            "a\n"
          ]
        }
      ]
    },
    {
      "cell_type": "code",
      "source": [
        "list2 # 내가 보이지 않는 부분에서 변화가 일어난 것이기 때문에 실제로 바뀌는 것을 볼 수 있음"
      ],
      "metadata": {
        "colab": {
          "base_uri": "https://localhost:8080/"
        },
        "id": "K-YjdvCw0KTw",
        "outputId": "05f903b7-d752-47fb-9d25-a0a0def96dc4"
      },
      "execution_count": null,
      "outputs": [
        {
          "output_type": "execute_result",
          "data": {
            "text/plain": [
              "[1, 2, 3, 4]"
            ]
          },
          "metadata": {},
          "execution_count": 6
        }
      ]
    },
    {
      "cell_type": "code",
      "source": [
        "list2.append(5, 6)\n",
        "list2"
      ],
      "metadata": {
        "id": "b8f93kzkqLHU",
        "outputId": "140ed3c5-e96f-46fe-b02d-69d3b9eeba74",
        "colab": {
          "base_uri": "https://localhost:8080/"
        }
      },
      "execution_count": null,
      "outputs": [
        {
          "output_type": "error",
          "ename": "TypeError",
          "evalue": "list.append() takes exactly one argument (2 given)",
          "traceback": [
            "\u001b[0;31m---------------------------------------------------------------------------\u001b[0m",
            "\u001b[0;31mTypeError\u001b[0m                                 Traceback (most recent call last)",
            "\u001b[0;32m<ipython-input-7-f27e10543f0b>\u001b[0m in \u001b[0;36m<cell line: 0>\u001b[0;34m()\u001b[0m\n\u001b[0;32m----> 1\u001b[0;31m \u001b[0mlist2\u001b[0m\u001b[0;34m.\u001b[0m\u001b[0mappend\u001b[0m\u001b[0;34m(\u001b[0m\u001b[0;36m5\u001b[0m\u001b[0;34m,\u001b[0m \u001b[0;36m6\u001b[0m\u001b[0;34m)\u001b[0m\u001b[0;34m\u001b[0m\u001b[0;34m\u001b[0m\u001b[0m\n\u001b[0m\u001b[1;32m      2\u001b[0m \u001b[0mlist2\u001b[0m\u001b[0;34m\u001b[0m\u001b[0;34m\u001b[0m\u001b[0m\n",
            "\u001b[0;31mTypeError\u001b[0m: list.append() takes exactly one argument (2 given)"
          ]
        }
      ]
    },
    {
      "cell_type": "code",
      "source": [
        "list2.append(\"hello\")\n",
        "list2.append(3.141592)\n",
        "list2"
      ],
      "metadata": {
        "colab": {
          "base_uri": "https://localhost:8080/"
        },
        "id": "QsUD6LFE0XrE",
        "outputId": "d04ea0a4-d5c6-4698-8dab-5cb23695f381"
      },
      "execution_count": null,
      "outputs": [
        {
          "output_type": "execute_result",
          "data": {
            "text/plain": [
              "[1, 2, 3, 4, 'hello', 3.141592]"
            ]
          },
          "metadata": {},
          "execution_count": 21
        }
      ]
    },
    {
      "cell_type": "code",
      "source": [
        "list3 = [5,1,4,7,2,3,6]\n",
        "list3"
      ],
      "metadata": {
        "colab": {
          "base_uri": "https://localhost:8080/"
        },
        "id": "zTzhpQox0oVD",
        "outputId": "cf4190e5-6111-4cc9-b29e-cb41b6ce8386"
      },
      "execution_count": null,
      "outputs": [
        {
          "output_type": "execute_result",
          "data": {
            "text/plain": [
              "[5, 1, 4, 7, 2, 3, 6]"
            ]
          },
          "metadata": {},
          "execution_count": 22
        }
      ]
    },
    {
      "cell_type": "code",
      "source": [
        "list3.sort() #오름차순 정렬 힙메모리 안쪽에서 변형이 일어난 것이기때문에 나오지않음 실제로 변화는 안에서 일어남 변화가 된 것처럼 보이는 것이 아니고 실제로 일어난 것이라는 것을 알아야함"
      ],
      "metadata": {
        "id": "kY7dRdGo0v_9"
      },
      "execution_count": null,
      "outputs": []
    },
    {
      "cell_type": "code",
      "source": [
        "list3"
      ],
      "metadata": {
        "colab": {
          "base_uri": "https://localhost:8080/"
        },
        "id": "uQQ7sRlR03RM",
        "outputId": "88431b68-23a9-4ce3-80df-f18b91c98ac2"
      },
      "execution_count": null,
      "outputs": [
        {
          "output_type": "execute_result",
          "data": {
            "text/plain": [
              "[1, 2, 3, 4, 5, 6, 7]"
            ]
          },
          "metadata": {},
          "execution_count": 26
        }
      ]
    },
    {
      "cell_type": "code",
      "source": [
        "list3.sort(reverse=True) #내림차순 정렬\n",
        "list3"
      ],
      "metadata": {
        "colab": {
          "base_uri": "https://localhost:8080/"
        },
        "id": "wMc6wwrR1KXR",
        "outputId": "44da0e4c-a92a-4ee9-9c40-96590efd8f26"
      },
      "execution_count": null,
      "outputs": [
        {
          "output_type": "execute_result",
          "data": {
            "text/plain": [
              "[7, 6, 5, 4, 3, 2, 1]"
            ]
          },
          "metadata": {},
          "execution_count": 27
        }
      ]
    },
    {
      "cell_type": "code",
      "source": [
        "list4 = [\"banana\", \"apple\", \"avocado\", \"cherry\", \"mango\"]\n",
        "list4"
      ],
      "metadata": {
        "colab": {
          "base_uri": "https://localhost:8080/"
        },
        "id": "jbv3SVTr1wh9",
        "outputId": "a4a0b4b3-1562-4655-883b-c1c298c15ff2"
      },
      "execution_count": null,
      "outputs": [
        {
          "output_type": "execute_result",
          "data": {
            "text/plain": [
              "['banana', 'apple', 'avocado', 'cherry', 'mango']"
            ]
          },
          "metadata": {},
          "execution_count": 28
        }
      ]
    },
    {
      "cell_type": "code",
      "source": [
        "list4.sort() # 문자열도 a~z순으로 정렬이 가능하다\n",
        "list4"
      ],
      "metadata": {
        "colab": {
          "base_uri": "https://localhost:8080/"
        },
        "id": "vGcloxz85RJK",
        "outputId": "ffbe5387-d6fd-4797-fa81-7b7175b0d27d"
      },
      "execution_count": null,
      "outputs": [
        {
          "output_type": "execute_result",
          "data": {
            "text/plain": [
              "['apple', 'avocado', 'banana', 'cherry', 'mango']"
            ]
          },
          "metadata": {},
          "execution_count": 29
        }
      ]
    },
    {
      "cell_type": "code",
      "source": [
        "list5 = [\"Apple\", \"apple\", \"Banana\", \"banana\"] #대소문자를 함께 사용하면 대문자가 먼저 나오게 된다. 대문자 a-z 다음에 소문자 a-z 순서\n",
        "list5.sort()\n",
        "list5"
      ],
      "metadata": {
        "colab": {
          "base_uri": "https://localhost:8080/"
        },
        "id": "aaQooqrr5c30",
        "outputId": "9affed92-197a-4459-ab05-e1dc8a38ef14"
      },
      "execution_count": null,
      "outputs": [
        {
          "output_type": "execute_result",
          "data": {
            "text/plain": [
              "['Apple', 'Banana', 'apple', 'banana']"
            ]
          },
          "metadata": {},
          "execution_count": 31
        }
      ]
    },
    {
      "cell_type": "code",
      "source": [
        "# list1= [1,2,3, \"four\", [6,7], 7.0, True]\n",
        "item = list1.pop() #제일 뒤에서 아이템을 빼낸 후 삭제\n",
        "print(item, \" / \", list1) # 계속 실행시키면 계속 마지막이 사라지다가 마지막 하나까지 다 빠지고서도 실행하면 에러남"
      ],
      "metadata": {
        "colab": {
          "base_uri": "https://localhost:8080/"
        },
        "id": "mEfoRULT5p6T",
        "outputId": "16c0d6a2-1278-4983-a835-57b1596a49fd"
      },
      "execution_count": null,
      "outputs": [
        {
          "output_type": "stream",
          "name": "stdout",
          "text": [
            "7.0  /  [1, 2, 3, 'four', [6, 7]]\n"
          ]
        }
      ]
    },
    {
      "cell_type": "code",
      "source": [
        "pokemon1 = [\"피카츄\", \"라이츄\"]\n",
        "pokemon2 = [\"꼬부기\", \"파이리\"]\n",
        "\n",
        "#병합과 추가는 다름 내가 원하는 아이템을 추가할 수 있음\n",
        "\n",
        "#추가(append)\n",
        "pokemon1.append(pokemon2) #포켓몬2를 그대로 넣었기때문에 세개로 나오게 된다. 리스트형태 그대로 추가\n",
        "pokemon1"
      ],
      "metadata": {
        "colab": {
          "base_uri": "https://localhost:8080/"
        },
        "id": "j_qaEBZI6G3J",
        "outputId": "2ea78b64-7369-4d1f-8be2-5424a0b7ba12"
      },
      "execution_count": null,
      "outputs": [
        {
          "output_type": "execute_result",
          "data": {
            "text/plain": [
              "['피카츄', '라이츄', ['꼬부기', '파이리']]"
            ]
          },
          "metadata": {},
          "execution_count": 34
        }
      ]
    },
    {
      "cell_type": "code",
      "source": [
        "#병합(extend) 하나로 뭉치는 것\n",
        "pokemon1 = [\"피카츄\", \"라이츄\"]\n",
        "pokemon2 = [\"꼬부기\", \"파이리\"]\n",
        "\n",
        "pokemon1.extend(pokemon2)\n",
        "pokemon1"
      ],
      "metadata": {
        "colab": {
          "base_uri": "https://localhost:8080/"
        },
        "id": "JeGC-CHz6-RF",
        "outputId": "b498679f-d8a2-417e-cfbe-582f67d2b990"
      },
      "execution_count": null,
      "outputs": [
        {
          "output_type": "execute_result",
          "data": {
            "text/plain": [
              "['피카츄', '라이츄', '꼬부기', '파이리']"
            ]
          },
          "metadata": {},
          "execution_count": 37
        }
      ]
    },
    {
      "cell_type": "code",
      "source": [
        "pokemon1 = [\"피카츄\", \"라이츄\"]\n",
        "pokemon2 = [\"꼬부기\", \"파이리\"]\n",
        "\n",
        "pokemon1 + pokemon2\n",
        "\n",
        "#extend와의 차이점은 extend는 포1에 포2가 들어가는 개념임 포1에 내부적인 변화가 일어나는것\n",
        "#더하기를 하면 합쳐진 모양의 새로운 리스트가 나오는 거임"
      ],
      "metadata": {
        "colab": {
          "base_uri": "https://localhost:8080/"
        },
        "id": "v5fCUPST7OrT",
        "outputId": "e781ba8f-eaa9-40fa-d180-b2b1c06ca1b7"
      },
      "execution_count": null,
      "outputs": [
        {
          "output_type": "execute_result",
          "data": {
            "text/plain": [
              "['피카츄', '라이츄', '꼬부기', '파이리']"
            ]
          },
          "metadata": {},
          "execution_count": 38
        }
      ]
    },
    {
      "cell_type": "markdown",
      "source": [
        "리스트의 기능들은 대부분 내부적으로 변화가 있는 것이라고 생각하면 편함"
      ],
      "metadata": {
        "id": "_lV6_b2T7wAb"
      }
    },
    {
      "cell_type": "markdown",
      "source": [
        "# tuple\n",
        "- 리스트와 매우 흡사하지만 변경(추가, 삭제, 수정)이 불가\n",
        "- 튜플은 리스트보다 같은 데이터를 가졌을 때 공간을 적게 사용"
      ],
      "metadata": {
        "id": "gbTH-iTk7dn2"
      }
    },
    {
      "cell_type": "code",
      "source": [
        "#리스트는 아이템의 수정이 가능\n",
        "lst = [1,2,3]\n",
        "lst[1] = \"hahahaha\"\n",
        "lst"
      ],
      "metadata": {
        "colab": {
          "base_uri": "https://localhost:8080/"
        },
        "id": "bswcFNR38POW",
        "outputId": "2b75f99c-69e2-4564-807e-84761b4859dc"
      },
      "execution_count": null,
      "outputs": [
        {
          "output_type": "execute_result",
          "data": {
            "text/plain": [
              "[1, 'hahahaha', 3]"
            ]
          },
          "metadata": {},
          "execution_count": 39
        }
      ]
    },
    {
      "cell_type": "code",
      "source": [
        "# 튜플은 아이템 수정이 불가능\n",
        "tup = (1,2,3)\n",
        "tup"
      ],
      "metadata": {
        "colab": {
          "base_uri": "https://localhost:8080/"
        },
        "id": "trxWMJrn8eCC",
        "outputId": "4d3c6264-52d6-4ced-84e6-a92bd4edf308"
      },
      "execution_count": null,
      "outputs": [
        {
          "output_type": "execute_result",
          "data": {
            "text/plain": [
              "(1, 2, 3)"
            ]
          },
          "metadata": {},
          "execution_count": 97
        }
      ]
    },
    {
      "cell_type": "code",
      "source": [
        "len(tup) # 시퀀스자료형이기 때문에 길이 잴 수 있음"
      ],
      "metadata": {
        "colab": {
          "base_uri": "https://localhost:8080/"
        },
        "id": "ltQwxZlMfaFl",
        "outputId": "a9b638e6-37ae-4a3a-fc11-3e75ee2f07c4"
      },
      "execution_count": null,
      "outputs": [
        {
          "output_type": "execute_result",
          "data": {
            "text/plain": [
              "3"
            ]
          },
          "metadata": {},
          "execution_count": 98
        }
      ]
    },
    {
      "cell_type": "code",
      "source": [
        "tup[1] = \"hahahaha\" # 아이템 수정이 불가능함 내부적으로 수정을 방지함"
      ],
      "metadata": {
        "id": "LEGtQOVx8lWi"
      },
      "execution_count": null,
      "outputs": []
    },
    {
      "cell_type": "code",
      "source": [
        "tup[1]"
      ],
      "metadata": {
        "colab": {
          "base_uri": "https://localhost:8080/"
        },
        "id": "9pP65x9T8wbJ",
        "outputId": "ba851fe2-d9d3-4544-f530-c1d12483446b"
      },
      "execution_count": null,
      "outputs": [
        {
          "output_type": "execute_result",
          "data": {
            "text/plain": [
              "2"
            ]
          },
          "metadata": {},
          "execution_count": 41
        }
      ]
    },
    {
      "cell_type": "code",
      "source": [
        "tup[:2]"
      ],
      "metadata": {
        "colab": {
          "base_uri": "https://localhost:8080/"
        },
        "id": "NXka0XbW83l7",
        "outputId": "68d22ea0-1992-4102-d97f-0a2e28139b39"
      },
      "execution_count": null,
      "outputs": [
        {
          "output_type": "execute_result",
          "data": {
            "text/plain": [
              "(1, 2)"
            ]
          },
          "metadata": {},
          "execution_count": 42
        }
      ]
    },
    {
      "cell_type": "code",
      "source": [
        "tup[::-1] #바뀐게 아니라 새로운 오브젝트를 만들어 낸것, 같은 시퀀스자료형이기때문에 나누는게 가능하지만 어펜드같은 수정은 불가능"
      ],
      "metadata": {
        "colab": {
          "base_uri": "https://localhost:8080/"
        },
        "id": "UZNm7v_z85Ff",
        "outputId": "4b5106b2-0258-4ea5-ed3c-f62125eb8bf6"
      },
      "execution_count": null,
      "outputs": [
        {
          "output_type": "execute_result",
          "data": {
            "text/plain": [
              "(3, 2, 1)"
            ]
          },
          "metadata": {},
          "execution_count": 43
        }
      ]
    },
    {
      "cell_type": "code",
      "source": [
        "# str 도 Immutable 에러뜸\n",
        "text = \"abcd\"\n",
        "text[1] = \"f\""
      ],
      "metadata": {
        "id": "nD6ZBn2P87B2"
      },
      "execution_count": null,
      "outputs": []
    },
    {
      "cell_type": "code",
      "source": [
        "# \"abcd\" -> \"abfcd\"\n",
        "# 변경이 된 것처럼 보이게 하는 것\n",
        "text = \"abcd\"\n",
        "text = text[:2] + \"f\" + text[2:]\n",
        "text"
      ],
      "metadata": {
        "colab": {
          "base_uri": "https://localhost:8080/",
          "height": 35
        },
        "id": "oVar58ZE9UtD",
        "outputId": "08e532a6-60d1-4fc3-f190-2b58824f5ffe"
      },
      "execution_count": null,
      "outputs": [
        {
          "output_type": "execute_result",
          "data": {
            "text/plain": [
              "'abfcd'"
            ],
            "application/vnd.google.colaboratory.intrinsic+json": {
              "type": "string"
            }
          },
          "metadata": {},
          "execution_count": 47
        }
      ]
    },
    {
      "cell_type": "code",
      "source": [
        "# 리스트와 튜플의 저장공간 비교\n",
        "# 공부하지말고 참고만\n",
        "\n",
        "import sys\n",
        "lst = [1,2,3]\n",
        "tup = 1,2,3 #소괄호 생략 가능\n",
        "\n",
        "print(sys.getsizeof(lst))\n",
        "print(sys.getsizeof(tup))"
      ],
      "metadata": {
        "colab": {
          "base_uri": "https://localhost:8080/"
        },
        "id": "oIJukJTQ9fv8",
        "outputId": "97b3df8e-9000-4039-c47c-9c5d0a72aae7"
      },
      "execution_count": null,
      "outputs": [
        {
          "output_type": "stream",
          "name": "stdout",
          "text": [
            "88\n",
            "64\n"
          ]
        }
      ]
    },
    {
      "cell_type": "markdown",
      "source": [
        "## 패킹(packing), 언패킹(UnPacking) !!!!\n",
        "\n",
        " - 패킹 : 데이터를 모아내는 작업\n",
        " - 언패킹 : 모아낸 데이터를 풀어놓는 작업\n",
        "\n",
        "튜플의 개념보다는 시퀀스의 개념"
      ],
      "metadata": {
        "id": "XvYJII7K-qmQ"
      }
    },
    {
      "cell_type": "code",
      "source": [
        "# 패킹\n",
        "tup = (1, \"two\", 3)\n",
        "\n",
        "#언패킹\n",
        "item1, item2, item3 = tup  # 각각의 객체가 다 분해 되는 것\n",
        "\n",
        "print(item1)\n",
        "print(item2)\n",
        "print(item3)"
      ],
      "metadata": {
        "colab": {
          "base_uri": "https://localhost:8080/"
        },
        "id": "MOYiz6_x-gYV",
        "outputId": "3566ded5-634b-473f-ffb7-fb79e3e2bc17"
      },
      "execution_count": null,
      "outputs": [
        {
          "output_type": "stream",
          "name": "stdout",
          "text": [
            "1\n",
            "two\n",
            "3\n"
          ]
        }
      ]
    },
    {
      "cell_type": "code",
      "source": [
        "item1, item2 = tup #변수와 객체의 수가 맞아야함 오류가 뜸\n",
        "#too many values to unpack"
      ],
      "metadata": {
        "colab": {
          "base_uri": "https://localhost:8080/",
          "height": 146
        },
        "collapsed": true,
        "id": "8C2u--UY_UZ1",
        "outputId": "52fc86c5-bcae-4c9e-b4aa-1c92302d10c7"
      },
      "execution_count": null,
      "outputs": [
        {
          "output_type": "error",
          "ename": "ValueError",
          "evalue": "too many values to unpack (expected 2)",
          "traceback": [
            "\u001b[0;31m---------------------------------------------------------------------------\u001b[0m",
            "\u001b[0;31mValueError\u001b[0m                                Traceback (most recent call last)",
            "\u001b[0;32m<ipython-input-51-3eed0fe4bbf7>\u001b[0m in \u001b[0;36m<cell line: 1>\u001b[0;34m()\u001b[0m\n\u001b[0;32m----> 1\u001b[0;31m \u001b[0mitem1\u001b[0m\u001b[0;34m,\u001b[0m \u001b[0mitem2\u001b[0m \u001b[0;34m=\u001b[0m \u001b[0mtup\u001b[0m \u001b[0;31m#변수와 객체의 수가 맞아야함 오류가 뜸\u001b[0m\u001b[0;34m\u001b[0m\u001b[0;34m\u001b[0m\u001b[0m\n\u001b[0m",
            "\u001b[0;31mValueError\u001b[0m: too many values to unpack (expected 2)"
          ]
        }
      ]
    },
    {
      "cell_type": "code",
      "source": [
        "item1, item2, item3, item4 = tup\n",
        "#not enough values to unpack"
      ],
      "metadata": {
        "colab": {
          "base_uri": "https://localhost:8080/",
          "height": 146
        },
        "collapsed": true,
        "id": "96YbBoiB_sUT",
        "outputId": "2aa03cde-af22-4d9f-9965-da6452c50782"
      },
      "execution_count": null,
      "outputs": [
        {
          "output_type": "error",
          "ename": "ValueError",
          "evalue": "not enough values to unpack (expected 4, got 3)",
          "traceback": [
            "\u001b[0;31m---------------------------------------------------------------------------\u001b[0m",
            "\u001b[0;31mValueError\u001b[0m                                Traceback (most recent call last)",
            "\u001b[0;32m<ipython-input-52-d1e1ed7c1d49>\u001b[0m in \u001b[0;36m<cell line: 1>\u001b[0;34m()\u001b[0m\n\u001b[0;32m----> 1\u001b[0;31m \u001b[0mitem1\u001b[0m\u001b[0;34m,\u001b[0m \u001b[0mitem2\u001b[0m\u001b[0;34m,\u001b[0m \u001b[0mitem3\u001b[0m\u001b[0;34m,\u001b[0m \u001b[0mitem4\u001b[0m \u001b[0;34m=\u001b[0m \u001b[0mtup\u001b[0m\u001b[0;34m\u001b[0m\u001b[0;34m\u001b[0m\u001b[0m\n\u001b[0m",
            "\u001b[0;31mValueError\u001b[0m: not enough values to unpack (expected 4, got 3)"
          ]
        }
      ]
    },
    {
      "cell_type": "code",
      "source": [
        "tup = (\"one\", 2, \"three\")\n",
        "# 문자열만 가지고 오고 싶을 때\n",
        "\n",
        "item1 = tup[0]\n",
        "item2 = tup[2] # 이렇게 해도 되긴 하지만"
      ],
      "metadata": {
        "id": "NNBvK9tV_1-T"
      },
      "execution_count": null,
      "outputs": []
    },
    {
      "cell_type": "code",
      "source": [
        "# 관례상 필요없는 패킹 데이터는 언더바(_)를 변수명으로 사용\n",
        "# _로 아름이 지어진 변수는 사용하지 않을 변수\n",
        "item1, _, item2 = tup"
      ],
      "metadata": {
        "id": "G5hnVyOaAIQp"
      },
      "execution_count": null,
      "outputs": []
    },
    {
      "cell_type": "code",
      "source": [
        "_ #실제로 _에 들어가긴 하지만 사용하지 않을 것을 나타내는 것"
      ],
      "metadata": {
        "colab": {
          "base_uri": "https://localhost:8080/"
        },
        "id": "l50Z-FLcAYpS",
        "outputId": "db40362e-449a-4a88-9afe-418fc53f3bc8"
      },
      "execution_count": null,
      "outputs": [
        {
          "output_type": "execute_result",
          "data": {
            "text/plain": [
              "2"
            ]
          },
          "metadata": {},
          "execution_count": 58
        }
      ]
    },
    {
      "cell_type": "code",
      "source": [
        " # 1,3만 언패킹\n",
        "\n",
        "tup = (1,2,3,4)\n",
        "\n",
        "item1, _, item2, _ = tup"
      ],
      "metadata": {
        "id": "jio65ohhAZFF"
      },
      "execution_count": null,
      "outputs": []
    },
    {
      "cell_type": "markdown",
      "source": [
        "## Set(집합)\n"
      ],
      "metadata": {
        "id": "O8NA1zpNAy9D"
      }
    },
    {
      "cell_type": "code",
      "source": [
        "set1 = {1,1,1,2,2,2,3,3,3,4,4,4,5,5,5} #set 집합이기때문에 하나씩만 나오게 됨\n",
        "lst1 = [1,1,1,2,2,2,3,3,3,4,4,4,5,5,5] #list\n",
        "\n",
        "print(set1)\n",
        "print(lst1)"
      ],
      "metadata": {
        "colab": {
          "base_uri": "https://localhost:8080/"
        },
        "id": "WQobYkk9U1Ks",
        "outputId": "6dd367a4-9682-45a9-ec62-d1cfcb72b925"
      },
      "execution_count": null,
      "outputs": [
        {
          "output_type": "stream",
          "name": "stdout",
          "text": [
            "{1, 2, 3, 4, 5}\n",
            "[1, 1, 1, 2, 2, 2, 3, 3, 3, 4, 4, 4, 5, 5, 5]\n"
          ]
        }
      ]
    },
    {
      "cell_type": "code",
      "source": [
        "set2 = {\"bananan\", \"apple\", \"mango\", \"cherry\", \"orange\"} #배치순서가 무시됨 시퀀스가 아니기 때문데 배치순서가 다 다름\n",
        "lst2 = [\"bananan\", \"apple\", \"mango\", \"cherry\", \"orange\"]\n",
        "\n",
        "print(set2)\n",
        "print(lst2)"
      ],
      "metadata": {
        "colab": {
          "base_uri": "https://localhost:8080/"
        },
        "id": "7aM9w62VVEdS",
        "outputId": "281c2b5a-6c0d-4c3e-f195-282f4c21aa65"
      },
      "execution_count": null,
      "outputs": [
        {
          "output_type": "stream",
          "name": "stdout",
          "text": [
            "{'mango', 'orange', 'bananan', 'cherry', 'apple'}\n",
            "['bananan', 'apple', 'mango', 'cherry', 'orange']\n"
          ]
        }
      ]
    },
    {
      "cell_type": "markdown",
      "source": [
        "## set의 집합 연산\n",
        "- 교집합 : intersection\n",
        "- 합집합 : union\n",
        "- 차집합 : difference\n",
        "- 부분집합 : issubset - 어떠한 집합인가 여부만 나옴"
      ],
      "metadata": {
        "id": "9sfxAI_sVTEu"
      }
    },
    {
      "cell_type": "code",
      "source": [
        "A = {1,2,3}\n",
        "B = {2,3,4}"
      ],
      "metadata": {
        "id": "Ls0Gx-5IWGG6"
      },
      "execution_count": null,
      "outputs": []
    },
    {
      "cell_type": "code",
      "source": [
        "#교집합\n",
        "A.intersection(B)"
      ],
      "metadata": {
        "colab": {
          "base_uri": "https://localhost:8080/"
        },
        "id": "3I5UppyxWKGp",
        "outputId": "a6c6e7a8-5111-4b9e-cb41-a507d8855d79"
      },
      "execution_count": null,
      "outputs": [
        {
          "output_type": "execute_result",
          "data": {
            "text/plain": [
              "{2, 3}"
            ]
          },
          "metadata": {},
          "execution_count": 65
        }
      ]
    },
    {
      "cell_type": "code",
      "source": [
        "# 합집합\n",
        "A.union(B)"
      ],
      "metadata": {
        "colab": {
          "base_uri": "https://localhost:8080/"
        },
        "id": "SfBbWMpMWYLm",
        "outputId": "97001639-e6e9-4ad2-d023-0188ff642cf0"
      },
      "execution_count": null,
      "outputs": [
        {
          "output_type": "execute_result",
          "data": {
            "text/plain": [
              "{1, 2, 3, 4}"
            ]
          },
          "metadata": {},
          "execution_count": 66
        }
      ]
    },
    {
      "cell_type": "code",
      "source": [
        "# 차집합\n",
        "A.difference(B) #A-B 가 되는 거"
      ],
      "metadata": {
        "colab": {
          "base_uri": "https://localhost:8080/"
        },
        "id": "4DMMG6_xWhU6",
        "outputId": "16a33369-4b29-40f7-9163-e386bfa19842"
      },
      "execution_count": null,
      "outputs": [
        {
          "output_type": "execute_result",
          "data": {
            "text/plain": [
              "{1}"
            ]
          },
          "metadata": {},
          "execution_count": 67
        }
      ]
    },
    {
      "cell_type": "code",
      "source": [
        "B.difference(A) # 호출하는 쪽이 기준이 되기 때문에 B - A"
      ],
      "metadata": {
        "colab": {
          "base_uri": "https://localhost:8080/"
        },
        "id": "Lu2--BPbWltO",
        "outputId": "b66c73c2-bebc-4dd4-c0d6-d7cc2b7d6a71"
      },
      "execution_count": null,
      "outputs": [
        {
          "output_type": "execute_result",
          "data": {
            "text/plain": [
              "{4}"
            ]
          },
          "metadata": {},
          "execution_count": 68
        }
      ]
    },
    {
      "cell_type": "code",
      "source": [
        "# 부분집합 - True / False\n",
        "C = {2,3}"
      ],
      "metadata": {
        "id": "XsCF0Qq5Wpis"
      },
      "execution_count": null,
      "outputs": []
    },
    {
      "cell_type": "code",
      "source": [
        "# 집합 C가 A의 부분집합인가?\n",
        "C.issubset(A)"
      ],
      "metadata": {
        "colab": {
          "base_uri": "https://localhost:8080/"
        },
        "id": "zkb6nZn3W5-5",
        "outputId": "44b0afb5-85df-4843-f5be-6758e24dde9d"
      },
      "execution_count": null,
      "outputs": [
        {
          "output_type": "execute_result",
          "data": {
            "text/plain": [
              "True"
            ]
          },
          "metadata": {},
          "execution_count": 71
        }
      ]
    },
    {
      "cell_type": "code",
      "source": [
        "# 집합 C가 B의 부분집합인가?\n",
        "C.issubset(B)"
      ],
      "metadata": {
        "colab": {
          "base_uri": "https://localhost:8080/"
        },
        "id": "oTWq547MW7sU",
        "outputId": "3bec1fc7-ce9d-4977-bca4-02684e3fc0d7"
      },
      "execution_count": null,
      "outputs": [
        {
          "output_type": "execute_result",
          "data": {
            "text/plain": [
              "True"
            ]
          },
          "metadata": {},
          "execution_count": 72
        }
      ]
    },
    {
      "cell_type": "code",
      "source": [
        "# 집합 B가 A의 부분집합인가?\n",
        "B.issubset(A)"
      ],
      "metadata": {
        "colab": {
          "base_uri": "https://localhost:8080/"
        },
        "id": "1atu5VbVW_4N",
        "outputId": "8f2fcb8b-f07f-4905-a61b-47e006ab318a"
      },
      "execution_count": null,
      "outputs": [
        {
          "output_type": "execute_result",
          "data": {
            "text/plain": [
              "False"
            ]
          },
          "metadata": {},
          "execution_count": 73
        }
      ]
    },
    {
      "cell_type": "markdown",
      "source": [
        "'set'은 논 시퀀스이기때문에 인덱스 사용이 불가능"
      ],
      "metadata": {
        "id": "2gLxSa47XLcJ"
      }
    },
    {
      "cell_type": "code",
      "source": [
        "A[0] # 이런식으로 오류가 나옴 'set' object is not subscriptable 특정구조를 읽어낼 수가 없음\n",
        "# subscriptable 특정 데이터에 접근하는 것을 의미하는데 set은 집합이기때문에 그것이 불가능하다는 것"
      ],
      "metadata": {
        "colab": {
          "base_uri": "https://localhost:8080/",
          "height": 146
        },
        "collapsed": true,
        "id": "9k3hMkoIXT9g",
        "outputId": "e23b36dc-4284-4700-aca3-3b9b72d74323"
      },
      "execution_count": null,
      "outputs": [
        {
          "output_type": "error",
          "ename": "TypeError",
          "evalue": "'set' object is not subscriptable",
          "traceback": [
            "\u001b[0;31m---------------------------------------------------------------------------\u001b[0m",
            "\u001b[0;31mTypeError\u001b[0m                                 Traceback (most recent call last)",
            "\u001b[0;32m<ipython-input-74-782c0e2fe61c>\u001b[0m in \u001b[0;36m<cell line: 1>\u001b[0;34m()\u001b[0m\n\u001b[0;32m----> 1\u001b[0;31m \u001b[0mA\u001b[0m\u001b[0;34m[\u001b[0m\u001b[0;36m0\u001b[0m\u001b[0;34m]\u001b[0m\u001b[0;34m\u001b[0m\u001b[0;34m\u001b[0m\u001b[0m\n\u001b[0m",
            "\u001b[0;31mTypeError\u001b[0m: 'set' object is not subscriptable"
          ]
        }
      ]
    },
    {
      "cell_type": "markdown",
      "source": [
        "# dict 중요!!!!\n",
        "\n",
        "- {key : value}\n",
        " - {key1 : value1, key2 : value2, key3 : value3}\n",
        "\n",
        "- key의 특징\n",
        " - key는 set의 형태로 저장된다.\n",
        " - 정수와 문자열로만 설정이 가능\n",
        "\n",
        "- value의 특징\n",
        " - value는 list의 형태로 저장\n",
        " - 중복저장 허용\n",
        " - 파이썬에 존재하는 모든 데이터 타입이 저장 될 수 있음."
      ],
      "metadata": {
        "id": "NW3zfar6XVzw"
      }
    },
    {
      "cell_type": "code",
      "source": [
        "city = {\n",
        "    \"Korea\" : \"Seoul\",\n",
        "    \"Japan\" : \"Tokyo\",\n",
        "    \"Canada\" : \"Ottawa\"\n",
        "}\n",
        "\n",
        "city"
      ],
      "metadata": {
        "colab": {
          "base_uri": "https://localhost:8080/"
        },
        "id": "T5vq4MF7YqZ1",
        "outputId": "7af20f25-7046-4ad7-e767-8504efa71e4e"
      },
      "execution_count": null,
      "outputs": [
        {
          "output_type": "execute_result",
          "data": {
            "text/plain": [
              "{'Japan': 'Tokyo', 'Korea': 'Seoul', 'Canada': 'Ottawa'}"
            ]
          },
          "metadata": {},
          "execution_count": 76
        }
      ]
    },
    {
      "cell_type": "code",
      "source": [
        "# 딕셔너리에서 데이터를 가져오는 방법\n",
        "city[\"Japan\"]"
      ],
      "metadata": {
        "colab": {
          "base_uri": "https://localhost:8080/",
          "height": 35
        },
        "id": "GN9-ZFPxYzuf",
        "outputId": "d2f7a939-2246-4662-c264-25a20507274d"
      },
      "execution_count": null,
      "outputs": [
        {
          "output_type": "execute_result",
          "data": {
            "text/plain": [
              "'Tokyo'"
            ],
            "application/vnd.google.colaboratory.intrinsic+json": {
              "type": "string"
            }
          },
          "metadata": {},
          "execution_count": 77
        }
      ]
    },
    {
      "cell_type": "code",
      "source": [
        "city[\"Korea\"]"
      ],
      "metadata": {
        "colab": {
          "base_uri": "https://localhost:8080/",
          "height": 35
        },
        "id": "2o7SirQtZOnN",
        "outputId": "84d9fa13-565d-4437-d192-bb5cf1e267fb"
      },
      "execution_count": null,
      "outputs": [
        {
          "output_type": "execute_result",
          "data": {
            "text/plain": [
              "'Seoul'"
            ],
            "application/vnd.google.colaboratory.intrinsic+json": {
              "type": "string"
            }
          },
          "metadata": {},
          "execution_count": 79
        }
      ]
    },
    {
      "cell_type": "code",
      "source": [
        "# 없는 키를 조회하면 에러!\n",
        "city[\"USA\"]"
      ],
      "metadata": {
        "id": "4vwDqYCkZQkt"
      },
      "execution_count": null,
      "outputs": []
    },
    {
      "cell_type": "code",
      "source": [
        "# 없는 키를 조회한 경우 대체 값을 지정\n",
        "city.get(\"USA\", \"없음!\")"
      ],
      "metadata": {
        "colab": {
          "base_uri": "https://localhost:8080/",
          "height": 35
        },
        "id": "7CKPcuDkZgLk",
        "outputId": "7fec64da-de26-4ccc-b94c-2f28debd7946"
      },
      "execution_count": null,
      "outputs": [
        {
          "output_type": "execute_result",
          "data": {
            "text/plain": [
              "'없음!'"
            ],
            "application/vnd.google.colaboratory.intrinsic+json": {
              "type": "string"
            }
          },
          "metadata": {},
          "execution_count": 80
        }
      ]
    },
    {
      "cell_type": "markdown",
      "source": [
        "## 'dict'에 데이터를 추가, 변경\n",
        "- 추가와 변경의 문법이 똑같다.\n",
        "- 키가 없으면 추가, 있으면 수정"
      ],
      "metadata": {
        "id": "clYfo_i5ZvBm"
      }
    },
    {
      "cell_type": "code",
      "source": [
        "city[\"China\"] = \"Beijing\"\n",
        "city"
      ],
      "metadata": {
        "colab": {
          "base_uri": "https://localhost:8080/"
        },
        "id": "ub-osNMRZ65C",
        "outputId": "47468b8d-6923-42c8-cc15-30251afab70e"
      },
      "execution_count": null,
      "outputs": [
        {
          "output_type": "execute_result",
          "data": {
            "text/plain": [
              "{'Japan': 'Tokyo', 'Korea': 'Seoul', 'Canada': 'Ottawa', 'China': 'Beijing'}"
            ]
          },
          "metadata": {},
          "execution_count": 81
        }
      ]
    },
    {
      "cell_type": "code",
      "source": [
        "city[\"Japan\"] = \"Kyoto\"\n",
        "city"
      ],
      "metadata": {
        "colab": {
          "base_uri": "https://localhost:8080/"
        },
        "id": "Uj7K47wvaID4",
        "outputId": "ddd1c67b-6edd-4b40-ff36-2cbf98088806"
      },
      "execution_count": null,
      "outputs": [
        {
          "output_type": "execute_result",
          "data": {
            "text/plain": [
              "{'Korea': 'Seoul', 'Canada': 'Ottawa', 'China': 'Beijing', 'Japan': 'Kyoto'}"
            ]
          },
          "metadata": {},
          "execution_count": 95
        }
      ]
    },
    {
      "cell_type": "markdown",
      "source": [
        "## dict의 원소 삭제\n",
        " - del 키워드 활용"
      ],
      "metadata": {
        "id": "GcEonsCkaQ2l"
      }
    },
    {
      "cell_type": "code",
      "source": [
        "del city[\"Japan\"]\n",
        "city"
      ],
      "metadata": {
        "colab": {
          "base_uri": "https://localhost:8080/"
        },
        "id": "gC1amGvdadpT",
        "outputId": "377941ff-fc28-4744-c799-3684ed309dee"
      },
      "execution_count": null,
      "outputs": [
        {
          "output_type": "execute_result",
          "data": {
            "text/plain": [
              "{'Korea': 'Seoul', 'Canada': 'Ottawa', 'China': 'Beijing'}"
            ]
          },
          "metadata": {},
          "execution_count": 96
        }
      ]
    },
    {
      "cell_type": "markdown",
      "source": [
        "## dict의 key, value를 확인\n",
        "잘 알아놔야함 중요"
      ],
      "metadata": {
        "id": "_7lC2WaJag-5"
      }
    },
    {
      "cell_type": "code",
      "source": [
        "# key() : 딕셔너리의 전체 키를 확인\n",
        "city.keys()"
      ],
      "metadata": {
        "colab": {
          "base_uri": "https://localhost:8080/"
        },
        "id": "hC06fJWHarUE",
        "outputId": "8798cd5f-024c-4120-c80d-07846073238c"
      },
      "execution_count": null,
      "outputs": [
        {
          "output_type": "execute_result",
          "data": {
            "text/plain": [
              "dict_keys(['Korea', 'Canada', 'China'])"
            ]
          },
          "metadata": {},
          "execution_count": 84
        }
      ]
    },
    {
      "cell_type": "code",
      "source": [
        "# value() : 딕셔너리의 전체 value를 확인\n",
        "city.values()"
      ],
      "metadata": {
        "colab": {
          "base_uri": "https://localhost:8080/"
        },
        "id": "EPExEm2CaxDX",
        "outputId": "cdb416fc-d14c-4428-aae6-0eddc657f14e"
      },
      "execution_count": null,
      "outputs": [
        {
          "output_type": "execute_result",
          "data": {
            "text/plain": [
              "dict_values(['Seoul', 'Ottawa', 'Beijing'])"
            ]
          },
          "metadata": {},
          "execution_count": 85
        }
      ]
    },
    {
      "cell_type": "code",
      "source": [
        "# items() : 딕셔너리의 전체 key, value를 튜플 형식으로 확인\n",
        "city.items()"
      ],
      "metadata": {
        "colab": {
          "base_uri": "https://localhost:8080/"
        },
        "id": "hPlAfAFva4py",
        "outputId": "ac77af70-4850-460d-8e67-7412071b1831"
      },
      "execution_count": null,
      "outputs": [
        {
          "output_type": "execute_result",
          "data": {
            "text/plain": [
              "dict_items([('Korea', 'Seoul'), ('Canada', 'Ottawa'), ('China', 'Beijing')])"
            ]
          },
          "metadata": {},
          "execution_count": 86
        }
      ]
    },
    {
      "cell_type": "markdown",
      "source": [
        "# 컬렉션끼리의 타입 캐스팅"
      ],
      "metadata": {
        "id": "mKJarmTHbEBR"
      }
    },
    {
      "cell_type": "code",
      "source": [
        " # list -> tuple\n",
        " lst = [1,2,3]\n",
        " tuple(lst)"
      ],
      "metadata": {
        "colab": {
          "base_uri": "https://localhost:8080/"
        },
        "id": "F3xFfHz3bLAw",
        "outputId": "ebc6b4de-a267-491a-d51d-b6342808c31f"
      },
      "execution_count": null,
      "outputs": [
        {
          "output_type": "execute_result",
          "data": {
            "text/plain": [
              "(1, 2, 3)"
            ]
          },
          "metadata": {},
          "execution_count": 87
        }
      ]
    },
    {
      "cell_type": "code",
      "source": [
        "# tuple -> list\n",
        "tup = 1,2,3\n",
        "list(tup)"
      ],
      "metadata": {
        "colab": {
          "base_uri": "https://localhost:8080/"
        },
        "id": "xrgNkG-HbQGs",
        "outputId": "17940323-2a2a-41ba-915f-c44b6ec7faf3"
      },
      "execution_count": null,
      "outputs": [
        {
          "output_type": "execute_result",
          "data": {
            "text/plain": [
              "[1, 2, 3]"
            ]
          },
          "metadata": {},
          "execution_count": 88
        }
      ]
    },
    {
      "cell_type": "code",
      "source": [
        "# Sequence -> set\n",
        "lst = [1,1,2,2,3,3,4,4,5,5]\n",
        "set(lst)"
      ],
      "metadata": {
        "colab": {
          "base_uri": "https://localhost:8080/"
        },
        "id": "uvxxeTIxbWP_",
        "outputId": "2fa785d0-fa53-42c5-cce5-5f3a2c497290"
      },
      "execution_count": null,
      "outputs": [
        {
          "output_type": "execute_result",
          "data": {
            "text/plain": [
              "{1, 2, 3, 4, 5}"
            ]
          },
          "metadata": {},
          "execution_count": 89
        }
      ]
    },
    {
      "cell_type": "code",
      "source": [
        "# dict -> Sequence\n",
        "list(city) # 키값만 나오게 됨"
      ],
      "metadata": {
        "colab": {
          "base_uri": "https://localhost:8080/"
        },
        "id": "RbBUm7l8bdCD",
        "outputId": "9d4f4985-0a7b-4466-898e-49c85126af81"
      },
      "execution_count": null,
      "outputs": [
        {
          "output_type": "execute_result",
          "data": {
            "text/plain": [
              "['Korea', 'Canada', 'China']"
            ]
          },
          "metadata": {},
          "execution_count": 91
        }
      ]
    },
    {
      "cell_type": "code",
      "source": [
        "# dict -> set\n",
        "set(city) # 키값만 나오게 됨"
      ],
      "metadata": {
        "colab": {
          "base_uri": "https://localhost:8080/"
        },
        "id": "LM5oFCdOb3zL",
        "outputId": "d737ffc2-1952-4f0d-ce52-dcc70f91db64"
      },
      "execution_count": null,
      "outputs": [
        {
          "output_type": "execute_result",
          "data": {
            "text/plain": [
              "{'Canada', 'China', 'Korea'}"
            ]
          },
          "metadata": {},
          "execution_count": 92
        }
      ]
    },
    {
      "cell_type": "code",
      "source": [
        "#str -> list\n",
        "text = \"hello\"\n",
        "list(text)"
      ],
      "metadata": {
        "colab": {
          "base_uri": "https://localhost:8080/"
        },
        "id": "IX1XrBPSb_c3",
        "outputId": "35530194-daac-44a9-8220-ce0494a6c52a"
      },
      "execution_count": null,
      "outputs": [
        {
          "output_type": "execute_result",
          "data": {
            "text/plain": [
              "['h', 'e', 'l', 'l', 'o']"
            ]
          },
          "metadata": {},
          "execution_count": 93
        }
      ]
    },
    {
      "cell_type": "code",
      "source": [
        "set(text) # 중복이 제거된 문자만 나오게 됨"
      ],
      "metadata": {
        "colab": {
          "base_uri": "https://localhost:8080/"
        },
        "id": "Ya75au0jcFO8",
        "outputId": "7bab8cd3-35fc-4ade-8bb1-e8ea9c9ffd04"
      },
      "execution_count": null,
      "outputs": [
        {
          "output_type": "execute_result",
          "data": {
            "text/plain": [
              "{'e', 'h', 'l', 'o'}"
            ]
          },
          "metadata": {},
          "execution_count": 94
        }
      ]
    },
    {
      "cell_type": "code",
      "source": [],
      "metadata": {
        "id": "y6IzMyTacPVr"
      },
      "execution_count": null,
      "outputs": []
    }
  ]
}