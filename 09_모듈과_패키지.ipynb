{
  "nbformat": 4,
  "nbformat_minor": 0,
  "metadata": {
    "colab": {
      "provenance": [],
      "authorship_tag": "ABX9TyPIN3eq8ZgO2CgPqDx4WyV3",
      "include_colab_link": true
    },
    "kernelspec": {
      "name": "python3",
      "display_name": "Python 3"
    },
    "language_info": {
      "name": "python"
    }
  },
  "cells": [
    {
      "cell_type": "markdown",
      "metadata": {
        "id": "view-in-github",
        "colab_type": "text"
      },
      "source": [
        "<a href=\"https://colab.research.google.com/github/leesolhahaha/python-basics/blob/main/09_%EB%AA%A8%EB%93%88%EA%B3%BC_%ED%8C%A8%ED%82%A4%EC%A7%80.ipynb\" target=\"_parent\"><img src=\"https://colab.research.google.com/assets/colab-badge.svg\" alt=\"Open In Colab\"/></a>"
      ]
    },
    {
      "cell_type": "markdown",
      "source": [
        "# 모듈(Module), 패키지(Package)\n",
        "- 모듈 : 변수, 함수, 클래스를 모아놓은 `.py` 확장자 파일\n",
        "  - `.py` 파일 : 마크다운이나 셀 같은 정보는 없고, 순수한 파이썬 코드만 존재\n",
        "  - `.ipynb` 파일 : 마크다운 및 시각화 등 여러 정보를 예쁘게 볼 수 있도록 꾸며진 파일\n",
        "- 패키지 : 모듈의 기능을 디렉토리(폴더) 별로 정리해 놓은 개념"
      ],
      "metadata": {
        "id": "YTWA4MV2WUib"
      }
    },
    {
      "cell_type": "code",
      "source": [
        "%%writefile demo.py\n",
        "# 밑의 코드(함수, 변수, 클래스등)를 demo.py파일로 만듦\n",
        "\n",
        "num = 10\n",
        "\n",
        "def foo(msg):\n",
        "  print(f\"foo() => {msg}\")\n",
        "\n",
        "def goo(num1, num2):\n",
        "  # 여러 개의 리턴 값을 튜플로 묶어서 리턴\n",
        "  return num1+num2, num1-num2, num1*num2, num1/num2\n",
        "\n",
        "class DemoCalc:\n",
        "  def sum_all(self, *args):\n",
        "    return sum(args)"
      ],
      "metadata": {
        "colab": {
          "base_uri": "https://localhost:8080/"
        },
        "id": "oPiHzM-AXdYR",
        "outputId": "c214d315-690f-4dd4-98bd-43ac95eb4be9"
      },
      "execution_count": null,
      "outputs": [
        {
          "output_type": "stream",
          "name": "stdout",
          "text": [
            "Writing demo.py\n"
          ]
        }
      ]
    },
    {
      "cell_type": "code",
      "source": [
        "foo(\"hello\") # demo.py를 만든 것이지 이 함수를 선언한 것이 아니라서 실행이 되지않음"
      ],
      "metadata": {
        "colab": {
          "base_uri": "https://localhost:8080/",
          "height": 146
        },
        "collapsed": true,
        "id": "EEnxDTeQYNCy",
        "outputId": "29fb2e91-38f3-4f4f-a93d-d240cdfbdf14"
      },
      "execution_count": null,
      "outputs": [
        {
          "output_type": "error",
          "ename": "NameError",
          "evalue": "name 'foo' is not defined",
          "traceback": [
            "\u001b[0;31m---------------------------------------------------------------------------\u001b[0m",
            "\u001b[0;31mNameError\u001b[0m                                 Traceback (most recent call last)",
            "\u001b[0;32m<ipython-input-2-f5cf11f2b2b9>\u001b[0m in \u001b[0;36m<cell line: 1>\u001b[0;34m()\u001b[0m\n\u001b[0;32m----> 1\u001b[0;31m \u001b[0mfoo\u001b[0m\u001b[0;34m(\u001b[0m\u001b[0;34m\"hello\"\u001b[0m\u001b[0;34m)\u001b[0m \u001b[0;31m# demo.py를 만든 것이지 이 함수를 선언한 것이 아니라서 실행이 되지않음\u001b[0m\u001b[0;34m\u001b[0m\u001b[0;34m\u001b[0m\u001b[0m\n\u001b[0m",
            "\u001b[0;31mNameError\u001b[0m: name 'foo' is not defined"
          ]
        }
      ]
    },
    {
      "cell_type": "markdown",
      "source": [
        "## 모듈 불러오기\n",
        "`import 모듈명` : 모듈을 불러오는 키워드"
      ],
      "metadata": {
        "id": "ki_SQf7NY_dI"
      }
    },
    {
      "cell_type": "code",
      "source": [
        "import demo # demo에 있는 내용의 코드가 다 실행이 됨, 그렇기 때문에 선언만하고 다른 것은 건들지 않는 것이 좋음"
      ],
      "metadata": {
        "id": "HGQnb0sBY3y-"
      },
      "execution_count": null,
      "outputs": []
    },
    {
      "cell_type": "code",
      "source": [
        "demo.foo(\"Hello\") # demo에는 foo 가 있기 때문에 실행이 됨"
      ],
      "metadata": {
        "colab": {
          "base_uri": "https://localhost:8080/"
        },
        "id": "w-C8tzFLY-j9",
        "outputId": "d02f1448-f4ee-40b6-8b2c-77645a3c9242"
      },
      "execution_count": null,
      "outputs": [
        {
          "output_type": "stream",
          "name": "stdout",
          "text": [
            "foo() => Hello\n"
          ]
        }
      ]
    },
    {
      "cell_type": "code",
      "source": [
        "demo.num # demo에는 num이 있기 때문에 실행이 됨"
      ],
      "metadata": {
        "colab": {
          "base_uri": "https://localhost:8080/"
        },
        "id": "sMUHzPjJZH0t",
        "outputId": "045fb69f-e5d9-472d-9689-7aa78a2f1967"
      },
      "execution_count": null,
      "outputs": [
        {
          "output_type": "execute_result",
          "data": {
            "text/plain": [
              "10"
            ]
          },
          "metadata": {},
          "execution_count": 5
        }
      ]
    },
    {
      "cell_type": "code",
      "source": [
        "calc = demo.DemoCalc() # 모듈에서 클래스도 불러올 수 있음\n",
        "calc.sum_all(1,2,3,4,5,6,7,8,9,10)"
      ],
      "metadata": {
        "colab": {
          "base_uri": "https://localhost:8080/"
        },
        "id": "OgYO15koZg6n",
        "outputId": "508b3949-8a80-45b5-a714-180dcb8f1d98"
      },
      "execution_count": null,
      "outputs": [
        {
          "output_type": "execute_result",
          "data": {
            "text/plain": [
              "55"
            ]
          },
          "metadata": {},
          "execution_count": 6
        }
      ]
    },
    {
      "cell_type": "markdown",
      "source": [
        "**모듈 내에 있는 함수, 변수, 클래스를 따로 따로 불러오기**\n",
        "- `from 모듈명 import [변수명 또는 함수명 또는 클래스명]`"
      ],
      "metadata": {
        "id": "JQpCneIEcM-0"
      }
    },
    {
      "cell_type": "code",
      "source": [
        "from demo import goo"
      ],
      "metadata": {
        "id": "PvaHandEcgfl"
      },
      "execution_count": null,
      "outputs": []
    },
    {
      "cell_type": "code",
      "source": [
        "goo(1, 5)"
      ],
      "metadata": {
        "colab": {
          "base_uri": "https://localhost:8080/"
        },
        "id": "F_2P88-4cj9k",
        "outputId": "c03e3de2-8c43-4093-a54b-a1faebb00e30"
      },
      "execution_count": null,
      "outputs": [
        {
          "output_type": "execute_result",
          "data": {
            "text/plain": [
              "(6, -4, 5, 0.2)"
            ]
          },
          "metadata": {},
          "execution_count": 9
        }
      ]
    },
    {
      "cell_type": "markdown",
      "source": [
        "**모듈을 불러올 때 별명 지어주기(alias)**\n",
        "- `import 모듈명 as 별명`"
      ],
      "metadata": {
        "id": "8gO08Tbbc6JG"
      }
    },
    {
      "cell_type": "code",
      "source": [
        "import demo as dm # 모듈의 별칭\n",
        "\n",
        "dm.goo(2, 8)"
      ],
      "metadata": {
        "colab": {
          "base_uri": "https://localhost:8080/"
        },
        "id": "8aSUotiycnqF",
        "outputId": "ace851aa-e565-4f2f-860a-81d5a45632d3"
      },
      "execution_count": null,
      "outputs": [
        {
          "output_type": "execute_result",
          "data": {
            "text/plain": [
              "(10, -6, 16, 0.25)"
            ]
          },
          "metadata": {},
          "execution_count": 10
        }
      ]
    },
    {
      "cell_type": "markdown",
      "source": [
        "**모듈 내의 모든 항목 불러오기**"
      ],
      "metadata": {
        "id": "aAHewAkoc2ry"
      }
    },
    {
      "cell_type": "code",
      "source": [
        "from demo import *\n",
        "foo(\"HIhiHIHI\")"
      ],
      "metadata": {
        "colab": {
          "base_uri": "https://localhost:8080/"
        },
        "id": "pS9VEPmKc-OG",
        "outputId": "bc27fc41-6808-49ee-ea89-79c9c5d5ae51"
      },
      "execution_count": null,
      "outputs": [
        {
          "output_type": "stream",
          "name": "stdout",
          "text": [
            "foo() => HIhiHIHI\n"
          ]
        }
      ]
    },
    {
      "cell_type": "markdown",
      "source": [
        "## 패키지(Package)\n",
        "- 패키지 생성\n",
        "  - 디렉토리(폴더)를 만든 것과 비슷한 작업\n",
        "- 패키지 호출"
      ],
      "metadata": {
        "id": "VbctvViCdCqh"
      }
    },
    {
      "cell_type": "code",
      "source": [
        "!mkdir -p hk_pkg/pkg1"
      ],
      "metadata": {
        "id": "EVoIlXT9dc6z"
      },
      "execution_count": null,
      "outputs": []
    },
    {
      "cell_type": "code",
      "source": [
        "!mkdir -p hk_pkg/pkg2"
      ],
      "metadata": {
        "id": "ULxV1JlpdxaY"
      },
      "execution_count": null,
      "outputs": []
    },
    {
      "cell_type": "code",
      "source": [
        "%%writefile hk_pkg/pkg1/my_module.py\n",
        "\n",
        "def my_func(msg):\n",
        "  print(\"Here is pkg1.my_module\")\n",
        "  print(\"Good bye\")"
      ],
      "metadata": {
        "colab": {
          "base_uri": "https://localhost:8080/"
        },
        "id": "BjKaDrROd4B5",
        "outputId": "02de30ea-2c2e-4ca6-af1b-8d3044b70d47"
      },
      "execution_count": null,
      "outputs": [
        {
          "output_type": "stream",
          "name": "stdout",
          "text": [
            "Writing hk_pkg/pkg1/my_module.py\n"
          ]
        }
      ]
    },
    {
      "cell_type": "code",
      "source": [
        "%%writefile hk_pkg/pkg2/your_module.py\n",
        "\n",
        "def your_func():\n",
        "  print(\"여기는 pkg2의 your_module 입니다.\")\n",
        "  print(\"Hi~\")"
      ],
      "metadata": {
        "colab": {
          "base_uri": "https://localhost:8080/"
        },
        "id": "LIQ2TTUCeNW8",
        "outputId": "f75f0956-de16-4b18-8f66-cedbdc938053"
      },
      "execution_count": null,
      "outputs": [
        {
          "output_type": "stream",
          "name": "stdout",
          "text": [
            "Writing hk_pkg/pkg2/your_module.py\n"
          ]
        }
      ]
    },
    {
      "cell_type": "code",
      "source": [
        "%%writefile hk_pkg/pkg2/hello.py\n",
        "\n",
        "def hello_func():\n",
        "  print(\"Hello~\")"
      ],
      "metadata": {
        "colab": {
          "base_uri": "https://localhost:8080/"
        },
        "id": "7E5dIn5aeRWI",
        "outputId": "92b19538-7628-4f76-984f-66a3c50b4f9a"
      },
      "execution_count": null,
      "outputs": [
        {
          "output_type": "stream",
          "name": "stdout",
          "text": [
            "Writing hk_pkg/pkg2/hello.py\n"
          ]
        }
      ]
    },
    {
      "cell_type": "code",
      "source": [
        "# import 의 마지막은 패키지가 되면 안됨 모듈이 되어야함\n",
        "# 패키지 ~ 모듈 까지 불러오기\n",
        "#   Hello 모듈 불러오기\n",
        "import hk_pkg.pkg2.hello\n",
        "# pkg2 에 있는 모든 모듈을 다 불러오려면 모듈 각각 불러야함"
      ],
      "metadata": {
        "id": "-yGN_POEeXjN"
      },
      "execution_count": null,
      "outputs": []
    },
    {
      "cell_type": "code",
      "source": [
        "hk_pkg.pkg2.hello.hello_func()"
      ],
      "metadata": {
        "colab": {
          "base_uri": "https://localhost:8080/"
        },
        "id": "4UIIUezyfATK",
        "outputId": "7c0d3f32-d665-4ecb-dcd2-4b6767e0f283"
      },
      "execution_count": null,
      "outputs": [
        {
          "output_type": "stream",
          "name": "stdout",
          "text": [
            "Hello~\n"
          ]
        }
      ]
    },
    {
      "cell_type": "code",
      "source": [
        "import hk_pkg.pkg2.hello as hi\n",
        "\n",
        "hi.hello_func()"
      ],
      "metadata": {
        "colab": {
          "base_uri": "https://localhost:8080/"
        },
        "id": "LXSpsq2ufSbg",
        "outputId": "234a4873-1e77-47fe-9dae-61365f5d1e28"
      },
      "execution_count": null,
      "outputs": [
        {
          "output_type": "stream",
          "name": "stdout",
          "text": [
            "Hello~\n"
          ]
        }
      ]
    },
    {
      "cell_type": "code",
      "source": [
        "from hk_pkg.pkg1.my_module import my_func\n",
        "\n",
        "my_func(\"Hello\")"
      ],
      "metadata": {
        "colab": {
          "base_uri": "https://localhost:8080/"
        },
        "id": "qROgR6SofcLM",
        "outputId": "2f3c1689-eefd-4926-f9b9-49c30a75e71f"
      },
      "execution_count": null,
      "outputs": [
        {
          "output_type": "stream",
          "name": "stdout",
          "text": [
            "Here is pkg1.my_module\n",
            "Good bye\n"
          ]
        }
      ]
    },
    {
      "cell_type": "code",
      "source": [],
      "metadata": {
        "id": "LoUi44b0frM5"
      },
      "execution_count": null,
      "outputs": []
    }
  ]
}