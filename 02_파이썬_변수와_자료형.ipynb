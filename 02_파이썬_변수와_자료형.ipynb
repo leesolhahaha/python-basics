{
  "nbformat": 4,
  "nbformat_minor": 0,
  "metadata": {
    "colab": {
      "provenance": [],
      "authorship_tag": "ABX9TyNgT2Rr2N2nQIEKoXrrQiIa",
      "include_colab_link": true
    },
    "kernelspec": {
      "name": "python3",
      "display_name": "Python 3"
    },
    "language_info": {
      "name": "python"
    }
  },
  "cells": [
    {
      "cell_type": "markdown",
      "metadata": {
        "id": "view-in-github",
        "colab_type": "text"
      },
      "source": [
        "<a href=\"https://colab.research.google.com/github/leesolhahaha/python-basics/blob/main/02_%ED%8C%8C%EC%9D%B4%EC%8D%AC_%EB%B3%80%EC%88%98%EC%99%80_%EC%9E%90%EB%A3%8C%ED%98%95.ipynb\" target=\"_parent\"><img src=\"https://colab.research.google.com/assets/colab-badge.svg\" alt=\"Open In Colab\"/></a>"
      ]
    },
    {
      "cell_type": "markdown",
      "source": [
        "## 변수\n",
        "- 변수란? 값이 저장될 수 있는 공간\n",
        "- 원할 때마다 변수에 잇는 \"값\"을 언제든 바꿀 수 있다.\n"
      ],
      "metadata": {
        "id": "nXN37l7Z479T"
      }
    },
    {
      "cell_type": "code",
      "source": [
        " a = 1\n",
        " print(a)"
      ],
      "metadata": {
        "colab": {
          "base_uri": "https://localhost:8080/"
        },
        "id": "Q7CFNicD6nj1",
        "outputId": "a7fbc004-206c-4e84-c166-bf599dd92567"
      },
      "execution_count": null,
      "outputs": [
        {
          "output_type": "stream",
          "name": "stdout",
          "text": [
            "1\n"
          ]
        }
      ]
    },
    {
      "cell_type": "code",
      "source": [
        "a = 2\n",
        "print(a)"
      ],
      "metadata": {
        "colab": {
          "base_uri": "https://localhost:8080/"
        },
        "id": "Ri1X7lnp6qu4",
        "outputId": "dd40a680-ea42-4ae3-c518-a5e248d33099"
      },
      "execution_count": null,
      "outputs": [
        {
          "output_type": "stream",
          "name": "stdout",
          "text": [
            "2\n"
          ]
        }
      ]
    },
    {
      "cell_type": "markdown",
      "source": [
        "## Comment (주석)\n",
        "- 코드에서 #으로 시작하는 부분으로써 시행이 되지 않습니다.\n",
        "- 개발자가 어떠한 코드인지 코드상에 설명할 때 사용된다."
      ],
      "metadata": {
        "id": "m4d_hJ4sRojN"
      }
    },
    {
      "cell_type": "code",
      "source": [
        "#  변수 a 에 1을 집어 넣는다.\n",
        "a = 1"
      ],
      "metadata": {
        "id": "61-fqhqqR2wj"
      },
      "execution_count": null,
      "outputs": []
    },
    {
      "cell_type": "code",
      "source": [
        "b = 1 # 변수 b에 1을 집어넣는다."
      ],
      "metadata": {
        "id": "g4OhJa4xR-B7"
      },
      "execution_count": null,
      "outputs": []
    },
    {
      "cell_type": "markdown",
      "source": [
        "# 변수에 값이 들어가는 과정\n",
        "1. 변수의 선언 (Declaration)\n",
        "2. 변수에 값을 할당 (Assignment)"
      ],
      "metadata": {
        "id": "mb3xGnj_SGjQ"
      }
    },
    {
      "cell_type": "code",
      "source": [
        "c = 1 #변수 c를 선언하고, 1을 할당했다."
      ],
      "metadata": {
        "id": "SgnyMnB6Sh05"
      },
      "execution_count": null,
      "outputs": []
    },
    {
      "cell_type": "markdown",
      "source": [
        "# 자료형 (Data Type)"
      ],
      "metadata": {
        "id": "yJTkAn8lTMfG"
      }
    },
    {
      "cell_type": "code",
      "source": [
        "a = 1\n",
        "type(a)"
      ],
      "metadata": {
        "colab": {
          "base_uri": "https://localhost:8080/"
        },
        "id": "6qFU31EwUH0H",
        "outputId": "e498f328-88be-4dfc-f603-21ac6048860b"
      },
      "execution_count": null,
      "outputs": [
        {
          "output_type": "execute_result",
          "data": {
            "text/plain": [
              "int"
            ]
          },
          "metadata": {},
          "execution_count": 4
        }
      ]
    },
    {
      "cell_type": "code",
      "source": [
        "a= 1.0\n",
        "type(a)"
      ],
      "metadata": {
        "colab": {
          "base_uri": "https://localhost:8080/"
        },
        "id": "QzaPfFzAUJ0m",
        "outputId": "46866844-ad26-4495-e2e6-8d56e5812449"
      },
      "execution_count": null,
      "outputs": [
        {
          "output_type": "execute_result",
          "data": {
            "text/plain": [
              "float"
            ]
          },
          "metadata": {},
          "execution_count": 5
        }
      ]
    },
    {
      "cell_type": "code",
      "source": [
        "a= 3.14\n",
        "type(a)"
      ],
      "metadata": {
        "colab": {
          "base_uri": "https://localhost:8080/"
        },
        "id": "crZR4TSMUMxy",
        "outputId": "1e25b7f9-e85b-4d28-8408-d6828b93d3d0"
      },
      "execution_count": null,
      "outputs": [
        {
          "output_type": "execute_result",
          "data": {
            "text/plain": [
              "float"
            ]
          },
          "metadata": {},
          "execution_count": 6
        }
      ]
    },
    {
      "cell_type": "code",
      "source": [
        "# 문자열을 만들때는 작은 따옴표('') 또는 큰 따옴표(\"\")를 사용한다.\n",
        "a = \"Hello~~~~~!\"\n",
        "type(a)"
      ],
      "metadata": {
        "colab": {
          "base_uri": "https://localhost:8080/"
        },
        "id": "XLnkqWfDUipx",
        "outputId": "b5e97d95-7857-4217-f5bf-77f54b52c25f"
      },
      "execution_count": null,
      "outputs": [
        {
          "output_type": "execute_result",
          "data": {
            "text/plain": [
              "str"
            ]
          },
          "metadata": {},
          "execution_count": 7
        }
      ]
    },
    {
      "cell_type": "code",
      "source": [
        "a = 'hello'\n",
        "type(a)"
      ],
      "metadata": {
        "colab": {
          "base_uri": "https://localhost:8080/"
        },
        "id": "Up6Wr4rhU9Ma",
        "outputId": "4f3d842b-dcdb-462e-83d0-13f5def56dd6"
      },
      "execution_count": null,
      "outputs": [
        {
          "output_type": "execute_result",
          "data": {
            "text/plain": [
              "str"
            ]
          },
          "metadata": {},
          "execution_count": 8
        }
      ]
    },
    {
      "cell_type": "code",
      "source": [
        "# 안녕하세요, 제 이름은 '소민호' 입니다.\n",
        "a = \"안녕하세요, 제 이름은 '소민호' 입니다.\"\n",
        "print(a)"
      ],
      "metadata": {
        "colab": {
          "base_uri": "https://localhost:8080/"
        },
        "id": "B0xmtjcFVELB",
        "outputId": "40b2e6f0-2af3-4bb2-8ac0-71e2865a3dae"
      },
      "execution_count": null,
      "outputs": [
        {
          "output_type": "stream",
          "name": "stdout",
          "text": [
            "안녕하세요, 제 이름은 '소민호' 입니다.\n"
          ]
        }
      ]
    },
    {
      "cell_type": "code",
      "source": [
        "a = '안녕하세요, 제 이름은 \"소민호\" 입니다.'\n",
        "print(a)"
      ],
      "metadata": {
        "colab": {
          "base_uri": "https://localhost:8080/"
        },
        "id": "Idwr7-Z9VjzM",
        "outputId": "d687a417-4fd5-4079-a0e2-b377079dc1fa"
      },
      "execution_count": null,
      "outputs": [
        {
          "output_type": "stream",
          "name": "stdout",
          "text": [
            "안녕하세요, 제 이름은 \"소민호\" 입니다.\n"
          ]
        }
      ]
    },
    {
      "cell_type": "code",
      "source": [
        "a = 3 > 2\n",
        "print(a)"
      ],
      "metadata": {
        "colab": {
          "base_uri": "https://localhost:8080/"
        },
        "id": "9xhpZ_KdVtmo",
        "outputId": "56ad248d-6f27-45d5-aa3b-c3894e52157d"
      },
      "execution_count": null,
      "outputs": [
        {
          "output_type": "stream",
          "name": "stdout",
          "text": [
            "True\n"
          ]
        }
      ]
    },
    {
      "cell_type": "code",
      "source": [
        "a = 2 > 3\n",
        "print(a)"
      ],
      "metadata": {
        "colab": {
          "base_uri": "https://localhost:8080/"
        },
        "id": "tuUdmFpDWFxV",
        "outputId": "7750666b-0321-4606-8fac-5c71d344231a"
      },
      "execution_count": null,
      "outputs": [
        {
          "output_type": "stream",
          "name": "stdout",
          "text": [
            "False\n"
          ]
        }
      ]
    },
    {
      "cell_type": "code",
      "source": [
        "type(a)"
      ],
      "metadata": {
        "colab": {
          "base_uri": "https://localhost:8080/"
        },
        "id": "K4worHF5WJ0J",
        "outputId": "4cf05e91-1f07-4fee-b121-6fa270010a60"
      },
      "execution_count": null,
      "outputs": [
        {
          "output_type": "execute_result",
          "data": {
            "text/plain": [
              "bool"
            ]
          },
          "metadata": {},
          "execution_count": 13
        }
      ]
    },
    {
      "cell_type": "markdown",
      "source": [
        "## variable naming (변수 이름 규칙)\n",
        "- 변수 이름을 지을 때의 관례\n",
        "- 지금은 지키지 않아도 상관이 없는데, 나중에 이 규칙을 지키지 않으면 오류가 나는 경우가 있음\n",
        "\n",
        "snake_case 변수의 이름\n",
        "CamelCase 클래스 이름"
      ],
      "metadata": {
        "id": "fz9PbCxFWNPY"
      }
    },
    {
      "cell_type": "code",
      "source": [
        "student_name = \"minho\""
      ],
      "metadata": {
        "id": "VYXwoejvaX-T"
      },
      "execution_count": null,
      "outputs": []
    },
    {
      "cell_type": "code",
      "source": [
        "class StudentName:\n",
        "  pass"
      ],
      "metadata": {
        "id": "A0pj0OI_ad3L"
      },
      "execution_count": null,
      "outputs": []
    },
    {
      "cell_type": "code",
      "source": [
        "학생이름 = \"민호\"\n",
        "print(학생이름)"
      ],
      "metadata": {
        "colab": {
          "base_uri": "https://localhost:8080/"
        },
        "id": "_DwY87D9ahQt",
        "outputId": "886b2f8d-0ba1-4907-8cc4-e0aa781cdac1"
      },
      "execution_count": null,
      "outputs": [
        {
          "output_type": "stream",
          "name": "stdout",
          "text": [
            "민호\n"
          ]
        }
      ]
    },
    {
      "cell_type": "markdown",
      "source": [
        "한글은 비추"
      ],
      "metadata": {
        "id": "zOEfeu4BalP5"
      }
    },
    {
      "cell_type": "markdown",
      "source": [
        "# 상수\n",
        "- 변수는 변하는 수\n",
        "- 변하지 않는 수. 파이썬에는 상수가 없음\n",
        "  - 변수에 특별한 효과를 줘서 상수로 사람이 인지하게끔"
      ],
      "metadata": {
        "id": "-uHThUANarYu"
      }
    },
    {
      "cell_type": "code",
      "source": [
        "# 파이썬에는 상수가 없지만, 관례적으로 상수처럼 생각하게 하기\n",
        "_jumin_number = \"88299-1xxxx\"\n",
        "JUMIN_NUMBER = \"88299-1xxxx\""
      ],
      "metadata": {
        "id": "F49FwHI_bQdY"
      },
      "execution_count": null,
      "outputs": []
    },
    {
      "cell_type": "code",
      "source": [],
      "metadata": {
        "id": "FYI5em3nbnYD"
      },
      "execution_count": null,
      "outputs": []
    }
  ]
}