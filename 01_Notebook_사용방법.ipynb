{
  "nbformat": 4,
  "nbformat_minor": 0,
  "metadata": {
    "colab": {
      "provenance": [],
      "authorship_tag": "ABX9TyM1LehxqyuSjTqONwb/kPKK",
      "include_colab_link": true
    },
    "kernelspec": {
      "name": "python3",
      "display_name": "Python 3"
    },
    "language_info": {
      "name": "python"
    }
  },
  "cells": [
    {
      "cell_type": "markdown",
      "metadata": {
        "id": "view-in-github",
        "colab_type": "text"
      },
      "source": [
        "<a href=\"https://colab.research.google.com/github/leesolhahaha/python-basics/blob/main/01_Notebook_%EC%82%AC%EC%9A%A9%EB%B0%A9%EB%B2%95.ipynb\" target=\"_parent\"><img src=\"https://colab.research.google.com/assets/colab-badge.svg\" alt=\"Open In Colab\"/></a>"
      ]
    },
    {
      "cell_type": "code",
      "execution_count": null,
      "metadata": {
        "id": "HeZVVhZKzkYi"
      },
      "outputs": [],
      "source": [
        "a =10"
      ]
    },
    {
      "cell_type": "code",
      "source": [
        "print(a)"
      ],
      "metadata": {
        "colab": {
          "base_uri": "https://localhost:8080/"
        },
        "id": "4FEzYbrv1Wyj",
        "outputId": "22c606d6-907d-4425-9285-51c9d31da2d7"
      },
      "execution_count": null,
      "outputs": [
        {
          "output_type": "stream",
          "name": "stdout",
          "text": [
            "10\n"
          ]
        }
      ]
    },
    {
      "cell_type": "code",
      "source": [
        "a"
      ],
      "metadata": {
        "colab": {
          "base_uri": "https://localhost:8080/"
        },
        "id": "TBzRd3oK1mNA",
        "outputId": "c6d21418-87eb-4ae2-cb07-bcd63dc77ba0"
      },
      "execution_count": null,
      "outputs": [
        {
          "output_type": "execute_result",
          "data": {
            "text/plain": [
              "10"
            ]
          },
          "metadata": {},
          "execution_count": 3
        }
      ]
    },
    {
      "cell_type": "code",
      "source": [
        "print(a)\n",
        "print('bye')"
      ],
      "metadata": {
        "colab": {
          "base_uri": "https://localhost:8080/"
        },
        "id": "NOJpfr1s1zIl",
        "outputId": "aea7b533-959e-4ae9-d71d-1c4ae6224980"
      },
      "execution_count": null,
      "outputs": [
        {
          "output_type": "stream",
          "name": "stdout",
          "text": [
            "10\n",
            "bye\n"
          ]
        }
      ]
    },
    {
      "cell_type": "markdown",
      "source": [
        "# 노트북 사용 방법\n",
        "마크다운에서 제목을 써봄"
      ],
      "metadata": {
        "id": "P9H1qSeY2BhL"
      }
    },
    {
      "cell_type": "markdown",
      "source": [
        "## 중제목 적는 구간\n",
        "아까 대제목 보다는 조금 작죠?"
      ],
      "metadata": {
        "id": "YT-ypEeK2x4a"
      }
    },
    {
      "cell_type": "markdown",
      "source": [
        "# LaTex 알아보기\n"
      ],
      "metadata": {
        "id": "mb6H0dmM3AGQ"
      }
    },
    {
      "cell_type": "markdown",
      "source": [
        "## 인라인 수식\n",
        "인라인 수식은 마크다운 잗성 중간에 들어가는 수식\n",
        "\n",
        "$$ 사이에 수식을 넣으면 됨\n",
        "\n",
        "$a+b=5$"
      ],
      "metadata": {
        "id": "9liqEx7t31cW"
      }
    },
    {
      "cell_type": "markdown",
      "source": [
        "## 블록 수식\n",
        "블록수식은 하나의 칸을 모두 사용하여 수식을 작성\n",
        "\n",
        "$$ 과 $$ 사이에 수식을 넣으면 됨\n",
        "\n",
        "$$\n",
        "a= 3, b=4, a+b=7\n",
        "$$"
      ],
      "metadata": {
        "id": "k40AgNg_4YpP"
      }
    },
    {
      "cell_type": "code",
      "source": [],
      "metadata": {
        "id": "Lj1EKSbL4qvv"
      },
      "execution_count": null,
      "outputs": []
    }
  ]
}