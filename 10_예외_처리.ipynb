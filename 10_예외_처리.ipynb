{
  "nbformat": 4,
  "nbformat_minor": 0,
  "metadata": {
    "colab": {
      "provenance": [],
      "authorship_tag": "ABX9TyM1XdlWXC4adXMLuzr5cvS/",
      "include_colab_link": true
    },
    "kernelspec": {
      "name": "python3",
      "display_name": "Python 3"
    },
    "language_info": {
      "name": "python"
    }
  },
  "cells": [
    {
      "cell_type": "markdown",
      "metadata": {
        "id": "view-in-github",
        "colab_type": "text"
      },
      "source": [
        "<a href=\"https://colab.research.google.com/github/leesolhahaha/python-basics/blob/main/10_%EC%98%88%EC%99%B8_%EC%B2%98%EB%A6%AC.ipynb\" target=\"_parent\"><img src=\"https://colab.research.google.com/assets/colab-badge.svg\" alt=\"Open In Colab\"/></a>"
      ]
    },
    {
      "cell_type": "markdown",
      "source": [
        "# 예외(Exception)\n",
        "- 프로그램 구동중에 의도치 않게 작동하는 것"
      ],
      "metadata": {
        "id": "S9_Zt3KDgHU1"
      }
    },
    {
      "cell_type": "markdown",
      "source": [
        "# 오류 (Error)\n",
        "- 완성된 프로그램과 상관없이 외력에 의해 프로그램이 작동하지 않는 것"
      ],
      "metadata": {
        "id": "bfmaahcXgYuQ"
      }
    },
    {
      "cell_type": "code",
      "source": [
        "a = # 문법상 완성이 되지 않았기 때문에 나오는 것은 오류"
      ],
      "metadata": {
        "id": "-vQ3bzyggm04"
      },
      "execution_count": null,
      "outputs": []
    },
    {
      "cell_type": "markdown",
      "source": [
        "프로그램 구동 중 `예외( Exception )`을 만나면 무조건 프로그램이 종료\n",
        "- 아주 작은 예외인데 이거 때문에 프로그램이 꺼지면... 불편하지 않을까요?"
      ],
      "metadata": {
        "id": "OwTVYevKhmnJ"
      }
    },
    {
      "cell_type": "code",
      "source": [
        "1 / 2"
      ],
      "metadata": {
        "colab": {
          "base_uri": "https://localhost:8080/"
        },
        "id": "qPoyezYHg-Yg",
        "outputId": "9144b986-e6d0-46de-99e0-07f906dceef0"
      },
      "execution_count": null,
      "outputs": [
        {
          "output_type": "execute_result",
          "data": {
            "text/plain": [
              "0.5"
            ]
          },
          "metadata": {},
          "execution_count": 1
        }
      ]
    },
    {
      "cell_type": "code",
      "source": [
        "1 / 0 # 예외의 상황"
      ],
      "metadata": {
        "colab": {
          "base_uri": "https://localhost:8080/",
          "height": 146
        },
        "collapsed": true,
        "id": "GMLPyymphfmk",
        "outputId": "4f4dcdc7-1018-4232-c734-1f0a1c642985"
      },
      "execution_count": null,
      "outputs": [
        {
          "output_type": "error",
          "ename": "ZeroDivisionError",
          "evalue": "division by zero",
          "traceback": [
            "\u001b[0;31m---------------------------------------------------------------------------\u001b[0m",
            "\u001b[0;31mZeroDivisionError\u001b[0m                         Traceback (most recent call last)",
            "\u001b[0;32m<ipython-input-2-bc757c3fda29>\u001b[0m in \u001b[0;36m<cell line: 1>\u001b[0;34m()\u001b[0m\n\u001b[0;32m----> 1\u001b[0;31m \u001b[0;36m1\u001b[0m \u001b[0;34m/\u001b[0m \u001b[0;36m0\u001b[0m\u001b[0;34m\u001b[0m\u001b[0;34m\u001b[0m\u001b[0m\n\u001b[0m",
            "\u001b[0;31mZeroDivisionError\u001b[0m: division by zero"
          ]
        }
      ]
    },
    {
      "cell_type": "code",
      "source": [
        "lst = [1, 2, 3]\n",
        "\n",
        "lst[3] # 예외의 예시"
      ],
      "metadata": {
        "colab": {
          "base_uri": "https://localhost:8080/",
          "height": 182
        },
        "collapsed": true,
        "id": "twJhKpgahhhU",
        "outputId": "7b923003-d1ca-4d69-f74a-c4a4e372ebfd"
      },
      "execution_count": null,
      "outputs": [
        {
          "output_type": "error",
          "ename": "IndexError",
          "evalue": "list index out of range",
          "traceback": [
            "\u001b[0;31m---------------------------------------------------------------------------\u001b[0m",
            "\u001b[0;31mIndexError\u001b[0m                                Traceback (most recent call last)",
            "\u001b[0;32m<ipython-input-3-baec1b1dc82b>\u001b[0m in \u001b[0;36m<cell line: 3>\u001b[0;34m()\u001b[0m\n\u001b[1;32m      1\u001b[0m \u001b[0mlst\u001b[0m \u001b[0;34m=\u001b[0m \u001b[0;34m[\u001b[0m\u001b[0;36m1\u001b[0m\u001b[0;34m,\u001b[0m \u001b[0;36m2\u001b[0m\u001b[0;34m,\u001b[0m \u001b[0;36m3\u001b[0m\u001b[0;34m]\u001b[0m \u001b[0;31m# 예외의 예시\u001b[0m\u001b[0;34m\u001b[0m\u001b[0;34m\u001b[0m\u001b[0m\n\u001b[1;32m      2\u001b[0m \u001b[0;34m\u001b[0m\u001b[0m\n\u001b[0;32m----> 3\u001b[0;31m \u001b[0mlst\u001b[0m\u001b[0;34m[\u001b[0m\u001b[0;36m3\u001b[0m\u001b[0;34m]\u001b[0m\u001b[0;34m\u001b[0m\u001b[0;34m\u001b[0m\u001b[0m\n\u001b[0m",
            "\u001b[0;31mIndexError\u001b[0m: list index out of range"
          ]
        }
      ]
    },
    {
      "cell_type": "markdown",
      "source": [
        "- `try` : 예외가 일어날만한 코드가 들어가는 구간 (일반적인 코드)\n",
        "- `except` : `try`에서 일어난 예외를 처리하는 구간 ( 예외처리 코드 )\n",
        "- `finally` : `try`, `except` 구문이 실행 된 후 실행할 코드\n",
        "- `raise` : 특정 상황에서 개발자가 일부러 예외를 발생 시키기 위한 코드\n",
        "\n",
        "try가 있으면 except가 있어야함 둘은 짝꿍"
      ],
      "metadata": {
        "id": "wsdvdVXBhyfl"
      }
    },
    {
      "cell_type": "code",
      "source": [
        "lst = [1,2,3]\n",
        "\n",
        "try:\n",
        "  print(\"Hello\")\n",
        "  print(lst[2])\n",
        "  print(\"Bye\")\n",
        "except:\n",
        "  print(\"Error 발생 !!\")"
      ],
      "metadata": {
        "colab": {
          "base_uri": "https://localhost:8080/"
        },
        "id": "4LkqTYcLjYbb",
        "outputId": "1404bcf8-21ff-490d-eca2-b7067659ca85"
      },
      "execution_count": null,
      "outputs": [
        {
          "output_type": "stream",
          "name": "stdout",
          "text": [
            "Hello\n",
            "3\n",
            "Bye\n"
          ]
        }
      ]
    },
    {
      "cell_type": "code",
      "source": [
        "lst = [1,2,3]\n",
        "\n",
        "try:\n",
        "  print(\"Hello\")\n",
        "  print(lst[3]) # 에러 부분에서 튕겨서 except로 가기 때문에\n",
        "  print(\"Bye\") # 아래 부분의 Bye는 실행되지 않음\n",
        "except Exception as e:\n",
        "  print(\"Error 발생 !!\")\n",
        "  print(e)"
      ],
      "metadata": {
        "colab": {
          "base_uri": "https://localhost:8080/"
        },
        "id": "jdf0sjE_iEZU",
        "outputId": "10aa17f5-a9a1-4ebf-e14e-8c64af09b67b"
      },
      "execution_count": null,
      "outputs": [
        {
          "output_type": "stream",
          "name": "stdout",
          "text": [
            "Hello\n",
            "Error 발생 !!\n",
            "list index out of range\n"
          ]
        }
      ]
    },
    {
      "cell_type": "code",
      "source": [
        "lst = [1,2,3]\n",
        "\n",
        "try:\n",
        "  print(\"Hello\")\n",
        "  print(lst[3])\n",
        "  print(\"Bye\")\n",
        "except Exception as e:\n",
        "  print(\"Error 발생 !!\")\n",
        "  print(e)\n",
        "finally: # 예외가 나든 안나든 무조건 나와야할 것\n",
        "  print(\"Done\") # finally는 안써도 되는 거 아닌가 생각할 수 도 있지만 어디서부터 어디까지가 로직인지를 보여줌 작업에 대한 마무리, 코드의 가독성 올려줌"
      ],
      "metadata": {
        "colab": {
          "base_uri": "https://localhost:8080/"
        },
        "id": "_Pm4VSaSkIy-",
        "outputId": "6b825d56-c3f4-43f5-aa9d-8f4b3c6f5030"
      },
      "execution_count": null,
      "outputs": [
        {
          "output_type": "stream",
          "name": "stdout",
          "text": [
            "Hello\n",
            "Error 발생 !!\n",
            "list index out of range\n",
            "Done\n"
          ]
        }
      ]
    },
    {
      "cell_type": "markdown",
      "source": [
        "# 예외 커스터마이징"
      ],
      "metadata": {
        "id": "drRqnY9Hki7M"
      }
    },
    {
      "cell_type": "code",
      "source": [
        "# 좋지 않은 예시\n",
        "def set_age_bad(age):\n",
        "  if age < 0:\n",
        "    return \"나이 값이 올바르지 않습니다. {}\".format(age) # 문자열을 리턴을 한거지 예외 처리라고 할 수 없음\n",
        "\n",
        "set_age_bad(-5)"
      ],
      "metadata": {
        "colab": {
          "base_uri": "https://localhost:8080/",
          "height": 35
        },
        "id": "Xgvx7H9mlmI1",
        "outputId": "2aa25bca-8fb9-4eaa-db1e-2cc1e78e2698"
      },
      "execution_count": null,
      "outputs": [
        {
          "output_type": "execute_result",
          "data": {
            "text/plain": [
              "'나이 값이 올바르지 않습니다. -5'"
            ],
            "application/vnd.google.colaboratory.intrinsic+json": {
              "type": "string"
            }
          },
          "metadata": {},
          "execution_count": 10
        }
      ]
    },
    {
      "cell_type": "code",
      "source": [
        "# 나이 예외 클래스\n",
        "class AgeException(Exception): # 파이썬에서 자동으로 제공해주는 class Exception\n",
        "\n",
        "  def __init__(self, age):\n",
        "    self.age = age\n",
        "\n",
        "  # 예외 표시 문자열 정의\n",
        "  def __str__(self):\n",
        "    return \"나이 값이 올바르지 않습니다. {}\".format(self.age)"
      ],
      "metadata": {
        "id": "ekIWbIz8mJLA"
      },
      "execution_count": null,
      "outputs": []
    },
    {
      "cell_type": "code",
      "source": [
        "def set_age_good(age):\n",
        "  if age < 0:\n",
        "    # 나이가 음수면 예외 상황, 즉 여기서 예외를 일으킨다.(raise)\n",
        "    raise AgeException(age) # 예외가 예쁘게 처리할 수 있게 되는 것이 예외 커스터마이징\n",
        "\n",
        "set_age_good(-10)\n",
        "# AgeException: 나이 값이 올바르지 않습니다. -10 로 오류 메세지가 뜨는 것을 볼 수 있음"
      ],
      "metadata": {
        "colab": {
          "base_uri": "https://localhost:8080/",
          "height": 309
        },
        "collapsed": true,
        "id": "dCJsP4fXm_MX",
        "outputId": "d7b2caa3-29a7-4ac3-9c60-b5f4e6df2ae6"
      },
      "execution_count": null,
      "outputs": [
        {
          "output_type": "error",
          "ename": "AgeException",
          "evalue": "나이 값이 올바르지 않습니다. -10",
          "traceback": [
            "\u001b[0;31m---------------------------------------------------------------------------\u001b[0m",
            "\u001b[0;31mAgeException\u001b[0m                              Traceback (most recent call last)",
            "\u001b[0;32m<ipython-input-12-e66f0a05c858>\u001b[0m in \u001b[0;36m<cell line: 6>\u001b[0;34m()\u001b[0m\n\u001b[1;32m      4\u001b[0m     \u001b[0;32mraise\u001b[0m \u001b[0mAgeException\u001b[0m\u001b[0;34m(\u001b[0m\u001b[0mage\u001b[0m\u001b[0;34m)\u001b[0m\u001b[0;34m\u001b[0m\u001b[0;34m\u001b[0m\u001b[0m\n\u001b[1;32m      5\u001b[0m \u001b[0;34m\u001b[0m\u001b[0m\n\u001b[0;32m----> 6\u001b[0;31m \u001b[0mset_age_good\u001b[0m\u001b[0;34m(\u001b[0m\u001b[0;34m-\u001b[0m\u001b[0;36m10\u001b[0m\u001b[0;34m)\u001b[0m\u001b[0;34m\u001b[0m\u001b[0;34m\u001b[0m\u001b[0m\n\u001b[0m",
            "\u001b[0;32m<ipython-input-12-e66f0a05c858>\u001b[0m in \u001b[0;36mset_age_good\u001b[0;34m(age)\u001b[0m\n\u001b[1;32m      2\u001b[0m   \u001b[0;32mif\u001b[0m \u001b[0mage\u001b[0m \u001b[0;34m<\u001b[0m \u001b[0;36m0\u001b[0m\u001b[0;34m:\u001b[0m\u001b[0;34m\u001b[0m\u001b[0;34m\u001b[0m\u001b[0m\n\u001b[1;32m      3\u001b[0m     \u001b[0;31m# 나이가 음수면 예외 상황, 즉 여기서 예외를 일으킨다.(raise)\u001b[0m\u001b[0;34m\u001b[0m\u001b[0;34m\u001b[0m\u001b[0m\n\u001b[0;32m----> 4\u001b[0;31m     \u001b[0;32mraise\u001b[0m \u001b[0mAgeException\u001b[0m\u001b[0;34m(\u001b[0m\u001b[0mage\u001b[0m\u001b[0;34m)\u001b[0m\u001b[0;34m\u001b[0m\u001b[0;34m\u001b[0m\u001b[0m\n\u001b[0m\u001b[1;32m      5\u001b[0m \u001b[0;34m\u001b[0m\u001b[0m\n\u001b[1;32m      6\u001b[0m \u001b[0mset_age_good\u001b[0m\u001b[0;34m(\u001b[0m\u001b[0;34m-\u001b[0m\u001b[0;36m10\u001b[0m\u001b[0;34m)\u001b[0m\u001b[0;34m\u001b[0m\u001b[0;34m\u001b[0m\u001b[0m\n",
            "\u001b[0;31mAgeException\u001b[0m: 나이 값이 올바르지 않습니다. -10"
          ]
        }
      ]
    },
    {
      "cell_type": "code",
      "source": [],
      "metadata": {
        "id": "tfQh_2sxnTRC"
      },
      "execution_count": null,
      "outputs": []
    }
  ]
}