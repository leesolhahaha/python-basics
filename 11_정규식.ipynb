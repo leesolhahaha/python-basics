{
  "nbformat": 4,
  "nbformat_minor": 0,
  "metadata": {
    "colab": {
      "provenance": [],
      "authorship_tag": "ABX9TyNoYHQTq/cfCwXSGamd06mU",
      "include_colab_link": true
    },
    "kernelspec": {
      "name": "python3",
      "display_name": "Python 3"
    },
    "language_info": {
      "name": "python"
    }
  },
  "cells": [
    {
      "cell_type": "markdown",
      "metadata": {
        "id": "view-in-github",
        "colab_type": "text"
      },
      "source": [
        "<a href=\"https://colab.research.google.com/github/leesolhahaha/python-basics/blob/main/11_%EC%A0%95%EA%B7%9C%EC%8B%9D.ipynb\" target=\"_parent\"><img src=\"https://colab.research.google.com/assets/colab-badge.svg\" alt=\"Open In Colab\"/></a>"
      ]
    },
    {
      "cell_type": "code",
      "execution_count": 1,
      "metadata": {
        "id": "c2kzb4hxsFYr"
      },
      "outputs": [],
      "source": [
        "import re"
      ]
    },
    {
      "cell_type": "markdown",
      "source": [
        "정규식의 원리\n",
        "- `source` 로 부터 입력한 `pattern`에 해당하는 문자열을 처리"
      ],
      "metadata": {
        "id": "eTwsApYDsN6f"
      }
    },
    {
      "cell_type": "code",
      "source": [
        "# 검사 대상 문자열 : source\n",
        "source = \"I can do it! You can do it!\"\n",
        "\n",
        "# 검사할 패턴 : 정규식\n",
        "pattern = \"I can\"\n",
        "\n",
        "# pattern에 맞는 문자열로 시작하는가?\n",
        "m = re.match(pattern, source) # match은 패턴으로 시작하는 가를 확인\n",
        "print(m) # 정규식의 결과가 none이 나온 것은 패턴을 찾지 못한 것"
      ],
      "metadata": {
        "colab": {
          "base_uri": "https://localhost:8080/"
        },
        "id": "gWFNKA5ysddI",
        "outputId": "9378c1d7-deed-4861-ab4f-307cbd0c3226"
      },
      "execution_count": 4,
      "outputs": [
        {
          "output_type": "stream",
          "name": "stdout",
          "text": [
            "<re.Match object; span=(0, 5), match='I can'>\n"
          ]
        }
      ]
    },
    {
      "cell_type": "code",
      "source": [
        "source = \"이런 내맘 모르고 너무해 너무해\"\n",
        "\n",
        "pattern = \"너무해\"\n",
        "\n",
        "# source 중간에 pattern에 맞는 문자열이 존재하는지?\n",
        "# group() : 찾아낸 문자열만 보기\n",
        "m = re.search(pattern, source).group() # search는 중간의 패턴을 찾는 것, 첫번째 패턴만 찾아주고 뒷쪽은 나오지 않음 전체적으로 찾는 것은 아님\n",
        "print(m)"
      ],
      "metadata": {
        "colab": {
          "base_uri": "https://localhost:8080/"
        },
        "id": "R2kwsX_MtNkm",
        "outputId": "48adf948-2f27-419a-d661-f8a008e52fc5"
      },
      "execution_count": 6,
      "outputs": [
        {
          "output_type": "stream",
          "name": "stdout",
          "text": [
            "너무해\n"
          ]
        }
      ]
    },
    {
      "cell_type": "code",
      "source": [
        "pattern = \"너.*\" # \"너\"로 시작하고, 뒤에 아무 문자열이 0개 이상 있는지 확인하는 패턴 (.모든 문자 * 0개 이상)\n",
        "re.search(pattern, source)\n",
        "# \"너무해\"를 두 개를 찾은 것이 아니라 \"너무해 너무해\"가 하나의 패턴으로 입력이 된 것"
      ],
      "metadata": {
        "colab": {
          "base_uri": "https://localhost:8080/"
        },
        "id": "hxxIgpqTt_qj",
        "outputId": "d0457251-4d57-4f05-d42c-db263611e189"
      },
      "execution_count": 7,
      "outputs": [
        {
          "output_type": "execute_result",
          "data": {
            "text/plain": [
              "<re.Match object; span=(10, 17), match='너무해 너무해'>"
            ]
          },
          "metadata": {},
          "execution_count": 7
        }
      ]
    },
    {
      "cell_type": "code",
      "source": [
        "pattern = \"너무해\"\n",
        "\n",
        "# source에 해당하는 문자열 내의 pattern에 해당하는 부분을 모두 검색\n",
        "re.findall(pattern, source) # \"너무해\"가 쪼개져서 나오는 것을 확인 할 수 있음"
      ],
      "metadata": {
        "colab": {
          "base_uri": "https://localhost:8080/"
        },
        "id": "LBopHSmYuuEF",
        "outputId": "a1176a46-4d61-4a12-bf7c-a82ac5bb86f7"
      },
      "execution_count": 8,
      "outputs": [
        {
          "output_type": "execute_result",
          "data": {
            "text/plain": [
              "['너무해', '너무해']"
            ]
          },
          "metadata": {},
          "execution_count": 8
        }
      ]
    },
    {
      "cell_type": "code",
      "source": [
        "twice_tt = \"\"\"\n",
        "I'm likes TT\n",
        "Just liae TA\n",
        "이런 내 맘 모르고 너무해 너무해\n",
        "I'm lidd TB\n",
        "Just licc TC\n",
        "Tell me that you'd be my baby\n",
        "\"\"\"\n",
        "\n",
        "pattern = \"T.?\" # T로 시작하고, 모든 문자가 0개 또는 1개있는 경우 (.모든 문자 ? 0개 또는 1개)\n",
        "\n",
        "m = re.findall(pattern, twice_tt)\n",
        "print(m)"
      ],
      "metadata": {
        "colab": {
          "base_uri": "https://localhost:8080/"
        },
        "id": "QGsZWvP_vnoP",
        "outputId": "56f9e390-5d7e-4aa8-90b6-680fce261649"
      },
      "execution_count": 10,
      "outputs": [
        {
          "output_type": "stream",
          "name": "stdout",
          "text": [
            "['TT', 'TA', 'TB', 'TC', 'Te']\n"
          ]
        }
      ]
    },
    {
      "cell_type": "code",
      "source": [
        "re.split(pattern, twice_tt) # pattern을 기준으로 잘림"
      ],
      "metadata": {
        "colab": {
          "base_uri": "https://localhost:8080/"
        },
        "id": "ci9xl_4twY8C",
        "outputId": "8e8dfd95-7614-4e76-98ce-7f5c7b0c6cc4"
      },
      "execution_count": 11,
      "outputs": [
        {
          "output_type": "execute_result",
          "data": {
            "text/plain": [
              "[\"\\nI'm likes \",\n",
              " '\\nJust liae ',\n",
              " \"\\n이런 내 맘 모르고 너무해 너무해\\nI'm lidd \",\n",
              " '\\nJust licc ',\n",
              " '\\n',\n",
              " \"ll me that you'd be my baby\\n\"]"
            ]
          },
          "metadata": {},
          "execution_count": 11
        }
      ]
    },
    {
      "cell_type": "code",
      "source": [
        "# 가장 많이 사용하는 sub(치환)\n",
        "pattern = \"li.{2}\" # li로 시작하고, 모든 문자가 2회 반복되는 패턴\n",
        "\n",
        "dest = \"love\" # 바꿀 목적지 문자열\n",
        "\n",
        "# li로 시작하고, 뒤의 문자가 2개 있는 경우 \"love\"러 치환\n",
        "print(re.sub(pattern, dest, twice_tt))\n",
        "\n",
        "# 필요없는 문자열을 지우고 싶을 때는 dest = \"\"를 하면 됨"
      ],
      "metadata": {
        "colab": {
          "base_uri": "https://localhost:8080/"
        },
        "id": "mnKRlLQewvKl",
        "outputId": "4343b67f-7409-443b-f6ca-7c25d2b45354"
      },
      "execution_count": 15,
      "outputs": [
        {
          "output_type": "stream",
          "name": "stdout",
          "text": [
            "\n",
            "I'm loves TT\n",
            "Just love TA\n",
            "이런 내 맘 모르고 너무해 너무해\n",
            "I'm love TB\n",
            "Just love TC\n",
            "Tell me that you'd be my baby\n",
            "\n"
          ]
        }
      ]
    },
    {
      "cell_type": "code",
      "source": [
        "# 문자 탐색 패턴\n",
        "source = \"cat\"\n",
        "\n",
        "pattern = \"[ac]\" # 대괄호 패턴은 대괄호 내에 있는 한개의 문자가 매칭 된다면\n",
        "# a 또는 c를 찾는 것, 각각의 하나의 문자마다 매칭\n",
        "\n",
        "re.findall(pattern, source)"
      ],
      "metadata": {
        "colab": {
          "base_uri": "https://localhost:8080/"
        },
        "id": "ohZl2kARx7Ko",
        "outputId": "d6b58bf5-08a9-4836-d2e3-8eb04393edfa"
      },
      "execution_count": 18,
      "outputs": [
        {
          "output_type": "execute_result",
          "data": {
            "text/plain": [
              "['c', 'a']"
            ]
          },
          "metadata": {},
          "execution_count": 18
        }
      ]
    },
    {
      "cell_type": "code",
      "source": [
        "# 글자를 탐색을 할 건데, 범위를 지정하려면 -를 사용한다.\n",
        "\n",
        "pattern = \"[a-c]\" # a부터 c까지 한 글자를 매칭하는 패턴\n",
        "\n",
        "re.findall(pattern, source)"
      ],
      "metadata": {
        "colab": {
          "base_uri": "https://localhost:8080/"
        },
        "id": "VEBR9S-JynNC",
        "outputId": "e6453c65-1e78-415c-db3e-01abc551b47f"
      },
      "execution_count": 19,
      "outputs": [
        {
          "output_type": "execute_result",
          "data": {
            "text/plain": [
              "['c', 'a']"
            ]
          },
          "metadata": {},
          "execution_count": 19
        }
      ]
    },
    {
      "cell_type": "code",
      "source": [
        "# 모든 영어 알파벳 찾기 패턴\n",
        "pattern = \"[a-zA-Z]\"\n",
        "re.findall(pattern, source)"
      ],
      "metadata": {
        "colab": {
          "base_uri": "https://localhost:8080/"
        },
        "id": "1RnTsYG3zK0m",
        "outputId": "41416a71-16d8-4ea0-c824-d8a03548e761"
      },
      "execution_count": 20,
      "outputs": [
        {
          "output_type": "execute_result",
          "data": {
            "text/plain": [
              "['c', 'a', 't']"
            ]
          },
          "metadata": {},
          "execution_count": 20
        }
      ]
    },
    {
      "cell_type": "code",
      "source": [
        "# 모든 한글 알파벳 찾기 패턴\n",
        "#   꺽쇠(^)가 붙으면 Not의 의미\n",
        "pattern = \"[^ㄱ-하-ㅣ가-힣]\"\n",
        "source = \"가나다라마바사ABCD아자차카타EFG파하\"\n",
        "\n",
        "re.sub(pattern,\"\", source) # 한글이 아니면 \"\"로 치환하라"
      ],
      "metadata": {
        "colab": {
          "base_uri": "https://localhost:8080/",
          "height": 35
        },
        "id": "7H7KncShzbqe",
        "outputId": "492d9329-3253-45c8-f3a4-7548fd379696"
      },
      "execution_count": 23,
      "outputs": [
        {
          "output_type": "execute_result",
          "data": {
            "text/plain": [
              "'가나다라마바사아자차카타파하'"
            ],
            "application/vnd.google.colaboratory.intrinsic+json": {
              "type": "string"
            }
          },
          "metadata": {},
          "execution_count": 23
        }
      ]
    },
    {
      "cell_type": "code",
      "source": [
        "pattern = \"ca*t\" # c로 시작하고 a가 0번이상 반복되고, 제일 마지막에 t (*은 앞의 글자가 있어도 되고 없어도 된다는 뜻)\n",
        "\n",
        "re.findall(pattern, \"ct\")"
      ],
      "metadata": {
        "colab": {
          "base_uri": "https://localhost:8080/"
        },
        "id": "4EAhN4p7z3zT",
        "outputId": "a95b03c5-2fea-4c79-89c9-2e890de394ab"
      },
      "execution_count": 24,
      "outputs": [
        {
          "output_type": "execute_result",
          "data": {
            "text/plain": [
              "['ct']"
            ]
          },
          "metadata": {},
          "execution_count": 24
        }
      ]
    },
    {
      "cell_type": "code",
      "source": [
        "pattern = \"ca+t\" # c로 시작되고, a가 1번 이상 반복되고, 제일 마지막에 t\n",
        "\n",
        "re.findall(pattern, \"ct\") # a가 한개도 없기 때문에 아무것도 나오지 않음"
      ],
      "metadata": {
        "colab": {
          "base_uri": "https://localhost:8080/"
        },
        "id": "5pl1DFcS0tsD",
        "outputId": "341db126-182c-4f75-fd0c-437b82d2c411"
      },
      "execution_count": 25,
      "outputs": [
        {
          "output_type": "execute_result",
          "data": {
            "text/plain": [
              "[]"
            ]
          },
          "metadata": {},
          "execution_count": 25
        }
      ]
    },
    {
      "cell_type": "code",
      "source": [
        "re.findall(pattern, \"caaaaat\") # a가 여러번 반복되는 것은 찾을 수 있음"
      ],
      "metadata": {
        "colab": {
          "base_uri": "https://localhost:8080/"
        },
        "id": "MijLIEPa08pV",
        "outputId": "18898198-48de-4e4b-c716-e87f37576742"
      },
      "execution_count": 26,
      "outputs": [
        {
          "output_type": "execute_result",
          "data": {
            "text/plain": [
              "['caaaaat']"
            ]
          },
          "metadata": {},
          "execution_count": 26
        }
      ]
    },
    {
      "cell_type": "code",
      "source": [
        "# c로 시작하고, 어떤 영어 알파벳 소문자가 5번 반복되고, 제일 마지막에 t가 오는 패턴\n",
        "pattern = \"c[a-z]{5}t\"\n",
        "\n",
        "re.findall(pattern, \"cabAdet\") # 소문자 패턴만 입력했기 때문에 대문자가 하나 들어가면 출력결과가 없음"
      ],
      "metadata": {
        "colab": {
          "base_uri": "https://localhost:8080/"
        },
        "id": "uOuAfBy91HPN",
        "outputId": "fe9abb8e-edad-4ef3-c01a-a09aa40c1b6e"
      },
      "execution_count": 28,
      "outputs": [
        {
          "output_type": "execute_result",
          "data": {
            "text/plain": [
              "[]"
            ]
          },
          "metadata": {},
          "execution_count": 28
        }
      ]
    },
    {
      "cell_type": "code",
      "source": [
        "# greedy 패턴\n",
        "#   패턴이 안보여도 끝까지 다 먹는 상황 (*)\n",
        "#   제일 마지막 글자까지 먹기 위해서 *을 사용하면 쓸데 없는 패턴이 보인다.\n",
        "re.findall(\"[a-c]*\", \"caca\") # a-c까지가 0개 이상 반복되는 패턴\n",
        "# caca까지 다 찾고 찾아낼 것이 없는데도 또 찾아냄 (중간에 사용하는 것이 좋음 마지막에 사용하면 비어있는 문자열)"
      ],
      "metadata": {
        "colab": {
          "base_uri": "https://localhost:8080/"
        },
        "id": "dE0OTpkr1lqM",
        "outputId": "a2415a7e-1f9d-4db1-bfe7-b8c0183413a6"
      },
      "execution_count": 31,
      "outputs": [
        {
          "output_type": "execute_result",
          "data": {
            "text/plain": [
              "['caca', '']"
            ]
          },
          "metadata": {},
          "execution_count": 31
        }
      ]
    },
    {
      "cell_type": "code",
      "source": [
        "# Non-Greedy 패턴\n",
        "re.findall(\"[a-c]+\", \"caca\")"
      ],
      "metadata": {
        "colab": {
          "base_uri": "https://localhost:8080/"
        },
        "id": "Jn1JL5Iz41YG",
        "outputId": "2f8e0215-a6ea-491b-b9ed-62cf14f6307d"
      },
      "execution_count": 32,
      "outputs": [
        {
          "output_type": "execute_result",
          "data": {
            "text/plain": [
              "['caca']"
            ]
          },
          "metadata": {},
          "execution_count": 32
        }
      ]
    },
    {
      "cell_type": "code",
      "source": [
        "# 반복 횟수 패턴\n",
        "pattern = \"a{2,4}\" # a가 두번 이상 네번 이하 반복되는 패턴\n",
        "\n",
        "re.findall(pattern, \"cat\")"
      ],
      "metadata": {
        "colab": {
          "base_uri": "https://localhost:8080/"
        },
        "id": "zcXtmioU5sHO",
        "outputId": "e107d902-6128-41e9-be90-d250e206e0c6"
      },
      "execution_count": 33,
      "outputs": [
        {
          "output_type": "execute_result",
          "data": {
            "text/plain": [
              "[]"
            ]
          },
          "metadata": {},
          "execution_count": 33
        }
      ]
    },
    {
      "cell_type": "code",
      "source": [
        "re.findall(pattern, \"caat\")"
      ],
      "metadata": {
        "colab": {
          "base_uri": "https://localhost:8080/"
        },
        "id": "7bE52l-75_uZ",
        "outputId": "66873ea5-1cb7-4ed3-828e-9db6c563f38f"
      },
      "execution_count": 34,
      "outputs": [
        {
          "output_type": "execute_result",
          "data": {
            "text/plain": [
              "['aa']"
            ]
          },
          "metadata": {},
          "execution_count": 34
        }
      ]
    },
    {
      "cell_type": "code",
      "source": [
        "re.findall(pattern, \"caaat\")"
      ],
      "metadata": {
        "colab": {
          "base_uri": "https://localhost:8080/"
        },
        "id": "owobxF9p6Fpq",
        "outputId": "5f7b3474-adf1-437d-a3c7-84a47c9d1d25"
      },
      "execution_count": 35,
      "outputs": [
        {
          "output_type": "execute_result",
          "data": {
            "text/plain": [
              "['aaa']"
            ]
          },
          "metadata": {},
          "execution_count": 35
        }
      ]
    },
    {
      "cell_type": "code",
      "source": [
        "re.findall(pattern, \"caaaat\")"
      ],
      "metadata": {
        "colab": {
          "base_uri": "https://localhost:8080/"
        },
        "id": "UF78GtLH6Jdl",
        "outputId": "da937b5a-41f9-47e8-a832-51d3f26f2835"
      },
      "execution_count": 36,
      "outputs": [
        {
          "output_type": "execute_result",
          "data": {
            "text/plain": [
              "['aaaa']"
            ]
          },
          "metadata": {},
          "execution_count": 36
        }
      ]
    },
    {
      "cell_type": "code",
      "source": [
        "re.findall(pattern, \"caaaaat\") # a가 다섯개로 넘어가도 잡히긴하지만 결과는 네개로만 나옴"
      ],
      "metadata": {
        "colab": {
          "base_uri": "https://localhost:8080/"
        },
        "id": "2Js-Qc-16LQL",
        "outputId": "9fc1a819-6153-4c75-ce6b-5d21a38c39ec"
      },
      "execution_count": 37,
      "outputs": [
        {
          "output_type": "execute_result",
          "data": {
            "text/plain": [
              "['aaaa']"
            ]
          },
          "metadata": {},
          "execution_count": 37
        }
      ]
    },
    {
      "cell_type": "code",
      "source": [
        "# OR 패턴\n",
        "source = \"\"\"Oh her eyes her eyes\n",
        "Make the stars look like they're not shining\n",
        "Her hair her hair\n",
        "Falls perfectly without her trying\n",
        "\"\"\"\n",
        "\n",
        "re.findall(\"eye|hair\", source)"
      ],
      "metadata": {
        "colab": {
          "base_uri": "https://localhost:8080/"
        },
        "id": "x-p4Yhar6QIF",
        "outputId": "a89e8a4a-60de-46a9-d29a-454f1aac5e82"
      },
      "execution_count": 38,
      "outputs": [
        {
          "output_type": "execute_result",
          "data": {
            "text/plain": [
              "['eye', 'eye', 'hair', 'hair']"
            ]
          },
          "metadata": {},
          "execution_count": 38
        }
      ]
    },
    {
      "cell_type": "code",
      "source": [
        "# e로 시작하고, 소문자 알파벳이 n개 존재하거나, w로 시작하고, 소문자 알파벳이 n개 존재하는 경우\n",
        "#   -> e로 시작하거나, w로 시작하는 단어\n",
        "pattern = \"e[a-z]+|h[a-z]+\"\n",
        "\n",
        "re.findall(pattern, source)"
      ],
      "metadata": {
        "colab": {
          "base_uri": "https://localhost:8080/"
        },
        "id": "W9cQaT5K63Ky",
        "outputId": "e981dbd2-5cc9-4b5a-b01c-f863295a4cfd"
      },
      "execution_count": 39,
      "outputs": [
        {
          "output_type": "execute_result",
          "data": {
            "text/plain": [
              "['her',\n",
              " 'eyes',\n",
              " 'her',\n",
              " 'eyes',\n",
              " 'he',\n",
              " 'hey',\n",
              " 'hining',\n",
              " 'er',\n",
              " 'hair',\n",
              " 'her',\n",
              " 'hair',\n",
              " 'erfectly',\n",
              " 'hout',\n",
              " 'her']"
            ]
          },
          "metadata": {},
          "execution_count": 39
        }
      ]
    },
    {
      "cell_type": "code",
      "source": [
        "# ing로 끝나는 단어 찾기\n",
        "pattern = \"[a-z]+ing$\" # $ : 문장 자체의 끝\n",
        "\n",
        "re.findall(pattern, source)"
      ],
      "metadata": {
        "colab": {
          "base_uri": "https://localhost:8080/"
        },
        "id": "7T8anoxv7Y8E",
        "outputId": "b590eba6-bffb-49d8-a6c1-8d6f5da3c347"
      },
      "execution_count": 41,
      "outputs": [
        {
          "output_type": "execute_result",
          "data": {
            "text/plain": [
              "['trying']"
            ]
          },
          "metadata": {},
          "execution_count": 41
        }
      ]
    },
    {
      "cell_type": "code",
      "source": [
        "# 문단을 개행라인으로 나워서 문장 단위에서 찾기\n",
        "re.findall(pattern, source, re.MULTILINE) # MULTILINE 옵션을 이용하면 문단 내 문장 기준"
      ],
      "metadata": {
        "colab": {
          "base_uri": "https://localhost:8080/"
        },
        "id": "GDlo4sm771Jk",
        "outputId": "43f1e455-3bc2-4dff-dd49-d8a4e079d22e"
      },
      "execution_count": 42,
      "outputs": [
        {
          "output_type": "execute_result",
          "data": {
            "text/plain": [
              "['shining', 'trying']"
            ]
          },
          "metadata": {},
          "execution_count": 42
        }
      ]
    },
    {
      "cell_type": "code",
      "source": [],
      "metadata": {
        "id": "3yI4kQkI8h4f"
      },
      "execution_count": null,
      "outputs": []
    }
  ]
}